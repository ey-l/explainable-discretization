{
 "cells": [
  {
   "cell_type": "code",
   "execution_count": 2,
   "metadata": {},
   "outputs": [],
   "source": [
    "import pandas as pd\n",
    "import numpy as np\n",
    "import sys\n",
    "import os\n",
    "import matplotlib.pyplot as plt\n",
    "import graphviz\n",
    "import itertools\n",
    "#from sklearn.inspection import DecisionBoundaryDisplay\n",
    "from sklearn.tree import DecisionTreeClassifier, plot_tree\n",
    "from sklearn.model_selection import train_test_split\n",
    "from sklearn.impute import KNNImputer\n",
    "from sklearn import tree\n",
    "from sklearn.metrics import accuracy_score, confusion_matrix, classification_report, mean_absolute_error\n",
    "from typing import List, Union, Any, Tuple, Dict\n",
    "import time\n",
    "from permetrics.regression import RegressionMetric\n",
    "import oapackage\n",
    "\n",
    "import warnings\n",
    "warnings.filterwarnings('ignore')\n",
    "\n",
    "# Project path\n",
    "ppath = sys.path[0] + '/../'\n",
    "sys.path.append(os.path.join(ppath, 'code'))\n",
    "from discretizers import *"
   ]
  },
  {
   "cell_type": "markdown",
   "metadata": {},
   "source": [
    "This notebook explores the data imputation use case."
   ]
  },
  {
   "cell_type": "code",
   "execution_count": 3,
   "metadata": {},
   "outputs": [
    {
     "data": {
      "text/html": [
       "<div>\n",
       "<style scoped>\n",
       "    .dataframe tbody tr th:only-of-type {\n",
       "        vertical-align: middle;\n",
       "    }\n",
       "\n",
       "    .dataframe tbody tr th {\n",
       "        vertical-align: top;\n",
       "    }\n",
       "\n",
       "    .dataframe thead th {\n",
       "        text-align: right;\n",
       "    }\n",
       "</style>\n",
       "<table border=\"1\" class=\"dataframe\">\n",
       "  <thead>\n",
       "    <tr style=\"text-align: right;\">\n",
       "      <th></th>\n",
       "      <th>Pregnancies</th>\n",
       "      <th>Glucose</th>\n",
       "      <th>BloodPressure</th>\n",
       "      <th>SkinThickness</th>\n",
       "      <th>Insulin</th>\n",
       "      <th>BMI</th>\n",
       "      <th>DiabetesPedigreeFunction</th>\n",
       "      <th>Age</th>\n",
       "      <th>Outcome</th>\n",
       "    </tr>\n",
       "  </thead>\n",
       "  <tbody>\n",
       "    <tr>\n",
       "      <th>count</th>\n",
       "      <td>768.000000</td>\n",
       "      <td>768.000000</td>\n",
       "      <td>768.000000</td>\n",
       "      <td>768.000000</td>\n",
       "      <td>768.000000</td>\n",
       "      <td>768.000000</td>\n",
       "      <td>768.000000</td>\n",
       "      <td>768.000000</td>\n",
       "      <td>768.000000</td>\n",
       "    </tr>\n",
       "    <tr>\n",
       "      <th>mean</th>\n",
       "      <td>3.845052</td>\n",
       "      <td>120.894531</td>\n",
       "      <td>69.105469</td>\n",
       "      <td>20.536458</td>\n",
       "      <td>79.799479</td>\n",
       "      <td>31.992578</td>\n",
       "      <td>0.471876</td>\n",
       "      <td>33.240885</td>\n",
       "      <td>0.348958</td>\n",
       "    </tr>\n",
       "    <tr>\n",
       "      <th>std</th>\n",
       "      <td>3.369578</td>\n",
       "      <td>31.972618</td>\n",
       "      <td>19.355807</td>\n",
       "      <td>15.952218</td>\n",
       "      <td>115.244002</td>\n",
       "      <td>7.884160</td>\n",
       "      <td>0.331329</td>\n",
       "      <td>11.760232</td>\n",
       "      <td>0.476951</td>\n",
       "    </tr>\n",
       "    <tr>\n",
       "      <th>min</th>\n",
       "      <td>0.000000</td>\n",
       "      <td>0.000000</td>\n",
       "      <td>0.000000</td>\n",
       "      <td>0.000000</td>\n",
       "      <td>0.000000</td>\n",
       "      <td>0.000000</td>\n",
       "      <td>0.078000</td>\n",
       "      <td>21.000000</td>\n",
       "      <td>0.000000</td>\n",
       "    </tr>\n",
       "    <tr>\n",
       "      <th>25%</th>\n",
       "      <td>1.000000</td>\n",
       "      <td>99.000000</td>\n",
       "      <td>62.000000</td>\n",
       "      <td>0.000000</td>\n",
       "      <td>0.000000</td>\n",
       "      <td>27.300000</td>\n",
       "      <td>0.243750</td>\n",
       "      <td>24.000000</td>\n",
       "      <td>0.000000</td>\n",
       "    </tr>\n",
       "    <tr>\n",
       "      <th>50%</th>\n",
       "      <td>3.000000</td>\n",
       "      <td>117.000000</td>\n",
       "      <td>72.000000</td>\n",
       "      <td>23.000000</td>\n",
       "      <td>30.500000</td>\n",
       "      <td>32.000000</td>\n",
       "      <td>0.372500</td>\n",
       "      <td>29.000000</td>\n",
       "      <td>0.000000</td>\n",
       "    </tr>\n",
       "    <tr>\n",
       "      <th>75%</th>\n",
       "      <td>6.000000</td>\n",
       "      <td>140.250000</td>\n",
       "      <td>80.000000</td>\n",
       "      <td>32.000000</td>\n",
       "      <td>127.250000</td>\n",
       "      <td>36.600000</td>\n",
       "      <td>0.626250</td>\n",
       "      <td>41.000000</td>\n",
       "      <td>1.000000</td>\n",
       "    </tr>\n",
       "    <tr>\n",
       "      <th>max</th>\n",
       "      <td>17.000000</td>\n",
       "      <td>199.000000</td>\n",
       "      <td>122.000000</td>\n",
       "      <td>99.000000</td>\n",
       "      <td>846.000000</td>\n",
       "      <td>67.100000</td>\n",
       "      <td>2.420000</td>\n",
       "      <td>81.000000</td>\n",
       "      <td>1.000000</td>\n",
       "    </tr>\n",
       "  </tbody>\n",
       "</table>\n",
       "</div>"
      ],
      "text/plain": [
       "       Pregnancies     Glucose  BloodPressure  SkinThickness     Insulin  \\\n",
       "count   768.000000  768.000000     768.000000     768.000000  768.000000   \n",
       "mean      3.845052  120.894531      69.105469      20.536458   79.799479   \n",
       "std       3.369578   31.972618      19.355807      15.952218  115.244002   \n",
       "min       0.000000    0.000000       0.000000       0.000000    0.000000   \n",
       "25%       1.000000   99.000000      62.000000       0.000000    0.000000   \n",
       "50%       3.000000  117.000000      72.000000      23.000000   30.500000   \n",
       "75%       6.000000  140.250000      80.000000      32.000000  127.250000   \n",
       "max      17.000000  199.000000     122.000000      99.000000  846.000000   \n",
       "\n",
       "              BMI  DiabetesPedigreeFunction         Age     Outcome  \n",
       "count  768.000000                768.000000  768.000000  768.000000  \n",
       "mean    31.992578                  0.471876   33.240885    0.348958  \n",
       "std      7.884160                  0.331329   11.760232    0.476951  \n",
       "min      0.000000                  0.078000   21.000000    0.000000  \n",
       "25%     27.300000                  0.243750   24.000000    0.000000  \n",
       "50%     32.000000                  0.372500   29.000000    0.000000  \n",
       "75%     36.600000                  0.626250   41.000000    1.000000  \n",
       "max     67.100000                  2.420000   81.000000    1.000000  "
      ]
     },
     "execution_count": 3,
     "metadata": {},
     "output_type": "execute_result"
    }
   ],
   "source": [
    "df = pd.read_csv(os.path.join(ppath, 'data', 'uciml_pima-indians-diabetes-database', 'diabetes.csv'))\n",
    "df.describe()"
   ]
  },
  {
   "cell_type": "code",
   "execution_count": 4,
   "metadata": {},
   "outputs": [],
   "source": [
    "# Randomly replace 20% of the Age column with NaN values\n",
    "data = df.copy()\n",
    "df_nan = df.sample(frac=0.3, random_state=42)\n",
    "data.loc[df.index.isin(df_nan.index),'Age'] = np.nan"
   ]
  },
  {
   "cell_type": "code",
   "execution_count": 5,
   "metadata": {},
   "outputs": [
    {
     "data": {
      "text/html": [
       "<div>\n",
       "<style scoped>\n",
       "    .dataframe tbody tr th:only-of-type {\n",
       "        vertical-align: middle;\n",
       "    }\n",
       "\n",
       "    .dataframe tbody tr th {\n",
       "        vertical-align: top;\n",
       "    }\n",
       "\n",
       "    .dataframe thead th {\n",
       "        text-align: right;\n",
       "    }\n",
       "</style>\n",
       "<table border=\"1\" class=\"dataframe\">\n",
       "  <thead>\n",
       "    <tr style=\"text-align: right;\">\n",
       "      <th></th>\n",
       "      <th>Pregnancies</th>\n",
       "      <th>Glucose</th>\n",
       "      <th>BloodPressure</th>\n",
       "      <th>SkinThickness</th>\n",
       "      <th>Insulin</th>\n",
       "      <th>BMI</th>\n",
       "      <th>DiabetesPedigreeFunction</th>\n",
       "      <th>Age</th>\n",
       "      <th>Outcome</th>\n",
       "    </tr>\n",
       "  </thead>\n",
       "  <tbody>\n",
       "    <tr>\n",
       "      <th>0</th>\n",
       "      <td>6</td>\n",
       "      <td>148</td>\n",
       "      <td>72</td>\n",
       "      <td>35</td>\n",
       "      <td>0</td>\n",
       "      <td>33.6</td>\n",
       "      <td>0.627</td>\n",
       "      <td>50.0</td>\n",
       "      <td>1</td>\n",
       "    </tr>\n",
       "    <tr>\n",
       "      <th>1</th>\n",
       "      <td>1</td>\n",
       "      <td>85</td>\n",
       "      <td>66</td>\n",
       "      <td>29</td>\n",
       "      <td>0</td>\n",
       "      <td>26.6</td>\n",
       "      <td>0.351</td>\n",
       "      <td>31.0</td>\n",
       "      <td>0</td>\n",
       "    </tr>\n",
       "    <tr>\n",
       "      <th>2</th>\n",
       "      <td>8</td>\n",
       "      <td>183</td>\n",
       "      <td>64</td>\n",
       "      <td>0</td>\n",
       "      <td>0</td>\n",
       "      <td>23.3</td>\n",
       "      <td>0.672</td>\n",
       "      <td>NaN</td>\n",
       "      <td>1</td>\n",
       "    </tr>\n",
       "    <tr>\n",
       "      <th>3</th>\n",
       "      <td>1</td>\n",
       "      <td>89</td>\n",
       "      <td>66</td>\n",
       "      <td>23</td>\n",
       "      <td>94</td>\n",
       "      <td>28.1</td>\n",
       "      <td>0.167</td>\n",
       "      <td>21.0</td>\n",
       "      <td>0</td>\n",
       "    </tr>\n",
       "    <tr>\n",
       "      <th>4</th>\n",
       "      <td>0</td>\n",
       "      <td>137</td>\n",
       "      <td>40</td>\n",
       "      <td>35</td>\n",
       "      <td>168</td>\n",
       "      <td>43.1</td>\n",
       "      <td>2.288</td>\n",
       "      <td>33.0</td>\n",
       "      <td>1</td>\n",
       "    </tr>\n",
       "  </tbody>\n",
       "</table>\n",
       "</div>"
      ],
      "text/plain": [
       "   Pregnancies  Glucose  BloodPressure  SkinThickness  Insulin   BMI  \\\n",
       "0            6      148             72             35        0  33.6   \n",
       "1            1       85             66             29        0  26.6   \n",
       "2            8      183             64              0        0  23.3   \n",
       "3            1       89             66             23       94  28.1   \n",
       "4            0      137             40             35      168  43.1   \n",
       "\n",
       "   DiabetesPedigreeFunction   Age  Outcome  \n",
       "0                     0.627  50.0        1  \n",
       "1                     0.351  31.0        0  \n",
       "2                     0.672   NaN        1  \n",
       "3                     0.167  21.0        0  \n",
       "4                     2.288  33.0        1  "
      ]
     },
     "execution_count": 5,
     "metadata": {},
     "output_type": "execute_result"
    }
   ],
   "source": [
    "data.head()"
   ]
  },
  {
   "cell_type": "code",
   "execution_count": 6,
   "metadata": {},
   "outputs": [
    {
     "data": {
      "image/png": "[encoded data removed]",
      "text/plain": [
       "<Figure size 720x360 with 2 Axes>"
      ]
     },
     "metadata": {
      "needs_background": "light"
     },
     "output_type": "display_data"
    },
    {
     "name": "stdout",
     "output_type": "stream",
     "text": [
      "MAE imputation: 2.89453125\n",
      "8.73668896216081\n"
     ]
    }
   ],
   "source": [
    "# Impute missing values using SimpleImputer in sklearn\n",
    "from sklearn.impute import SimpleImputer\n",
    "imp_mean = SimpleImputer(missing_values=np.nan, strategy='mean')\n",
    "data_imputed = imp_mean.fit_transform(data['Age'].values.reshape(-1, 1))\n",
    "data_imputed = np.round(data_imputed)\n",
    "\n",
    "# Compare the distribution of Age before and after imputation\n",
    "fig = plt.figure(figsize=(10, 5))\n",
    "ax1 = fig.add_subplot(121)\n",
    "df['Age'].plot(kind='hist', ax=ax1, title='Age before imputation')\n",
    "ax2 = fig.add_subplot(122)\n",
    "pd.DataFrame(data_imputed).plot(kind='hist', ax=ax2, title='Age after imputation')\n",
    "plt.show()\n",
    "\n",
    "y_true = df['Age'].values\n",
    "y_pred = data_imputed.flatten()\n",
    "print('MAE imputation:', mean_absolute_error(y_true, y_pred))\n",
    "evaluator = RegressionMetric(y_true, y_pred)\n",
    "print(evaluator.mean_relative_error()*100)"
   ]
  },
  {
   "cell_type": "code",
   "execution_count": 23,
   "metadata": {},
   "outputs": [
    {
     "data": {
      "image/png": "[encoded data removed]",
      "text/plain": [
       "<Figure size 720x360 with 2 Axes>"
      ]
     },
     "metadata": {
      "needs_background": "light"
     },
     "output_type": "display_data"
    },
    {
     "name": "stdout",
     "output_type": "stream",
     "text": [
      "MAE imputation: 3.5247395833333335\n",
      "8.381305780774468\n"
     ]
    }
   ],
   "source": [
    "imp_mean = SimpleImputer(missing_values=np.nan, strategy='most_frequent')\n",
    "data_imputed = imp_mean.fit_transform(data['Age'].values.reshape(-1, 1))\n",
    "data_imputed = np.round(data_imputed)\n",
    "\n",
    "# Compare the distribution of Age before and after imputation\n",
    "fig = plt.figure(figsize=(10, 5))\n",
    "ax1 = fig.add_subplot(121)\n",
    "df['Age'].plot(kind='hist', ax=ax1, title='Age before imputation')\n",
    "ax2 = fig.add_subplot(122)\n",
    "pd.DataFrame(data_imputed).plot(kind='hist', ax=ax2, title='Age after imputation')\n",
    "plt.show()\n",
    "\n",
    "y_true = df['Age'].values\n",
    "y_pred = data_imputed.flatten()\n",
    "print('MAE imputation:', mean_absolute_error(y_true, y_pred))\n",
    "evaluator = RegressionMetric(y_true, y_pred)\n",
    "print(evaluator.mean_relative_error()*100)"
   ]
  },
  {
   "cell_type": "code",
   "execution_count": 19,
   "metadata": {},
   "outputs": [
    {
     "data": {
      "text/html": [
       "<div>\n",
       "<style scoped>\n",
       "    .dataframe tbody tr th:only-of-type {\n",
       "        vertical-align: middle;\n",
       "    }\n",
       "\n",
       "    .dataframe tbody tr th {\n",
       "        vertical-align: top;\n",
       "    }\n",
       "\n",
       "    .dataframe thead th {\n",
       "        text-align: right;\n",
       "    }\n",
       "</style>\n",
       "<table border=\"1\" class=\"dataframe\">\n",
       "  <thead>\n",
       "    <tr style=\"text-align: right;\">\n",
       "      <th></th>\n",
       "      <th>Pregnancies</th>\n",
       "      <th>Glucose</th>\n",
       "      <th>BloodPressure</th>\n",
       "      <th>SkinThickness</th>\n",
       "      <th>Insulin</th>\n",
       "      <th>BMI</th>\n",
       "      <th>DiabetesPedigreeFunction</th>\n",
       "      <th>Age</th>\n",
       "      <th>Outcome</th>\n",
       "    </tr>\n",
       "  </thead>\n",
       "  <tbody>\n",
       "    <tr>\n",
       "      <th>0</th>\n",
       "      <td>6</td>\n",
       "      <td>148</td>\n",
       "      <td>72</td>\n",
       "      <td>35</td>\n",
       "      <td>0</td>\n",
       "      <td>33.6</td>\n",
       "      <td>0.627</td>\n",
       "      <td>50.0</td>\n",
       "      <td>1</td>\n",
       "    </tr>\n",
       "    <tr>\n",
       "      <th>1</th>\n",
       "      <td>1</td>\n",
       "      <td>85</td>\n",
       "      <td>66</td>\n",
       "      <td>29</td>\n",
       "      <td>0</td>\n",
       "      <td>26.6</td>\n",
       "      <td>0.351</td>\n",
       "      <td>31.0</td>\n",
       "      <td>0</td>\n",
       "    </tr>\n",
       "    <tr>\n",
       "      <th>2</th>\n",
       "      <td>8</td>\n",
       "      <td>183</td>\n",
       "      <td>64</td>\n",
       "      <td>0</td>\n",
       "      <td>0</td>\n",
       "      <td>23.3</td>\n",
       "      <td>0.672</td>\n",
       "      <td>33.0</td>\n",
       "      <td>1</td>\n",
       "    </tr>\n",
       "    <tr>\n",
       "      <th>3</th>\n",
       "      <td>1</td>\n",
       "      <td>89</td>\n",
       "      <td>66</td>\n",
       "      <td>23</td>\n",
       "      <td>94</td>\n",
       "      <td>28.1</td>\n",
       "      <td>0.167</td>\n",
       "      <td>21.0</td>\n",
       "      <td>0</td>\n",
       "    </tr>\n",
       "    <tr>\n",
       "      <th>4</th>\n",
       "      <td>0</td>\n",
       "      <td>137</td>\n",
       "      <td>40</td>\n",
       "      <td>35</td>\n",
       "      <td>168</td>\n",
       "      <td>43.1</td>\n",
       "      <td>2.288</td>\n",
       "      <td>33.0</td>\n",
       "      <td>1</td>\n",
       "    </tr>\n",
       "  </tbody>\n",
       "</table>\n",
       "</div>"
      ],
      "text/plain": [
       "   Pregnancies  Glucose  BloodPressure  SkinThickness  Insulin   BMI  \\\n",
       "0            6      148             72             35        0  33.6   \n",
       "1            1       85             66             29        0  26.6   \n",
       "2            8      183             64              0        0  23.3   \n",
       "3            1       89             66             23       94  28.1   \n",
       "4            0      137             40             35      168  43.1   \n",
       "\n",
       "   DiabetesPedigreeFunction   Age  Outcome  \n",
       "0                     0.627  50.0        1  \n",
       "1                     0.351  31.0        0  \n",
       "2                     0.672  33.0        1  \n",
       "3                     0.167  21.0        0  \n",
       "4                     2.288  33.0        1  "
      ]
     },
     "execution_count": 19,
     "metadata": {},
     "output_type": "execute_result"
    }
   ],
   "source": [
    "data1 = data.copy()\n",
    "data1['Age'] = data_imputed\n",
    "data1.head()"
   ]
  },
  {
   "cell_type": "markdown",
   "metadata": {},
   "source": [
    "### Test it out"
   ]
  },
  {
   "cell_type": "code",
   "execution_count": 6,
   "metadata": {},
   "outputs": [],
   "source": [
    "# load json data from a file\n",
    "import json\n",
    "import ast\n",
    "f = open(os.path.join(ppath, 'scratch/age_partitions.json'), \"r\")\n",
    "data = json.load(f)\n",
    "f.close()\n",
    "binnings = list(eval(data))"
   ]
  },
  {
   "cell_type": "code",
   "execution_count": 10,
   "metadata": {},
   "outputs": [
    {
     "data": {
      "text/plain": [
       "{'bins': [0, 19, 45, 65, 85, 100],\n",
       " 'labels': ['0-18', '19-44', '45-64', '65-84', '85-100'],\n",
       " 'method': 'gold-standard',\n",
       " 'gpt': 0.0,\n",
       " 'l2_norm': 0.0,\n",
       " 'spearman': 0.9999999999999999,\n",
       " 'anova': 20.78361285152752}"
      ]
     },
     "execution_count": 10,
     "metadata": {},
     "output_type": "execute_result"
    }
   ],
   "source": [
    "binnings[0]"
   ]
  },
  {
   "cell_type": "code",
   "execution_count": 7,
   "metadata": {},
   "outputs": [],
   "source": [
    "# Randomly replace 20% of the Age column with NaN values\n",
    "data = df.copy()\n",
    "data['Age.gt'] = data['Age']\n",
    "df_nan = df.sample(frac=0.3, random_state=42)\n",
    "data.loc[df.index.isin(df_nan.index),'Age'] = np.nan"
   ]
  },
  {
   "cell_type": "code",
   "execution_count": 23,
   "metadata": {},
   "outputs": [
    {
     "data": {
      "text/html": [
       "<div>\n",
       "<style scoped>\n",
       "    .dataframe tbody tr th:only-of-type {\n",
       "        vertical-align: middle;\n",
       "    }\n",
       "\n",
       "    .dataframe tbody tr th {\n",
       "        vertical-align: top;\n",
       "    }\n",
       "\n",
       "    .dataframe thead th {\n",
       "        text-align: right;\n",
       "    }\n",
       "</style>\n",
       "<table border=\"1\" class=\"dataframe\">\n",
       "  <thead>\n",
       "    <tr style=\"text-align: right;\">\n",
       "      <th></th>\n",
       "      <th>Pregnancies</th>\n",
       "      <th>Glucose</th>\n",
       "      <th>BloodPressure</th>\n",
       "      <th>SkinThickness</th>\n",
       "      <th>Insulin</th>\n",
       "      <th>BMI</th>\n",
       "      <th>DiabetesPedigreeFunction</th>\n",
       "      <th>Age</th>\n",
       "      <th>Outcome</th>\n",
       "      <th>Age.gt</th>\n",
       "    </tr>\n",
       "  </thead>\n",
       "  <tbody>\n",
       "    <tr>\n",
       "      <th>0</th>\n",
       "      <td>6</td>\n",
       "      <td>148</td>\n",
       "      <td>72</td>\n",
       "      <td>35</td>\n",
       "      <td>0</td>\n",
       "      <td>33.6</td>\n",
       "      <td>0.627</td>\n",
       "      <td>50.0</td>\n",
       "      <td>1</td>\n",
       "      <td>50</td>\n",
       "    </tr>\n",
       "    <tr>\n",
       "      <th>1</th>\n",
       "      <td>1</td>\n",
       "      <td>85</td>\n",
       "      <td>66</td>\n",
       "      <td>29</td>\n",
       "      <td>0</td>\n",
       "      <td>26.6</td>\n",
       "      <td>0.351</td>\n",
       "      <td>31.0</td>\n",
       "      <td>0</td>\n",
       "      <td>31</td>\n",
       "    </tr>\n",
       "    <tr>\n",
       "      <th>2</th>\n",
       "      <td>8</td>\n",
       "      <td>183</td>\n",
       "      <td>64</td>\n",
       "      <td>0</td>\n",
       "      <td>0</td>\n",
       "      <td>23.3</td>\n",
       "      <td>0.672</td>\n",
       "      <td>NaN</td>\n",
       "      <td>1</td>\n",
       "      <td>32</td>\n",
       "    </tr>\n",
       "    <tr>\n",
       "      <th>3</th>\n",
       "      <td>1</td>\n",
       "      <td>89</td>\n",
       "      <td>66</td>\n",
       "      <td>23</td>\n",
       "      <td>94</td>\n",
       "      <td>28.1</td>\n",
       "      <td>0.167</td>\n",
       "      <td>21.0</td>\n",
       "      <td>0</td>\n",
       "      <td>21</td>\n",
       "    </tr>\n",
       "    <tr>\n",
       "      <th>4</th>\n",
       "      <td>0</td>\n",
       "      <td>137</td>\n",
       "      <td>40</td>\n",
       "      <td>35</td>\n",
       "      <td>168</td>\n",
       "      <td>43.1</td>\n",
       "      <td>2.288</td>\n",
       "      <td>33.0</td>\n",
       "      <td>1</td>\n",
       "      <td>33</td>\n",
       "    </tr>\n",
       "    <tr>\n",
       "      <th>...</th>\n",
       "      <td>...</td>\n",
       "      <td>...</td>\n",
       "      <td>...</td>\n",
       "      <td>...</td>\n",
       "      <td>...</td>\n",
       "      <td>...</td>\n",
       "      <td>...</td>\n",
       "      <td>...</td>\n",
       "      <td>...</td>\n",
       "      <td>...</td>\n",
       "    </tr>\n",
       "    <tr>\n",
       "      <th>763</th>\n",
       "      <td>10</td>\n",
       "      <td>101</td>\n",
       "      <td>76</td>\n",
       "      <td>48</td>\n",
       "      <td>180</td>\n",
       "      <td>32.9</td>\n",
       "      <td>0.171</td>\n",
       "      <td>NaN</td>\n",
       "      <td>0</td>\n",
       "      <td>63</td>\n",
       "    </tr>\n",
       "    <tr>\n",
       "      <th>764</th>\n",
       "      <td>2</td>\n",
       "      <td>122</td>\n",
       "      <td>70</td>\n",
       "      <td>27</td>\n",
       "      <td>0</td>\n",
       "      <td>36.8</td>\n",
       "      <td>0.340</td>\n",
       "      <td>NaN</td>\n",
       "      <td>0</td>\n",
       "      <td>27</td>\n",
       "    </tr>\n",
       "    <tr>\n",
       "      <th>765</th>\n",
       "      <td>5</td>\n",
       "      <td>121</td>\n",
       "      <td>72</td>\n",
       "      <td>23</td>\n",
       "      <td>112</td>\n",
       "      <td>26.2</td>\n",
       "      <td>0.245</td>\n",
       "      <td>30.0</td>\n",
       "      <td>0</td>\n",
       "      <td>30</td>\n",
       "    </tr>\n",
       "    <tr>\n",
       "      <th>766</th>\n",
       "      <td>1</td>\n",
       "      <td>126</td>\n",
       "      <td>60</td>\n",
       "      <td>0</td>\n",
       "      <td>0</td>\n",
       "      <td>30.1</td>\n",
       "      <td>0.349</td>\n",
       "      <td>47.0</td>\n",
       "      <td>1</td>\n",
       "      <td>47</td>\n",
       "    </tr>\n",
       "    <tr>\n",
       "      <th>767</th>\n",
       "      <td>1</td>\n",
       "      <td>93</td>\n",
       "      <td>70</td>\n",
       "      <td>31</td>\n",
       "      <td>0</td>\n",
       "      <td>30.4</td>\n",
       "      <td>0.315</td>\n",
       "      <td>23.0</td>\n",
       "      <td>0</td>\n",
       "      <td>23</td>\n",
       "    </tr>\n",
       "  </tbody>\n",
       "</table>\n",
       "<p>768 rows × 10 columns</p>\n",
       "</div>"
      ],
      "text/plain": [
       "     Pregnancies  Glucose  BloodPressure  SkinThickness  Insulin   BMI  \\\n",
       "0              6      148             72             35        0  33.6   \n",
       "1              1       85             66             29        0  26.6   \n",
       "2              8      183             64              0        0  23.3   \n",
       "3              1       89             66             23       94  28.1   \n",
       "4              0      137             40             35      168  43.1   \n",
       "..           ...      ...            ...            ...      ...   ...   \n",
       "763           10      101             76             48      180  32.9   \n",
       "764            2      122             70             27        0  36.8   \n",
       "765            5      121             72             23      112  26.2   \n",
       "766            1      126             60              0        0  30.1   \n",
       "767            1       93             70             31        0  30.4   \n",
       "\n",
       "     DiabetesPedigreeFunction   Age  Outcome  Age.gt  \n",
       "0                       0.627  50.0        1      50  \n",
       "1                       0.351  31.0        0      31  \n",
       "2                       0.672   NaN        1      32  \n",
       "3                       0.167  21.0        0      21  \n",
       "4                       2.288  33.0        1      33  \n",
       "..                        ...   ...      ...     ...  \n",
       "763                     0.171   NaN        0      63  \n",
       "764                     0.340   NaN        0      27  \n",
       "765                     0.245  30.0        0      30  \n",
       "766                     0.349  47.0        1      47  \n",
       "767                     0.315  23.0        0      23  \n",
       "\n",
       "[768 rows x 10 columns]"
      ]
     },
     "execution_count": 23,
     "metadata": {},
     "output_type": "execute_result"
    }
   ],
   "source": [
    "data"
   ]
  },
  {
   "cell_type": "code",
   "execution_count": 24,
   "metadata": {},
   "outputs": [
    {
     "data": {
      "text/plain": [
       "230"
      ]
     },
     "execution_count": 24,
     "metadata": {},
     "output_type": "execute_result"
    }
   ],
   "source": [
    "len(data[data['Age'].isnull()])"
   ]
  },
  {
   "cell_type": "code",
   "execution_count": 9,
   "metadata": {},
   "outputs": [],
   "source": [
    "data = data.drop(columns=['Glucose', 'BMI'])\n",
    "data['DiabetesPedigreeFunction.binned'] = pd.cut(data['DiabetesPedigreeFunction'], bins=[-1, 0.5, 1, 100], labels=[0.5, 1, 100])\n",
    "data['DiabetesPedigreeFunction.binned'] = data['DiabetesPedigreeFunction.binned'].astype('float64')\n",
    "data['Pregnancies.binned'] = pd.cut(data['Pregnancies'], bins=[-1, 2, 100], labels=[0, 1])\n",
    "data['Pregnancies.binned'] = data['Pregnancies.binned'].astype('int64')\n",
    "data['Insulin.binned'] = pd.cut(data['Insulin'], bins=[-1, 30, 120, 1000], labels=[30, 120, 1000])\n",
    "data['Insulin.binned'] = data['Insulin.binned'].astype('int64')\n",
    "data['BloodPressure.binned'] = pd.cut(data['BloodPressure'], bins=[-1, 60, 90, 100, 1000], labels=[60, 90, 100, 1000])\n",
    "data['BloodPressure.binned'] = data['BloodPressure.binned'].astype('int64')\n",
    "data['SkinThickness.binned'] = pd.cut(data['SkinThickness'], bins=[-1, 20, 40, 60, 80, 100], labels=[20, 40, 60, 80, 100])\n",
    "data['SkinThickness.binned'] = data['SkinThickness.binned'].astype('int64')"
   ]
  },
  {
   "cell_type": "code",
   "execution_count": 72,
   "metadata": {},
   "outputs": [
    {
     "name": "stdout",
     "output_type": "stream",
     "text": [
      "[0, 19, 45, 65, 85, 100]: 0.6688311688311688 1.0 0.9518229166666666\n",
      "[0, 2, 4, 6, 8, 10, 12, 14, 16, 18, 20, 22, 24, 26, 28, 30, 32, 34, 36, 38, 40, 42, 44, 46, 48, 50, 52, 54, 56, 58, 60, 62, 64, 66, 68, 70, 72, 74, 76, 78, 80, 82, 84, 86, 88, 90, 92, 94, 96, 98, 100]: 0.6753246753246753 0.0 0.7135416666666666\n",
      "[0, 5, 10, 15, 20, 25, 30, 35, 40, 45, 50, 55, 60, 65, 70, 75, 80, 85, 90, 95, 100]: 0.6688311688311688 0.8 0.73046875\n",
      "[0, 10, 20, 30, 40, 50, 60, 70, 80, 90, 100]: 0.6558441558441559 0.8 0.76171875\n",
      "[0, 20, 40, 60, 80, 100]: 0.6298701298701299 0.9 0.9231770833333334\n",
      "[0, 25, 50, 75, 100]: 0.6428571428571429 0.7 0.86328125\n",
      "[0, 30, 60, 90]: 0.6558441558441559 0.4 0.8268229166666666\n",
      "[0, 15, 25, 65, 101]: 0.6493506493506493 0.7 0.8984375\n",
      "[0, 3, 40, 60, 101]: 0.6298701298701299 0.30000000000000004 0.9231770833333334\n",
      "[0, 10, 30, 60, 80, 101]: 0.6558441558441559 0.7 0.8268229166666666\n",
      "[0.0, 29.0, 59.0]: 0.66 0.19999999999999996 0.8307291666666666\n",
      "[21.0, 30.0, 59.0]: 0.723404255319149 0.09999999999999998 0.8229166666666666\n",
      "[0.0, 25.0, 35.0, 59.0]: 0.64 0.19999999999999996 0.7916666666666666\n",
      "[21.0, 24.0, 30.0, 59.0]: 0.75177304964539 0.19999999999999996 0.8229166666666666\n",
      "[0.0, 24.0, 29.0, 39.0, 59.0]: 0.64 0.19999999999999996 0.765625\n",
      "[21.0, 24.0, 30.0, 42.0, 59.0]: 0.7446808510638298 0.19999999999999996 0.7760416666666666\n",
      "[0.0, 23.0, 26.0, 32.0, 41.0, 59.0]: 0.6466666666666666 0.09999999999999998 0.7552083333333334\n",
      "[21.0, 24.0, 30.0, 42.0, 54.0, 59.0]: 0.7588652482269503 0.09999999999999998 0.7760416666666666\n",
      "[0.0, 22.0, 25.0, 29.0, 35.0, 42.0, 59.0]: 0.68 0.19999999999999996 0.73828125\n",
      "[21.0, 24.0, 30.0, 42.0, 54.0, 59.0]: 0.7588652482269503 0.19999999999999996 0.7760416666666666\n",
      "[0.0, 22.0, 24.0, 27.0, 31.0, 37.0, 44.0, 59.0]: 0.6666666666666666 0.09999999999999998 0.7369791666666666\n",
      "[21.0, 24.0, 30.0, 42.0, 43.0, 54.0, 59.0]: 0.7588652482269503 0.19999999999999996 0.7760416666666666\n",
      "[0.0, 22.0, 24.0, 26.0, 29.0, 33.0, 39.0, 45.0, 59.0]: 0.6333333333333333 0.09999999999999998 0.7291666666666666\n",
      "[21.0, 24.0, 30.0, 42.0, 43.0, 48.0, 54.0, 59.0]: 0.7588652482269503 0.09999999999999998 0.7760416666666666\n",
      "[0.0, 22.0, 23.0, 25.0, 27.0, 30.0, 35.0, 40.0, 46.0, 59.0]: 0.66 0.09999999999999998 0.73046875\n",
      "[21.0, 24.0, 30.0, 42.0, 43.0, 47.0, 48.0, 54.0, 59.0]: 0.7588652482269503 0.09999999999999998 0.7760416666666666\n",
      "[0.0, 22.0, 23.0, 25.0, 26.0, 29.0, 32.0, 37.0, 41.0, 46.0, 59.0]: 0.6266666666666667 0.09999999999999998 0.73046875\n",
      "[21.0, 24.0, 30.0, 33.0, 42.0, 43.0, 47.0, 48.0, 54.0, 59.0]: 0.7588652482269503 0.30000000000000004 0.7213541666666666\n"
     ]
    }
   ],
   "source": [
    "tree_depth = 5\n",
    "col = 'Age'\n",
    "outs = []\n",
    "\n",
    "for i in binnings:\n",
    "\n",
    "    data_i = data.copy()\n",
    "    #data_i[col + '.binned'] = pd.cut(data_i[col], bins=i['bins'], labels=i['bins'][1:])\n",
    "    #data_i[col + '.binned'] = data_i[col + '.binned'].astype('float64')\n",
    "    imputer = KNNImputer(n_neighbors=len(i['bins'])-1)\n",
    "    data_imputed = imputer.fit_transform(data_i[col].values.reshape(-1, 1))\n",
    "    data_imputed = np.round(data_imputed)\n",
    "    data_i['Age.imputed'] = data_imputed\n",
    "    data_i[col + '.final'] = pd.cut(data_i[col+'.imputed'], bins=i['bins'], labels=i['bins'][1:])\n",
    "    data_i[col + '.final'] = data_i[col + '.final'].astype('float64')\n",
    "\n",
    "    if len(data_i[data_i[col + '.final'].isnull()]) > 200:\n",
    "        print(f\"Skipping {i['bins']}\")\n",
    "        continue\n",
    "    #data_i['Age.final'] = data_i['Age.final'].fillna(-1)\n",
    "    value_final = np.array(data_i['Age.final'].values)\n",
    "    value_final[np.isnan(value_final)] = -1\n",
    "\n",
    "    # Evaluate data imputation\n",
    "    data_i['Age.gt'] = pd.cut(data_i['Age.gt'], bins=i['bins'], labels=i['bins'][1:])\n",
    "    data_i['Age.gt'] = data_i['Age.gt'].astype('float64')\n",
    "    value_gt = np.array(data_i['Age.gt'].values)\n",
    "    value_gt[np.isnan(value_gt)] = -1\n",
    "    #data_i['Age.gt'] = data_i['Age.gt'].fillna(-1)\n",
    "    #data_i = data_i.dropna(subset=['Age.final', 'Age.gt'])\n",
    "    impute_accuracy = accuracy_score(value_gt, value_final)\n",
    "\n",
    "    data_i = data_i.dropna(subset=['Age.final'])\n",
    "    X = data_i[['Pregnancies.binned', 'Insulin.binned', 'Age.final',\n",
    "            'BloodPressure.binned', 'DiabetesPedigreeFunction.binned', 'SkinThickness.binned']]\n",
    "    y = data_i['Outcome']\n",
    "    X_train, X_test, y_train, y_test = train_test_split(X, y, test_size=0.2, random_state=123)\n",
    "    #print(X_train[X_train.isna().any(axis=1)])\n",
    "    #print(y_train[y_train.isna().any()])\n",
    "    try: \n",
    "        clf = DecisionTreeClassifier(random_state=0,max_depth=tree_depth).fit(X_train, y_train)\n",
    "        y_pred = clf.predict(X_test)\n",
    "    except Exception as e: \n",
    "        print(\"Error:\", e)\n",
    "        #print(X_train[X_train.isna().any(axis=1)])\n",
    "        print(\"Strategy:\", i)\n",
    "        #break\n",
    "    model_accuracy = accuracy_score(y_test, y_pred)\n",
    "    print(f\"{i['bins']}:\", model_accuracy, 1-i['gpt'], impute_accuracy)\n",
    "    outs.append({'bins': i['bins'], 'model_accuracy': model_accuracy, 'gpt': 1-i['gpt'], 'impute_accuracy': impute_accuracy})\n",
    "    #print(f\"{i['bins']}:\", model_accuracy, i['gpt'])\n",
    "    "
   ]
  },
  {
   "cell_type": "code",
   "execution_count": 33,
   "metadata": {},
   "outputs": [
    {
     "data": {
      "text/plain": [
       "28"
      ]
     },
     "execution_count": 33,
     "metadata": {},
     "output_type": "execute_result"
    }
   ],
   "source": [
    "len(outs)"
   ]
  },
  {
   "cell_type": "code",
   "execution_count": 73,
   "metadata": {},
   "outputs": [
    {
     "data": {
      "image/png": "[encoded data removed]",
      "text/plain": [
       "<Figure size 432x288 with 1 Axes>"
      ]
     },
     "metadata": {
      "needs_background": "light"
     },
     "output_type": "display_data"
    }
   ],
   "source": [
    "alpha = 0.8\n",
    "# normalize model accuracy and impute accuracy\n",
    "model_acc = [i['model_accuracy'] for i in outs]\n",
    "impute_acc = [i['impute_accuracy'] for i in outs]\n",
    "x = [alpha * i['gpt'] + (1-alpha) * ((i['model_accuracy']-min(model_acc))/(max(model_acc) - min(model_acc))) for i in outs]\n",
    "#y = [(i['impute_accuracy']-min(impute_acc))/(max(impute_acc) - min(impute_acc)) for i in outs]\n",
    "y = [i['impute_accuracy'] for i in outs]\n",
    "plt.scatter(x, y)\n",
    "plt.show()"
   ]
  },
  {
   "cell_type": "code",
   "execution_count": 53,
   "metadata": {},
   "outputs": [
    {
     "name": "stdout",
     "output_type": "stream",
     "text": [
      "[0, 19, 45, 65, 85, 100] 0.5232637534139676 1.0\n",
      "[0, 2, 4, 6, 8, 10, 12, 14, 16, 18, 20, 22, 24, 26, 28, 30, 32, 34, 36, 38, 40, 42, 44, 46, 48, 50, 52, 54, 56, 58, 60, 62, 64, 66, 68, 70, 72, 74, 76, 78, 80, 82, 84, 86, 88, 90, 92, 94, 96, 98, 100] 0.2576472883339835 0.0\n",
      "[0, 5, 10, 15, 20, 25, 30, 35, 40, 45, 50, 55, 60, 65, 70, 75, 80, 85, 90, 95, 100] 0.4632637534139676 0.07103825136612038\n",
      "[0, 10, 20, 30, 40, 50, 60, 70, 80, 90, 100] 0.3944966835739369 0.20218579234972694\n",
      "[0, 20, 40, 60, 80, 100] 0.28696254389387443 0.8797814207650276\n",
      "[0, 25, 50, 75, 100] 0.29572961373390566 0.6284153005464482\n",
      "[0, 30, 60, 90] 0.2744966835739369 0.47540983606557374\n",
      "[0, 15, 25, 65, 101] 0.330113148653921 0.7759562841530057\n",
      "[0, 3, 40, 60, 101] 0.10696254389387441 0.8797814207650276\n",
      "[0, 10, 30, 60, 80, 101] 0.36449668357393694 0.47540983606557374\n",
      "[0.0, 29.0, 59.0] 0.23650214592274676 0.4918032786885246\n",
      "[21.0, 30.0, 59.0] 0.5422317596566526 0.45901639344262296\n",
      "[0.0, 25.0, 35.0, 59.0] 0.13060085836909857 0.32786885245901637\n",
      "[21.0, 24.0, 30.0, 59.0] 0.7224463519313303 0.45901639344262296\n",
      "[0.0, 24.0, 29.0, 39.0, 59.0] 0.13060085836909857 0.21857923497267776\n",
      "[21.0, 24.0, 30.0, 42.0, 59.0] 0.6848927038626608 0.26229508196721313\n",
      "[0.0, 23.0, 26.0, 32.0, 41.0, 59.0] 0.1359012875536476 0.17486338797814238\n",
      "[21.0, 24.0, 30.0, 42.0, 54.0, 59.0] 0.73 0.26229508196721313\n",
      "[0.0, 22.0, 25.0, 29.0, 35.0, 42.0, 59.0] 0.342403433476395 0.10382513661202201\n",
      "[21.0, 24.0, 30.0, 42.0, 54.0, 59.0] 0.7599999999999999 0.26229508196721313\n",
      "[0.0, 22.0, 24.0, 27.0, 31.0, 37.0, 44.0, 59.0] 0.24180257510729583 0.09836065573770492\n",
      "[21.0, 24.0, 30.0, 42.0, 43.0, 54.0, 59.0] 0.7599999999999999 0.26229508196721313\n",
      "[0.0, 22.0, 24.0, 26.0, 29.0, 33.0, 39.0, 45.0, 59.0] 0.06530042918454901 0.06557377049180328\n",
      "[21.0, 24.0, 30.0, 42.0, 43.0, 48.0, 54.0, 59.0] 0.73 0.26229508196721313\n",
      "[0.0, 22.0, 23.0, 25.0, 27.0, 30.0, 35.0, 40.0, 46.0, 59.0] 0.2065021459227468 0.07103825136612038\n",
      "[21.0, 24.0, 30.0, 42.0, 43.0, 47.0, 48.0, 54.0, 59.0] 0.73 0.26229508196721313\n",
      "[0.0, 22.0, 23.0, 25.0, 26.0, 29.0, 32.0, 37.0, 41.0, 46.0, 59.0] 0.029999999999999992 0.07103825136612038\n",
      "[21.0, 24.0, 30.0, 33.0, 42.0, 43.0, 47.0, 48.0, 54.0, 59.0] 0.7899999999999999 0.03278688524590164\n"
     ]
    }
   ],
   "source": [
    "for i in range(len(outs)):\n",
    "    #plt.text(x[i], y[i], str(outs[i]['bins']))\n",
    "    print(outs[i]['bins'], x[i], y[i])"
   ]
  },
  {
   "cell_type": "markdown",
   "metadata": {},
   "source": [
    "### missing -> binning -> imputation"
   ]
  },
  {
   "cell_type": "code",
   "execution_count": 10,
   "metadata": {},
   "outputs": [
    {
     "name": "stdout",
     "output_type": "stream",
     "text": [
      "[0, 19, 45, 65, 85, 100]: 0.6883116883116883 1.0 0.7473958333333334\n",
      "[0, 2, 4, 6, 8, 10, 12, 14, 16, 18, 20, 22, 24, 26, 28, 30, 32, 34, 36, 38, 40, 42, 44, 46, 48, 50, 52, 54, 56, 58, 60, 62, 64, 66, 68, 70, 72, 74, 76, 78, 80, 82, 84, 86, 88, 90, 92, 94, 96, 98, 100]: 0.6753246753246753 0.0 0.7135416666666666\n",
      "[0, 5, 10, 15, 20, 25, 30, 35, 40, 45, 50, 55, 60, 65, 70, 75, 80, 85, 90, 95, 100]: 0.6688311688311688 0.8 0.73046875\n",
      "[0, 10, 20, 30, 40, 50, 60, 70, 80, 90, 100]: 0.6558441558441559 0.8 0.76171875\n",
      "[0, 20, 40, 60, 80, 100]: 0.6363636363636364 0.9 0.765625\n",
      "[0, 25, 50, 75, 100]: 0.6428571428571429 0.7 0.86328125\n",
      "[0, 30, 60, 90]: 0.6558441558441559 0.4 0.8268229166666666\n",
      "[0, 15, 25, 65, 101]: 0.6493506493506493 0.7 0.8984375\n",
      "[0, 3, 40, 60, 101]: 0.6363636363636364 0.30000000000000004 0.765625\n",
      "[0, 10, 30, 60, 80, 101]: 0.6558441558441559 0.7 0.8268229166666666\n",
      "[0.0, 29.0, 59.0]: 0.6493506493506493 0.19999999999999996 0.8046875\n",
      "[21.0, 30.0, 59.0]: 0.6428571428571429 0.09999999999999998 0.7369791666666666\n",
      "[0.0, 25.0, 35.0, 59.0]: 0.6493506493506493 0.19999999999999996 0.7669270833333334\n",
      "[21.0, 24.0, 30.0, 59.0]: 0.6493506493506493 0.19999999999999996 0.7369791666666666\n",
      "[0.0, 24.0, 29.0, 39.0, 59.0]: 0.6363636363636364 0.19999999999999996 0.7395833333333334\n",
      "[21.0, 24.0, 30.0, 42.0, 59.0]: 0.6558441558441559 0.19999999999999996 0.6901041666666666\n",
      "[0.0, 23.0, 26.0, 32.0, 41.0, 59.0]: 0.6493506493506493 0.09999999999999998 0.7291666666666666\n",
      "[21.0, 24.0, 30.0, 42.0, 54.0, 59.0]: 0.6688311688311688 0.09999999999999998 0.6901041666666666\n",
      "[0.0, 22.0, 25.0, 29.0, 35.0, 42.0, 59.0]: 0.6753246753246753 0.19999999999999996 0.7122395833333334\n",
      "[21.0, 24.0, 30.0, 42.0, 54.0, 59.0]: 0.6688311688311688 0.19999999999999996 0.6901041666666666\n",
      "[0.0, 22.0, 24.0, 27.0, 31.0, 37.0, 44.0, 59.0]: 0.6493506493506493 0.09999999999999998 0.7109375\n",
      "[21.0, 24.0, 30.0, 42.0, 43.0, 54.0, 59.0]: 0.6688311688311688 0.19999999999999996 0.6901041666666666\n",
      "[0.0, 22.0, 24.0, 26.0, 29.0, 33.0, 39.0, 45.0, 59.0]: 0.6493506493506493 0.09999999999999998 0.7109375\n",
      "[21.0, 24.0, 30.0, 42.0, 43.0, 48.0, 54.0, 59.0]: 0.6688311688311688 0.09999999999999998 0.6901041666666666\n",
      "[0.0, 22.0, 23.0, 25.0, 27.0, 30.0, 35.0, 40.0, 46.0, 59.0]: 0.6688311688311688 0.09999999999999998 0.7044270833333334\n",
      "[21.0, 24.0, 30.0, 42.0, 43.0, 47.0, 48.0, 54.0, 59.0]: 0.6688311688311688 0.09999999999999998 0.6901041666666666\n",
      "[0.0, 22.0, 23.0, 25.0, 26.0, 29.0, 32.0, 37.0, 41.0, 46.0, 59.0]: 0.6493506493506493 0.09999999999999998 0.7044270833333334\n",
      "[21.0, 24.0, 30.0, 33.0, 42.0, 43.0, 47.0, 48.0, 54.0, 59.0]: 0.6688311688311688 0.30000000000000004 0.6692708333333334\n"
     ]
    }
   ],
   "source": [
    "tree_depth = 5\n",
    "col = 'Age'\n",
    "outs = []\n",
    "\n",
    "for i in binnings:\n",
    "\n",
    "    data_i = data.copy()\n",
    "    data_i[col + '.binned'] = pd.cut(data_i[col], bins=i['bins'], labels=i['bins'][1:])\n",
    "    #data_i[col + '.binned'] = data_i[col + '.binned'].astype('float64')\n",
    "\n",
    "    imputer = KNNImputer(n_neighbors=len(i['bins'])-1)\n",
    "    data_imputed = imputer.fit_transform(data_i[col + '.binned'].values.reshape(-1, 1))\n",
    "    data_imputed = np.round(data_imputed)\n",
    "    data_i['Age.imputed'] = data_imputed\n",
    "    data_i[col + '.final'] = pd.cut(data_i[col+'.imputed'], bins=i['bins'], labels=i['bins'][1:])\n",
    "    data_i[col + '.final'] = data_i[col + '.final'].astype('float64')\n",
    "\n",
    "    if len(data_i[data_i[col + '.final'].isnull()]) > 200:\n",
    "        print(f\"Skipping {i['bins']}\")\n",
    "        continue\n",
    "    #data_i['Age.final'] = data_i['Age.final'].fillna(-1)\n",
    "    value_final = np.array(data_i['Age.final'].values)\n",
    "    value_final[np.isnan(value_final)] = -1\n",
    "\n",
    "    # Evaluate data imputation\n",
    "    data_i['Age.gt'] = pd.cut(data_i['Age.gt'], bins=i['bins'], labels=i['bins'][1:])\n",
    "    data_i['Age.gt'] = data_i['Age.gt'].astype('float64')\n",
    "    value_gt = np.array(data_i['Age.gt'].values)\n",
    "    value_gt[np.isnan(value_gt)] = -1\n",
    "    #data_i['Age.gt'] = data_i['Age.gt'].fillna(-1)\n",
    "    #data_i = data_i.dropna(subset=['Age.final', 'Age.gt'])\n",
    "    impute_accuracy = accuracy_score(value_gt, value_final)\n",
    "\n",
    "    data_i = data_i.dropna(subset=['Age.final'])\n",
    "    X = data_i[['Pregnancies.binned', 'Insulin.binned', 'Age.final',\n",
    "            'BloodPressure.binned', 'DiabetesPedigreeFunction.binned', 'SkinThickness.binned']]\n",
    "    y = data_i['Outcome']\n",
    "    X_train, X_test, y_train, y_test = train_test_split(X, y, test_size=0.2, random_state=123)\n",
    "    #print(X_train[X_train.isna().any(axis=1)])\n",
    "    #print(y_train[y_train.isna().any()])\n",
    "    try: \n",
    "        clf = DecisionTreeClassifier(random_state=0,max_depth=tree_depth).fit(X_train, y_train)\n",
    "        y_pred = clf.predict(X_test)\n",
    "    except Exception as e: \n",
    "        print(\"Error:\", e)\n",
    "        #print(X_train[X_train.isna().any(axis=1)])\n",
    "        print(\"Strategy:\", i)\n",
    "        #break\n",
    "    model_accuracy = accuracy_score(y_test, y_pred)\n",
    "    print(f\"{i['bins']}:\", model_accuracy, 1-i['gpt'], impute_accuracy)\n",
    "    outs.append({'bins': i['bins'], 'model_accuracy': model_accuracy, 'gpt': 1-i['gpt'], 'impute_accuracy': impute_accuracy})\n",
    "    #print(f\"{i['bins']}:\", model_accuracy, i['gpt'])\n",
    "    "
   ]
  },
  {
   "cell_type": "code",
   "execution_count": 84,
   "metadata": {},
   "outputs": [
    {
     "data": {
      "image/png": "[encoded data removed]",
      "text/plain": [
       "<Figure size 432x288 with 1 Axes>"
      ]
     },
     "metadata": {
      "needs_background": "light"
     },
     "output_type": "display_data"
    }
   ],
   "source": [
    "alpha = 0.7\n",
    "# normalize model accuracy and impute accuracy\n",
    "model_acc = [i['model_accuracy'] for i in outs]\n",
    "impute_acc = [i['impute_accuracy'] for i in outs]\n",
    "x = [alpha * i['gpt'] + (1-alpha) * ((i['model_accuracy']-min(model_acc))/(max(model_acc) - min(model_acc))) for i in outs]\n",
    "#y = [(i['impute_accuracy']-min(impute_acc))/(max(impute_acc) - min(impute_acc)) for i in outs]\n",
    "y = [i['impute_accuracy'] for i in outs]\n",
    "plt.scatter(x, y)\n",
    "plt.show()"
   ]
  },
  {
   "cell_type": "code",
   "execution_count": 103,
   "metadata": {},
   "outputs": [
    {
     "name": "stdout",
     "output_type": "stream",
     "text": [
      "alpha: 0.0 mean_y: 0.7243923611111112\n",
      "alpha: 0.1 mean_y: 0.7243923611111112\n",
      "alpha: 0.2 mean_y: 0.7300347222222223\n",
      "alpha: 0.30000000000000004 mean_y: 0.7300347222222223\n",
      "alpha: 0.4 mean_y: 0.7465277777777778\n",
      "alpha: 0.5 mean_y: 0.7465277777777778\n",
      "alpha: 0.6000000000000001 mean_y: 0.7465277777777778\n",
      "alpha: 0.7000000000000001 mean_y: 0.7465277777777778\n",
      "alpha: 0.8 mean_y: 0.7478298611111112\n",
      "alpha: 0.9 mean_y: 0.7478298611111112\n"
     ]
    }
   ],
   "source": [
    "top_k = 3\n",
    "y2 = []\n",
    "for alpha in np.arange(0, 1, 0.1):\n",
    "    # normalize model accuracy and impute accuracy\n",
    "    model_acc = [i['model_accuracy'] for i in outs]\n",
    "    impute_acc = [i['impute_accuracy'] for i in outs]\n",
    "    x = [alpha * i['gpt'] + (1-alpha) * ((i['model_accuracy']-min(model_acc))/(max(model_acc) - min(model_acc))) for i in outs]\n",
    "    #y = [(i['impute_accuracy']-min(impute_acc))/(max(impute_acc) - min(impute_acc)) for i in outs]\n",
    "    y = [i['impute_accuracy'] for i in outs]\n",
    "    z = []\n",
    "    for i in range(len(outs)):\n",
    "        #plt.text(x[i], y[i], str(outs[i]['bins']))\n",
    "        z.append((outs[i]['bins'], x[i], y[i]))\n",
    "        #print(outs[i]['bins'], x[i], y[i])\n",
    "    sorted(z, key=lambda x: x[1], reverse=True)\n",
    "    # get mean y[i] for top k\n",
    "    mean_y = np.mean([i[2] for i in sorted(z, key=lambda x: x[1], reverse=True)[:top_k]])\n",
    "    y2.append(mean_y)\n",
    "    print(\"alpha:\", alpha, \"mean_y:\", mean_y)"
   ]
  },
  {
   "cell_type": "code",
   "execution_count": 104,
   "metadata": {},
   "outputs": [
    {
     "data": {
      "image/png": "[encoded data removed]",
      "text/plain": [
       "<Figure size 432x288 with 1 Axes>"
      ]
     },
     "metadata": {
      "needs_background": "light"
     },
     "output_type": "display_data"
    }
   ],
   "source": [
    "plt.plot(np.arange(0, 1, 0.1), y2)\n",
    "plt.xlabel('alpha', fontsize=14)\n",
    "plt.ylabel('mean impute accuracy', fontsize=14)\n",
    "plt.title(f'top k = {top_k}', fontsize=18)\n",
    "plt.show()"
   ]
  },
  {
   "cell_type": "code",
   "execution_count": 122,
   "metadata": {},
   "outputs": [
    {
     "name": "stdout",
     "output_type": "stream",
     "text": [
      "alpha: 0.0 mean_y: 0.6506493506493507\n",
      "alpha: 0.1 mean_y: 0.6506493506493507\n",
      "alpha: 0.2 mean_y: 0.648051948051948\n",
      "alpha: 0.30000000000000004 mean_y: 0.648051948051948\n",
      "alpha: 0.4 mean_y: 0.6545454545454545\n",
      "alpha: 0.5 mean_y: 0.6545454545454545\n",
      "alpha: 0.6000000000000001 mean_y: 0.6545454545454545\n",
      "alpha: 0.7000000000000001 mean_y: 0.6545454545454545\n",
      "alpha: 0.8 mean_y: 0.6545454545454545\n",
      "alpha: 0.9 mean_y: 0.6597402597402597\n",
      "alpha: 1.0 mean_y: 0.6584415584415584\n"
     ]
    }
   ],
   "source": [
    "top_k = 5\n",
    "y2 = []\n",
    "for alpha in np.arange(0, 1.1, 0.1):\n",
    "    # normalize model accuracy and impute accuracy\n",
    "    model_acc = [i['model_accuracy'] for i in outs]\n",
    "    impute_acc = [i['impute_accuracy'] for i in outs]\n",
    "    x = [alpha * i['gpt'] + (1-alpha) * ((i['impute_accuracy']-min(impute_acc))/(max(impute_acc) - min(impute_acc))) for i in outs]\n",
    "    #y = [(i['impute_accuracy']-min(impute_acc))/(max(impute_acc) - min(impute_acc)) for i in outs]\n",
    "    y = [i['model_accuracy'] for i in outs]\n",
    "    z = []\n",
    "    for i in range(len(outs)):\n",
    "        #plt.text(x[i], y[i], str(outs[i]['bins']))\n",
    "        z.append((outs[i]['bins'], x[i], y[i]))\n",
    "        #print(outs[i]['bins'], x[i], y[i])\n",
    "    sorted(z, key=lambda x: x[1], reverse=True)\n",
    "    # get mean y[i] for top k\n",
    "    mean_y = np.mean([i[2] for i in sorted(z, key=lambda x: x[1], reverse=True)[:top_k]])\n",
    "    y2.append(mean_y)\n",
    "    print(\"alpha:\", alpha, \"mean_y:\", mean_y)"
   ]
  },
  {
   "cell_type": "code",
   "execution_count": 123,
   "metadata": {},
   "outputs": [
    {
     "data": {
      "image/png": "[encoded data removed]",
      "text/plain": [
       "<Figure size 432x288 with 1 Axes>"
      ]
     },
     "metadata": {
      "needs_background": "light"
     },
     "output_type": "display_data"
    }
   ],
   "source": [
    "plt.plot(np.arange(0, 1.1, 0.1), y2)\n",
    "plt.xlabel('alpha', fontsize=14)\n",
    "plt.ylabel('mean model accuracy', fontsize=14)\n",
    "plt.title(f'top k = {top_k}', fontsize=18)\n",
    "plt.show()"
   ]
  },
  {
   "cell_type": "markdown",
   "metadata": {},
   "source": [
    "### pareto curve"
   ]
  },
  {
   "cell_type": "code",
   "execution_count": 110,
   "metadata": {},
   "outputs": [
    {
     "data": {
      "text/plain": [
       "array([[0.71691644, 0.59124215, 0.42349582, 0.5939245 , 0.46487134,\n",
       "        0.62940706, 0.97822296, 0.25388094, 0.15099489, 0.25696939,\n",
       "        0.62759761, 0.95835526, 0.87314923, 0.48423491, 0.74931096,\n",
       "        0.54714618, 0.49264806, 0.15866351, 0.74022519, 0.11562332,\n",
       "        0.37357008, 0.09661767, 0.87647029, 0.28011315, 0.86945105,\n",
       "        0.04253538, 0.32107033, 0.77506231, 0.11534431, 0.80461076,\n",
       "        0.86028884, 0.43529135, 0.07122995, 0.57248749, 0.72864558,\n",
       "        0.24989706, 0.09370352, 0.93149974, 0.66215723, 0.4870712 ,\n",
       "        0.16350835, 0.54363033, 0.21574577, 0.04054469, 0.5443845 ,\n",
       "        0.90745565, 0.90212045, 0.21386356, 0.84574628, 0.31890832],\n",
       "       [0.15699532, 0.99267228, 0.95677354, 0.36654559, 0.03476378,\n",
       "        0.62153622, 0.80306497, 0.48474144, 0.94582107, 0.12161229,\n",
       "        0.95510631, 0.71502654, 0.49514553, 0.98142254, 0.24356971,\n",
       "        0.1677284 , 0.63067456, 0.62808609, 0.59862001, 0.47396508,\n",
       "        0.07476063, 0.7345975 , 0.19084403, 0.08248024, 0.93717343,\n",
       "        0.49913567, 0.34462725, 0.60845388, 0.83247655, 0.12371182,\n",
       "        0.92264063, 0.32305368, 0.78258957, 0.90280652, 0.46855257,\n",
       "        0.10993336, 0.26212757, 0.39706531, 0.49557211, 0.79035312,\n",
       "        0.05266046, 0.97218554, 0.5482096 , 0.84538229, 0.08288457,\n",
       "        0.8784484 , 0.23250797, 0.38365455, 0.44394193, 0.73388615]])"
      ]
     },
     "execution_count": 110,
     "metadata": {},
     "output_type": "execute_result"
    }
   ],
   "source": [
    "datapoints=np.random.rand(2, 50)\n",
    "datapoints"
   ]
  },
  {
   "cell_type": "code",
   "execution_count": 13,
   "metadata": {},
   "outputs": [
    {
     "data": {
      "text/plain": [
       "array([[1.        , 0.        , 0.8       , 0.8       , 0.9       ,\n",
       "        0.7       , 0.4       , 0.7       , 0.3       , 0.7       ,\n",
       "        0.2       , 0.1       , 0.2       , 0.2       , 0.2       ,\n",
       "        0.2       , 0.1       , 0.1       , 0.2       , 0.2       ,\n",
       "        0.1       , 0.2       , 0.1       , 0.1       , 0.1       ,\n",
       "        0.1       , 0.1       , 0.3       ],\n",
       "       [0.74739583, 0.71354167, 0.73046875, 0.76171875, 0.765625  ,\n",
       "        0.86328125, 0.82682292, 0.8984375 , 0.765625  , 0.82682292,\n",
       "        0.8046875 , 0.73697917, 0.76692708, 0.73697917, 0.73958333,\n",
       "        0.69010417, 0.72916667, 0.69010417, 0.71223958, 0.69010417,\n",
       "        0.7109375 , 0.69010417, 0.7109375 , 0.69010417, 0.70442708,\n",
       "        0.69010417, 0.70442708, 0.66927083]])"
      ]
     },
     "execution_count": 13,
     "metadata": {},
     "output_type": "execute_result"
    }
   ],
   "source": [
    "datapoints0 = [x['gpt'] for x in outs]\n",
    "datapoints1 = [x['model_accuracy'] for x in outs]\n",
    "datapoints2 = [x['impute_accuracy'] for x in outs]\n",
    "datapoints = np.array([datapoints0[0:], datapoints2[0:]])\n",
    "datapoints"
   ]
  },
  {
   "cell_type": "code",
   "execution_count": 14,
   "metadata": {},
   "outputs": [
    {
     "name": "stdout",
     "output_type": "stream",
     "text": [
      "Pareto: 3 optimal values, 3 objects\n"
     ]
    }
   ],
   "source": [
    "pareto=oapackage.ParetoDoubleLong()\n",
    "\n",
    "for ii in range(0, datapoints.shape[1]):\n",
    "    w=oapackage.doubleVector( (datapoints[0,ii], datapoints[1,ii]))\n",
    "    pareto.addvalue(w, ii)\n",
    "\n",
    "pareto.show(verbose=1)"
   ]
  },
  {
   "cell_type": "code",
   "execution_count": 15,
   "metadata": {},
   "outputs": [
    {
     "data": {
      "image/png": "[encoded data removed]",
      "text/plain": [
       "<Figure size 432x288 with 1 Axes>"
      ]
     },
     "metadata": {
      "needs_background": "light"
     },
     "output_type": "display_data"
    }
   ],
   "source": [
    "lst=pareto.allindices() # the indices of the Pareto optimal designs\n",
    "\n",
    "optimal_datapoints=datapoints[:,lst]\n",
    "\n",
    "h=plt.plot(datapoints[0,:], datapoints[1,:], '.b', markersize=16, label='Non Pareto-optimal')\n",
    "hp=plt.plot(optimal_datapoints[0,:], optimal_datapoints[1,:], '.r', markersize=16, label='Pareto optimal')\n",
    "plt.xlabel('Similarity', fontsize=16)\n",
    "plt.ylabel('Utility', fontsize=16)\n",
    "#plt.xticks([])\n",
    "#plt.yticks([])\n",
    "_=plt.legend(loc=0, numpoints=1)"
   ]
  },
  {
   "cell_type": "code",
   "execution_count": null,
   "metadata": {},
   "outputs": [],
   "source": []
  }
 ],
 "metadata": {
  "kernelspec": {
   "display_name": "lucid",
   "language": "python",
   "name": "python3"
  },
  "language_info": {
   "codemirror_mode": {
    "name": "ipython",
    "version": 3
   },
   "file_extension": ".py",
   "mimetype": "text/x-python",
   "name": "python",
   "nbconvert_exporter": "python",
   "pygments_lexer": "ipython3",
   "version": "3.9.12"
  }
 },
 "nbformat": 4,
 "nbformat_minor": 2
}
