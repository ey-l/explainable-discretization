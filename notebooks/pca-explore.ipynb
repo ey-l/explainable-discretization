{
 "cells": [
  {
   "cell_type": "code",
   "execution_count": 1,
   "metadata": {},
   "outputs": [
    {
     "name": "stderr",
     "output_type": "stream",
     "text": [
      "/Users/eylai/anaconda3/envs/lucid/lib/python3.9/site-packages/pandas/core/computation/expressions.py:21: UserWarning: Pandas requires version '2.8.4' or newer of 'numexpr' (version '2.8.1' currently installed).\n",
      "  from pandas.core.computation.check import NUMEXPR_INSTALLED\n",
      "/Users/eylai/anaconda3/envs/lucid/lib/python3.9/site-packages/pandas/core/arrays/masked.py:60: UserWarning: Pandas requires version '1.3.6' or newer of 'bottleneck' (version '1.3.4' currently installed).\n",
      "  from pandas.core import (\n"
     ]
    },
    {
     "name": "stdout",
     "output_type": "stream",
     "text": [
      "(CVXPY) Sep 24 06:03:34 PM: Encountered unexpected exception importing solver GLOP:\n",
      "RuntimeError('Unrecognized new version of ortools (9.10.4067). Expected < 9.10.0. Please open a feature request on cvxpy to enable support for this version.')\n",
      "(CVXPY) Sep 24 06:03:34 PM: Encountered unexpected exception importing solver PDLP:\n",
      "RuntimeError('Unrecognized new version of ortools (9.10.4067). Expected < 9.10.0. Please open a feature request on cvxpy to enable support for this version.')\n"
     ]
    }
   ],
   "source": [
    "import pandas as pd\n",
    "import numpy as np\n",
    "import sys\n",
    "import os\n",
    "import matplotlib.pyplot as plt\n",
    "import graphviz\n",
    "import itertools\n",
    "#from sklearn.inspection import DecisionBoundaryDisplay\n",
    "from sklearn.tree import DecisionTreeClassifier, plot_tree\n",
    "from sklearn.model_selection import train_test_split\n",
    "from sklearn.impute import KNNImputer\n",
    "# import Kmeans from sklearn\n",
    "from sklearn.cluster import KMeans\n",
    "from sklearn.decomposition import PCA\n",
    "from sklearn import tree\n",
    "from sklearn.metrics import accuracy_score, confusion_matrix, classification_report, mean_absolute_error\n",
    "from typing import List, Union, Any, Tuple, Dict\n",
    "import time\n",
    "from permetrics.regression import RegressionMetric\n",
    "import oapackage\n",
    "from scipy.stats import wasserstein_distance, binned_statistic\n",
    "\n",
    "import warnings\n",
    "warnings.filterwarnings('ignore')\n",
    "\n",
    "# Project path\n",
    "ppath = sys.path[0] + '/../'\n",
    "sys.path.append(os.path.join(ppath, 'code'))\n",
    "from discretizers import *\n",
    "from use_cases import *"
   ]
  },
  {
   "cell_type": "code",
   "execution_count": 3,
   "metadata": {},
   "outputs": [
    {
     "name": "stdout",
     "output_type": "stream",
     "text": [
      "gold-standard [-1, 18, 35, 50, 65, 100]\n",
      "equal-width [20.0, 51.0, 81.0]\n",
      "equal-frequency [20.0, 29.0, 81.0]\n",
      "chi-merge [20.0, 30.0, 82.0]\n",
      "kbins [20.0, 51.0, 81.0]\n",
      "kbins-quantile [20.0, 29.0, 81.0]\n",
      "decision-tree [20.0, 28.5, 82.0]\n",
      "kmeans [20.0, 26.55466666666669, 82.0]\n",
      "random-forest [20.0, 24.5, 29.5, 82.0]\n",
      "equal-width [20.0, 41.0, 61.0, 81.0]\n",
      "equal-frequency [20.0, 25.0, 36.0, 81.0]\n",
      "chi-merge [20.0, 24.0, 30.0, 82.0]\n",
      "kbins [20.0, 41.0, 61.0, 81.0]\n",
      "kbins-quantile [20.0, 25.0, 36.0, 81.0]\n",
      "decision-tree [20.0, 28.5, 62.5, 82.0]\n",
      "kmeans [20.0, 25.152173913043505, 39.9025974025974, 82.0]\n",
      "random-forest [20.0, 21.5, 35.50000000000001, 55.833333333333336, 82.0]\n",
      "equal-width [20.0, 36.0, 51.0, 66.0, 81.0]\n",
      "equal-frequency [20.0, 24.0, 29.0, 40.75, 81.0]\n",
      "chi-merge [20.0, 24.0, 30.0, 42.0, 82.0]\n",
      "kbins [20.0, 36.0, 51.0, 66.0, 81.0]\n",
      "kbins-quantile [20.0, 24.0, 29.0, 40.75, 81.0]\n",
      "decision-tree [20.0, 28.5, 42.5, 62.5, 82.0]\n",
      "kmeans [20.0, 23.911538461538484, 33.330827067669176, 45.083333333333336, 82.0]\n",
      "random-forest [20.0, 21.5, 30.75, 44.5, 58.25, 82.0]\n",
      "equal-width [20.0, 33.0, 45.0, 57.0, 69.0, 81.0]\n",
      "equal-frequency [20.0, 23.0, 27.0, 33.0, 42.0, 81.0]\n",
      "chi-merge [20.0, 24.0, 30.0, 42.0, 43.0, 82.0]\n",
      "kbins [20.0, 33.0, 45.0, 57.0, 69.0, 81.0]\n",
      "kbins-quantile [20.0, 23.0, 27.0, 33.0, 42.0, 81.0]\n",
      "decision-tree [20.0, 24.5, 28.5, 42.5, 62.5, 82.0]\n",
      "kmeans [20.0, 23.13551401869161, 29.844961240310074, 39.12371134020618, 48.588235294117645, 82.0]\n",
      "random-forest [20.0, 21.5, 31.1, 41.7, 53.099999999999994, 60.900000000000006, 82.0]\n",
      "equal-width [20.0, 31.0, 41.0, 51.0, 61.0, 71.0, 81.0]\n",
      "equal-frequency [20.0, 22.0, 25.0, 29.0, 36.0, 45.0, 81.0]\n",
      "chi-merge [20.0, 24.0, 29.0, 30.0, 42.0, 43.0, 82.0]\n",
      "kbins [20.0, 31.0, 41.0, 51.0, 61.0, 71.0, 81.0]\n",
      "kbins-quantile [20.0, 22.0, 25.0, 29.0, 36.0, 45.0, 81.0]\n",
      "decision-tree [20.0, 24.5, 28.5, 42.5, 43.5, 62.5, 82.0]\n",
      "kmeans [20.0, 22.773684210526334, 28.57575757575757, 36.432098765432094, 43.75342465753424, 53.43181818181817, 82.0]\n",
      "random-forest [20.0, 21.5, 29.666666666666668, 37.833333333333336, 45.0, 54.16666666666667, 61.91666666666667, 82.0]\n",
      "equal-width [20.0, 29.571, 38.143, 46.714, 55.286, 63.857, 72.429, 81.0]\n",
      "equal-frequency [20.0, 22.0, 24.0, 27.0, 31.0, 38.0, 46.0, 81.0]\n",
      "chi-merge [20.0, 24.0, 28.0, 29.0, 30.0, 42.0, 43.0, 82.0]\n",
      "kbins [20.0, 29.57142857142857, 38.14285714285714, 46.714285714285715, 55.285714285714285, 63.857142857142854, 72.42857142857143, 81.0]\n",
      "kbins-quantile [20.0, 22.0, 24.0, 27.0, 31.0, 38.0, 46.0, 81.0]\n",
      "decision-tree [20.0, 24.5, 28.5, 42.5, 43.5, 49.5, 62.5, 82.0]\n",
      "kmeans [20.0, 22.270967741935497, 26.723577235772353, 32.082191780821915, 39.148148148148145, 45.99999999999999, 54.42857142857143, 82.0]\n",
      "random-forest [20.0, 21.5, 29.5, 37.5, 44.5, 51.50000000000001, 57.5, 62.5, 82.0]\n",
      "equal-width [20.0, 28.5, 36.0, 43.5, 51.0, 58.5, 66.0, 73.5, 81.0]\n",
      "equal-frequency [20.0, 22.0, 24.0, 26.0, 29.0, 34.0, 40.75, 47.0, 81.0]\n",
      "chi-merge [20.0, 24.0, 28.0, 29.0, 30.0, 42.0, 43.0, 54.0, 82.0]\n",
      "kbins [20.0, 28.5, 36.0, 43.5, 51.0, 58.5, 66.0, 73.5, 81.0]\n",
      "kbins-quantile [20.0, 22.0, 24.0, 26.0, 29.0, 34.0, 40.75, 47.0, 81.0]\n",
      "decision-tree [20.0, 24.5, 28.5, 42.5, 43.5, 49.5, 54.5, 62.5, 82.0]\n",
      "kmeans [20.0, 22.270967741935497, 26.723577235772353, 31.723076923076924, 37.48333333333333, 43.507246376811594, 51.0, 58.5, 82.0]\n",
      "random-forest [20.0, 21.5, 28.5, 35.5, 42.5, 49.0, 53.5, 58.5, 63.0, 82.0]\n",
      "equal-width [20.0, 27.667, 34.333, 41.0, 47.667, 54.333, 61.0, 67.667, 74.333, 81.0]\n",
      "equal-frequency [20.0, 22.0, 23.0, 25.0, 28.0, 31.0, 36.0, 41.0, 49.0, 81.0]\n",
      "chi-merge [20.0, 24.0, 28.0, 29.0, 30.0, 42.0, 43.0, 51.0, 54.0, 82.0]\n",
      "kbins [20.0, 27.666666666666668, 34.333333333333336, 41.0, 47.66666666666667, 54.333333333333336, 61.0, 67.66666666666667, 74.33333333333334, 81.0]\n",
      "kbins-quantile [20.0, 22.0, 23.0, 25.0, 28.0, 31.0, 36.0, 41.0, 49.0, 81.0]\n",
      "decision-tree [20.0, 24.5, 28.5, 42.5, 43.5, 49.5, 54.5, 57.5, 62.5, 82.0]\n",
      "kmeans [20.0, 22.270967741935497, 26.33333333333333, 30.783783783783782, 36.13725490196078, 41.05454545454545, 46.099999999999994, 52.39999999999999, 59.8125, 82.0]\n",
      "random-forest [20.0, 21.5, 27.944444444444443, 34.388888888888886, 40.83333333333333, 47.27777777777777, 52.72222222222222, 57.33333333333333, 61.55555555555556, 65.83333333333333, 82.0]\n",
      "equal-width [20.0, 27.0, 33.0, 39.0, 45.0, 51.0, 57.0, 63.0, 69.0, 75.0, 81.0]\n",
      "equal-frequency [20.0, 22.0, 23.0, 25.0, 27.0, 29.0, 33.0, 38.0, 42.0, 50.0, 81.0]\n",
      "chi-merge [20.0, 24.0, 28.0, 29.0, 30.0, 42.0, 43.0, 51.0, 54.0, 66.0, 82.0]\n",
      "kbins [20.0, 27.0, 33.0, 39.0, 45.0, 51.0, 57.0, 63.0, 69.0, 75.0, 81.0]\n",
      "kbins-quantile [20.0, 22.0, 23.0, 25.0, 27.0, 29.0, 33.0, 38.0, 42.0, 50.0, 81.0]\n",
      "decision-tree [20.0, 24.5, 28.5, 30.5, 42.5, 43.5, 49.5, 54.5, 57.5, 62.5, 82.0]\n",
      "kmeans [20.0, 21.83870967741936, 24.922222222222217, 28.32911392405063, 32.24, 36.98, 41.40425531914893, 46.099999999999994, 52.39999999999999, 59.8125, 82.0]\n",
      "random-forest [20.0, 21.5, 27.4, 33.3, 38.2, 43.8, 48.25, 52.9, 57.15, 61.6, 65.15, 82.0]\n",
      "equal-width [20.0, 26.455, 31.909, 37.364, 42.818, 48.273, 53.727, 59.182, 64.636, 70.091, 75.545, 81.0]\n",
      "equal-frequency [20.0, 22.0, 24.0, 26.0, 28.0, 30.909, 34.0, 39.0, 43.364, 51.0, 81.0]\n",
      "chi-merge [20.0, 24.0, 28.0, 29.0, 30.0, 42.0, 43.0, 51.0, 54.0, 66.0, 69.0, 82.0]\n",
      "kbins [20.0, 26.454545454545453, 31.909090909090907, 37.36363636363636, 42.81818181818181, 48.272727272727266, 53.72727272727273, 59.18181818181818, 64.63636363636363, 70.0909090909091, 75.54545454545453, 81.0]\n",
      "kbins-quantile [20.0, 22.0, 22.63636363636364, 24.0, 26.0, 28.0, 30.909090909090878, 34.0, 39.0, 43.363636363636374, 51.0, 81.0]\n",
      "decision-tree [20.0, 24.5, 28.5, 29.5, 30.5, 42.5, 43.5, 49.5, 54.5, 57.5, 62.5, 82.0]\n",
      "kmeans [20.0, 21.83870967741936, 25.33035714285714, 28.84210526315789, 32.24, 36.595238095238095, 41.05454545454545, 45.77777777777777, 51.41379310344827, 58.0, 66.85714285714286, 82.0]\n",
      "random-forest [20.0, 21.5, 26.68181818181818, 31.863636363636363, 37.04545454545455, 42.22727272727273, 46.40909090909091, 51.68181818181818, 56.13636363636364, 59.22727272727273, 62.81818181818182, 66.9090909090909, 82.0]\n",
      "equal-width [20.0, 26.0, 31.0, 36.0, 41.0, 46.0, 51.0, 56.0, 61.0, 66.0, 71.0, 76.0, 81.0]\n",
      "chi-merge [20.0, 24.0, 28.0, 29.0, 30.0, 42.0, 43.0, 51.0, 54.0, 66.0, 69.0, 70.0, 82.0]\n",
      "kbins [20.0, 26.0, 31.0, 36.0, 41.0, 46.0, 51.0, 56.0, 61.0, 66.0, 71.0, 76.0, 81.0]\n",
      "kbins-quantile [20.0, 22.0, 24.0, 25.0, 27.0, 29.0, 32.0, 36.0, 40.75, 45.0, 52.0, 81.0]\n",
      "decision-tree [20.0, 24.5, 25.5, 28.5, 29.5, 30.5, 42.5, 43.5, 49.5, 54.5, 57.5, 62.5, 82.0]\n",
      "kmeans [20.0, 21.53061224489796, 24.097826086956516, 26.999999999999996, 30.0, 33.35, 37.357142857142854, 41.40425531914893, 46.099999999999994, 52.14285714285714, 59.11764705882352, 67.5, 82.0]\n",
      "random-forest [20.0, 21.5, 26.083333333333336, 30.666666666666668, 35.25, 39.833333333333336, 43.958333333333336, 48.0, 52.583333333333336, 56.16666666666667, 59.75, 62.91666666666667, 67.20833333333334, 82.0]\n",
      "equal-width [20.0, 25.615, 30.231, 34.846, 39.462, 44.077, 48.692, 53.308, 57.923, 62.538, 67.154, 71.769, 76.385, 81.0]\n",
      "chi-merge [20.0, 24.0, 28.0, 29.0, 30.0, 42.0, 43.0, 51.0, 54.0, 62.0, 66.0, 69.0, 70.0, 82.0]\n",
      "kbins [20.0, 25.615384615384613, 30.23076923076923, 34.84615384615385, 39.46153846153846, 44.07692307692307, 48.69230769230769, 53.30769230769231, 57.92307692307692, 62.53846153846153, 67.15384615384615, 71.76923076923077, 76.38461538461539, 81.0]\n",
      "kbins-quantile [20.0, 22.0, 23.92307692307692, 25.0, 26.0, 28.0, 30.0, 33.0, 37.0, 41.0, 45.0, 52.0, 81.0]\n",
      "decision-tree [20.0, 24.5, 25.5, 28.5, 29.5, 30.5, 42.5, 43.5, 49.5, 51.5, 54.5, 57.5, 62.5, 82.0]\n",
      "kmeans [20.0, 21.83870967741936, 24.530303030303024, 26.999999999999996, 30.0, 32.9375, 36.98, 41.40425531914893, 45.77777777777777, 51.0, 56.23529411764706, 63.166666666666664, 68.85714285714286, 82.0]\n",
      "random-forest [20.0, 21.5, 26.192307692307693, 30.884615384615387, 35.57692307692308, 40.269230769230774, 44.96153846153846, 48.65384615384615, 53.34615384615385, 56.269230769230774, 58.61538461538461, 61.42307692307692, 64.3076923076923, 67.8076923076923, 82.0]\n",
      "equal-width [20.0, 25.286, 29.571, 33.857, 38.143, 42.429, 46.714, 51.0, 55.286, 59.571, 63.857, 68.143, 72.429, 81.0]\n",
      "chi-merge [20.0, 24.0, 28.0, 29.0, 30.0, 42.0, 43.0, 51.0, 54.0, 62.0, 64.0, 66.0, 69.0, 70.0, 82.0]\n",
      "kbins [20.0, 25.285714285714285, 29.57142857142857, 33.85714285714286, 38.14285714285714, 42.42857142857143, 46.714285714285715, 51.0, 55.285714285714285, 59.57142857142857, 63.857142857142854, 68.14285714285714, 72.42857142857143, 76.71428571428572, 81.0]\n",
      "kbins-quantile [20.0, 22.0, 23.0, 24.0, 26.0, 27.0, 29.0, 31.0, 35.0, 38.0, 42.0, 46.0, 53.0, 81.0]\n",
      "decision-tree [20.0, 24.5, 25.5, 28.5, 29.5, 30.5, 42.5, 43.5, 49.5, 50.5, 51.5, 54.5, 57.5, 62.5, 82.0]\n",
      "kmeans [20.0, 21.53061224489796, 23.5438596491228, 25.406779661016945, 27.937499999999996, 30.90909090909091, 34.45, 38.36585365853659, 41.78378378378378, 45.77777777777777, 50.72727272727273, 54.33333333333333, 59.53333333333333, 67.5, 82.0]\n",
      "random-forest [20.0, 21.5, 25.857142857142858, 30.214285714285715, 34.57142857142857, 38.92857142857143, 43.285714285714285, 46.642857142857146, 51.0, 54.42857142857143, 56.60714285714286, 59.07142857142857, 61.964285714285715, 64.64285714285714, 68.14285714285714, 82.0]\n",
      "equal-width [20.0, 25.0, 29.0, 33.0, 37.0, 41.0, 45.0, 49.0, 53.0, 57.0, 61.0, 65.0, 69.0, 73.0, 81.0]\n",
      "chi-merge [20.0, 24.0, 28.0, 29.0, 30.0, 42.0, 43.0, 51.0, 54.0, 59.0, 62.0, 64.0, 66.0, 69.0, 70.0, 82.0]\n",
      "kbins [20.0, 25.0, 29.0, 33.0, 37.0, 41.0, 45.0, 49.0, 53.0, 57.0, 61.0, 65.0, 69.0, 73.0, 77.0, 81.0]\n",
      "kbins-quantile [20.0, 22.0, 23.0, 24.0, 25.0, 27.0, 28.0, 30.0, 33.0, 36.0, 40.0, 42.0, 46.0, 54.0, 81.0]\n",
      "decision-tree [20.0, 24.5, 25.5, 28.5, 29.5, 30.5, 42.5, 43.5, 47.5, 49.5, 50.5, 51.5, 54.5, 57.5, 62.5, 82.0]\n",
      "kmeans [20.0, 21.83870967741936, 24.530303030303024, 26.478260869565215, 28.428571428571427, 30.90909090909091, 33.86206896551724, 37.357142857142854, 41.40425531914893, 45.5, 50.30769230769231, 54.33333333333333, 57.875, 61.75, 67.81818181818181, 82.0]\n",
      "random-forest [20.0, 21.5, 25.5, 29.5, 33.5, 37.5, 41.5, 44.5, 48.5, 52.5, 55.0, 57.0, 59.5, 62.5, 65.0, 68.5, 82.0]\n",
      "equal-width [20.0, 24.75, 28.5, 32.25, 36.0, 39.75, 43.5, 47.25, 51.0, 54.75, 58.5, 62.25, 66.0, 69.75, 73.5, 81.0]\n",
      "chi-merge [20.0, 24.0, 25.0, 28.0, 29.0, 30.0, 42.0, 43.0, 51.0, 54.0, 59.0, 62.0, 64.0, 66.0, 69.0, 70.0, 82.0]\n",
      "kbins [20.0, 24.75, 28.5, 32.25, 36.0, 39.75, 43.5, 47.25, 51.0, 54.75, 58.5, 62.25, 66.0, 69.75, 73.5, 77.25, 81.0]\n",
      "kbins-quantile [20.0, 22.0, 23.0, 24.0, 25.0, 26.0, 27.0, 29.0, 31.0, 34.0, 37.0, 40.75, 43.0, 47.0, 54.0, 81.0]\n",
      "decision-tree [20.0, 24.5, 25.5, 28.5, 29.5, 30.5, 41.5, 42.5, 43.5, 47.5, 49.5, 50.5, 51.5, 54.5, 57.5, 62.5, 82.0]\n",
      "kmeans [20.0, 21.53061224489796, 23.5438596491228, 25.839506172839503, 28.428571428571427, 30.90909090909091, 33.42857142857143, 35.578947368421055, 37.83870967741935, 41.40425531914893, 44.76470588235294, 47.086956521739125, 51.38095238095238, 55.86666666666666, 61.2, 67.81818181818181, 82.0]\n",
      "random-forest [20.0, 21.5, 25.25, 29.0, 32.75, 36.5, 40.25, 43.75, 46.75, 50.5, 53.875, 55.75, 58.625, 60.5, 62.875, 65.75, 68.625, 82.0]\n",
      "equal-width [20.0, 24.529, 28.059, 31.588, 35.118, 38.647, 42.176, 45.706, 49.235, 52.765, 56.294, 59.824, 63.353, 66.882, 70.412, 73.941, 81.0]\n",
      "chi-merge [20.0, 24.0, 25.0, 28.0, 29.0, 30.0, 42.0, 43.0, 49.0, 51.0, 54.0, 59.0, 62.0, 64.0, 66.0, 69.0, 70.0, 82.0]\n",
      "kbins [20.0, 24.529411764705884, 28.058823529411764, 31.588235294117645, 35.11764705882353, 38.64705882352941, 42.17647058823529, 45.705882352941174, 49.23529411764706, 52.76470588235294, 56.294117647058826, 59.8235294117647, 63.35294117647059, 66.88235294117646, 70.41176470588235, 73.94117647058823, 77.47058823529412, 81.0]\n",
      "kbins-quantile [20.0, 22.0, 24.0, 25.0, 25.529411764705884, 27.0, 28.0, 30.0, 32.0, 35.0, 38.0, 41.0, 44.0, 48.0, 55.0, 81.0]\n",
      "decision-tree [20.0, 24.5, 25.5, 28.5, 29.5, 30.5, 41.5, 42.5, 43.5, 47.5, 49.5, 50.5, 51.5, 54.5, 57.5, 62.5, 65.0, 82.0]\n",
      "kmeans [20.0, 21.53061224489796, 23.5438596491228, 25.406779661016945, 27.52173913043478, 30.0, 32.52173913043478, 35.07142857142857, 37.83870967741935, 41.40425531914893, 45.222222222222214, 47.92307692307692, 51.38095238095238, 55.33333333333333, 59.6, 65.33333333333333, 69.6, 82.0]\n",
      "random-forest [20.0, 21.5, 25.205882352941178, 28.911764705882355, 32.61764705882353, 36.32352941176471, 40.029411764705884, 43.73529411764706, 47.44117647058824, 49.32352941176471, 52.67647058823529, 54.529411764705884, 56.38235294117648, 58.73529411764706, 60.588235294117645, 62.44117647058824, 65.88235294117648, 68.64705882352942, 82.0]\n",
      "equal-width [20.0, 24.333, 27.667, 31.0, 34.333, 37.667, 41.0, 44.333, 47.667, 51.0, 54.333, 57.667, 61.0, 64.333, 67.667, 71.0, 74.333, 81.0]\n",
      "chi-merge [20.0, 24.0, 25.0, 28.0, 29.0, 30.0, 42.0, 43.0, 49.0, 50.0, 51.0, 54.0, 59.0, 62.0, 64.0, 66.0, 69.0, 70.0, 82.0]\n",
      "kbins [20.0, 24.333333333333332, 27.666666666666668, 31.0, 34.333333333333336, 37.66666666666667, 41.0, 44.333333333333336, 47.66666666666667, 51.0, 54.333333333333336, 57.66666666666667, 61.0, 64.33333333333334, 67.66666666666667, 71.0, 74.33333333333334, 77.66666666666667, 81.0]\n",
      "kbins-quantile [20.0, 22.0, 23.0, 24.0, 25.0, 26.0, 28.0, 29.0, 31.0, 33.0, 36.0, 39.0, 41.0, 45.0, 49.0, 55.16666666666663, 81.0]\n",
      "decision-tree [20.0, 24.5, 25.5, 28.5, 29.5, 30.5, 41.5, 42.5, 43.5, 47.5, 49.5, 50.5, 51.5, 54.5, 57.5, 62.5, 65.0, 66.5, 82.0]\n",
      "kmeans [20.0, 20.999999999999996, 22.33333333333333, 24.530303030303024, 26.0, 27.937499999999996, 30.90909090909091, 33.86206896551724, 36.541666666666664, 39.0, 41.78378378378378, 45.5, 49.68421052631578, 53.17647058823529, 57.5, 61.75, 66.57142857142857, 70.0, 82.0]\n",
      "random-forest [20.0, 21.5, 25.166666666666668, 28.833333333333332, 32.5, 36.166666666666664, 39.833333333333336, 43.5, 46.166666666666664, 48.666666666666664, 51.5, 53.833333333333336, 55.666666666666664, 57.5, 59.33333333333333, 61.166666666666664, 63.0, 64.83333333333333, 69.16666666666666, 82.0]\n",
      "equal-width [20.0, 24.158, 27.316, 30.474, 33.632, 36.789, 39.947, 43.105, 46.263, 49.421, 52.579, 55.737, 58.895, 62.053, 65.211, 68.368, 71.526, 74.684, 81.0]\n",
      "chi-merge [20.0, 24.0, 25.0, 28.0, 29.0, 30.0, 42.0, 43.0, 47.0, 49.0, 50.0, 51.0, 54.0, 59.0, 62.0, 64.0, 66.0, 69.0, 70.0, 82.0]\n",
      "kbins [20.0, 24.157894736842106, 27.315789473684212, 30.473684210526315, 33.631578947368425, 36.78947368421053, 39.94736842105263, 43.10526315789474, 46.26315789473684, 49.421052631578945, 52.578947368421055, 55.73684210526316, 58.89473684210526, 62.05263157894737, 65.21052631578948, 68.36842105263159, 71.52631578947368, 74.68421052631578, 77.84210526315789, 81.0]\n",
      "kbins-quantile [20.0, 22.0, 23.0, 24.0, 25.0, 26.0, 27.0, 28.0, 30.0, 31.89473684210526, 34.0, 37.0, 40.0, 42.0, 45.0, 50.0, 56.0, 81.0]\n",
      "decision-tree [20.0, 24.5, 25.5, 28.5, 29.5, 30.5, 41.5, 42.5, 43.5, 47.5, 49.5, 50.5, 51.5, 54.5, 57.5, 62.5, 65.0, 66.5, 69.5, 82.0]\n",
      "kmeans [20.0, 21.53061224489796, 23.5438596491228, 25.406779661016945, 27.52173913043478, 29.0, 30.90909090909091, 33.86206896551724, 36.970588235294116, 39.55555555555556, 41.78378378378378, 45.5, 49.07692307692307, 51.53846153846153, 54.33333333333333, 58.3, 62.333333333333336, 67.11111111111111, 71.0, 82.0]\n",
      "random-forest [20.0, 21.5, 24.815789473684212, 28.13157894736842, 31.447368421052634, 34.76315789473684, 38.078947368421055, 41.39473684210527, 44.71052631578948, 48.026315789473685, 49.921052631578945, 52.578947368421055, 54.23684210526316, 56.39473684210527, 58.05263157894737, 59.71052631578948, 61.868421052631575, 64.02631578947368, 66.6842105263158, 68.84210526315789, 82.0]\n",
      "equal-width [20.0, 24.0, 27.0, 30.0, 33.0, 36.0, 39.0, 42.0, 45.0, 48.0, 51.0, 54.0, 57.0, 60.0, 63.0, 66.0, 69.0, 72.0, 81.0]\n",
      "chi-merge [20.0, 24.0, 25.0, 28.0, 29.0, 30.0, 41.0, 42.0, 43.0, 47.0, 49.0, 50.0, 51.0, 54.0, 59.0, 62.0, 64.0, 66.0, 69.0, 70.0, 82.0]\n",
      "kbins [20.0, 24.0, 27.0, 30.0, 33.0, 36.0, 39.0, 42.0, 45.0, 48.0, 51.0, 54.0, 57.0, 60.0, 63.0, 66.0, 69.0, 72.0, 75.0, 78.0, 81.0]\n",
      "kbins-quantile [20.0, 22.0, 23.0, 24.0, 25.0, 27.0, 28.0, 29.0, 31.0, 33.0, 35.0, 38.0, 40.75, 42.0, 45.44999999999999, 50.0, 57.0, 81.0]\n",
      "decision-tree [20.0, 24.5, 25.5, 28.5, 29.5, 30.5, 41.5, 42.5, 43.5, 47.5, 49.5, 50.5, 51.5, 54.5, 57.5, 62.5, 65.0, 66.5, 69.5, 71.0, 82.0]\n",
      "kmeans [20.0, 20.999999999999996, 22.33333333333333, 24.530303030303024, 26.478260869565215, 28.0, 29.454545454545453, 31.379310344827587, 33.86206896551724, 36.541666666666664, 38.44444444444444, 40.61538461538461, 42.64, 45.71428571428571, 49.07692307692307, 51.8125, 54.42857142857143, 57.5, 61.75, 67.81818181818181, 82.0]\n",
      "random-forest [20.0, 21.5, 24.75, 28.0, 31.25, 34.5, 37.75, 41.0, 43.875, 46.5, 48.75, 51.0, 53.375, 55.5, 57.125, 58.75, 60.375, 62.5, 64.125, 66.75, 68.875, 82.0]\n",
      "bayesian-blocks [20.0, 22.5, 29.5, 46.5, 54.5, 69.5, 81.0]\n",
      "mdlp [20.0, 24.0, 28.920645161290324, 62.401290322580635, 82.0]\n",
      "Number of partitions: 146\n"
     ]
    }
   ],
   "source": [
    "raw_data = pd.read_csv(os.path.join(ppath, 'data', 'uciml_pima-indians-diabetes-database', 'diabetes.csv'))\n",
    "dataset = 'pima'\n",
    "min_num_bins = 2\n",
    "max_num_bins = 20\n",
    "target = 'Outcome'\n",
    "semantic_metrics = ['gpt_distance', 'l2_norm', 'KLDiv']\n",
    "attributes = {'Age': [-1, 18, 35, 50, 65, 100], 'Glucose': [-1, 140, 200], 'BMI': [-1, 18.5, 25, 30, 68], }\n",
    "\n",
    "for attr, gold_standard_bins in attributes.items():\n",
    "    \n",
    "    ss = get_data_imputation_search_space(raw_data, attr, target, gold_standard_bins, min_num_bins, max_num_bins)\n",
    "    \n",
    "    break"
   ]
  },
  {
   "cell_type": "code",
   "execution_count": 12,
   "metadata": {},
   "outputs": [],
   "source": [
    "def cluster_sampling(search_space, num_samples:int=2, frac_outlier_samples=0.5, semantic_metric='l2_norm') -> List:\n",
    "\n",
    "    pca = PCA(n_components=2)\n",
    "    X = np.array([p.binned_values for p in search_space.candidates])\n",
    "    processed = pca.fit_transform(X)\n",
    "    pcadf = pd.DataFrame( data = processed, columns = ['PC1', 'PC2'])\n",
    "\n",
    "    clusterer = hdbscan.HDBSCAN(min_cluster_size=2)\n",
    "    pca = PCA(n_components=5)\n",
    "    X = np.array([p.binned_values for p in search_space.candidates])\n",
    "    #print(\"X:\", X)\n",
    "    X = pca.fit_transform(X)\n",
    "    hdbscan_clusters = clusterer.fit_predict(X)\n",
    "    print(\"Number of clusters:\", len(np.unique(hdbscan_clusters)))\n",
    "\n",
    "    outliers = [0 if c == -1 else 1 for c in hdbscan_clusters]\n",
    "\n",
    "    plt.scatter(pcadf['PC1'], pcadf['PC2'], c=outliers, cmap='coolwarm', alpha=0.5)\n",
    "    plt.xlabel('PC1')\n",
    "    plt.ylabel('PC2')\n",
    "    plt.show()\n",
    "\n",
    "    # Get indices of -1 cluster\n",
    "    outlier_indices = np.where(hdbscan_clusters == -1)[0]\n",
    "    outliers = [search_space.candidates[i] for i in outlier_indices]\n",
    "    if semantic_metric == 'l2_norm':\n",
    "        semantics = [p.l2_norm for p in outliers]\n",
    "    elif semantic_metric == 'gpt_distance':\n",
    "        semantics = [p.gpt_distance for p in outliers]\n",
    "    elif semantic_metric == 'KLDiv':\n",
    "        semantics = [p.KLDiv for p in outliers]\n",
    "    else: raise ValueError(\"Invalid semantic metric\")\n",
    "    utility = [p.utility for p in outliers]\n",
    "    outlier_points = [np.array(semantics), np.array(utility)]\n",
    "    outlier_indices = np.random.choice(outlier_indices, int(len(outlier_indices) * frac_outlier_samples), replace=False)\n",
    "\n",
    "    sampled_indices = []\n",
    "    for c in np.unique(hdbscan_clusters):\n",
    "        if c == -1: sampled_indices.extend(outlier_indices)\n",
    "        cluster_indices = np.where(hdbscan_clusters == c)[0]\n",
    "        # Sample two partition from the cluster\n",
    "        sampled_indices.extend(np.random.choice(cluster_indices, num_samples, replace=False))\n",
    "    \n",
    "    # Add gold standard partition to the sampled partitions\n",
    "    if 0 not in sampled_indices:\n",
    "        sampled_indices.append(0)\n",
    "    sampled_partitions = [search_space.candidates[i] for i in sampled_indices]\n",
    "    explored_points, pareto_points = get_pareto_front(sampled_partitions, semantic_metric)\n",
    "    \n",
    "    return explored_points, pareto_points, outlier_points\n"
   ]
  },
  {
   "cell_type": "code",
   "execution_count": 13,
   "metadata": {},
   "outputs": [
    {
     "name": "stdout",
     "output_type": "stream",
     "text": [
      "Datapoint shape to compute Pareto points: (2, 146)\n",
      "Pareto points: [[0.5705384594247325, 0.9388020833333334], [0.5705384594247325, 0.9388020833333334], [0.815344366987309, 0.7734375], [0.9241715724628347, 0.76953125], [0.943075473550203, 0.765625], [0.9572108110089547, 0.7565104166666666], [1.0, 0.7330729166666666]]\n",
      "Number of clusters: 14\n"
     ]
    },
    {
     "data": {
      "image/png": "[encoded data removed]",
      "text/plain": [
       "<Figure size 432x288 with 1 Axes>"
      ]
     },
     "metadata": {
      "needs_background": "light"
     },
     "output_type": "display_data"
    },
    {
     "name": "stdout",
     "output_type": "stream",
     "text": [
      "Datapoint shape to compute Pareto points: (2, 19)\n",
      "Pareto points: [[0.5705384594247325, 0.9388020833333334], [0.6944659540122743, 0.64453125], [0.6804284030273491, 0.72265625]]\n"
     ]
    }
   ],
   "source": [
    "#for semantic_metric in semantic_metrics:\n",
    "semantic_metric = 'l2_norm'\n",
    "datapoints, gt_pareto_points = get_pareto_front(ss.candidates, semantic_metric)\n",
    "explored_points, est_pareto_points, outliers = cluster_sampling(ss, 1, 0.5, semantic_metric)"
   ]
  },
  {
   "cell_type": "code",
   "execution_count": 14,
   "metadata": {},
   "outputs": [
    {
     "name": "stdout",
     "output_type": "stream",
     "text": [
      "Percentage of outliers: 7.534246575342466\n"
     ]
    },
    {
     "data": {
      "image/png": "[encoded data removed]",
      "text/plain": [
       "<Figure size 432x288 with 1 Axes>"
      ]
     },
     "metadata": {
      "needs_background": "light"
     },
     "output_type": "display_data"
    }
   ],
   "source": [
    "datapoints = np.array(datapoints)\n",
    "outliers = np.array(outliers)\n",
    "print(\"Percentage of outliers:\", len(outliers[0]) / len(datapoints[0]) * 100)\n",
    "# Set size of the plot\n",
    "f, ax = plt.subplots(figsize=(6, 4))\n",
    "ax.scatter(datapoints[0], datapoints[1], c='blue', label='Data points', alpha=0.3)\n",
    "ax.scatter(outliers[0], outliers[1], c='red', label='Outliers', alpha=0.3)\n",
    "ax.xaxis.set_tick_params(labelsize=14)\n",
    "ax.yaxis.set_tick_params(labelsize=14)\n",
    "ax.legend()\n",
    "plt.show()"
   ]
  },
  {
   "cell_type": "code",
   "execution_count": null,
   "metadata": {},
   "outputs": [],
   "source": []
  }
 ],
 "metadata": {
  "kernelspec": {
   "display_name": "lucid",
   "language": "python",
   "name": "python3"
  },
  "language_info": {
   "codemirror_mode": {
    "name": "ipython",
    "version": 3
   },
   "file_extension": ".py",
   "mimetype": "text/x-python",
   "name": "python",
   "nbconvert_exporter": "python",
   "pygments_lexer": "ipython3",
   "version": "3.9.12"
  }
 },
 "nbformat": 4,
 "nbformat_minor": 2
}
