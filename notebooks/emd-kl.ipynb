{
 "cells": [
  {
   "cell_type": "code",
   "execution_count": 16,
   "metadata": {},
   "outputs": [],
   "source": [
    "import pandas as pd\n",
    "import numpy as np\n",
    "import sys\n",
    "import os\n",
    "import matplotlib.pyplot as plt\n",
    "import graphviz\n",
    "import itertools\n",
    "#from sklearn.inspection import DecisionBoundaryDisplay\n",
    "from sklearn.tree import DecisionTreeClassifier, plot_tree\n",
    "from sklearn.model_selection import train_test_split\n",
    "from sklearn.impute import KNNImputer\n",
    "from sklearn import tree\n",
    "from sklearn.metrics import accuracy_score, confusion_matrix, classification_report, mean_absolute_error\n",
    "from typing import List, Union, Any, Tuple, Dict\n",
    "import time\n",
    "from permetrics.regression import RegressionMetric\n",
    "import oapackage\n",
    "from scipy.stats import wasserstein_distance, binned_statistic\n",
    "\n",
    "import warnings\n",
    "warnings.filterwarnings('ignore')\n",
    "\n",
    "# Project path\n",
    "ppath = sys.path[0] + '/../'\n",
    "sys.path.append(os.path.join(ppath, 'code'))\n",
    "from discretizers import *"
   ]
  },
  {
   "cell_type": "code",
   "execution_count": 3,
   "metadata": {},
   "outputs": [
    {
     "data": {
      "text/html": [
       "<div>\n",
       "<style scoped>\n",
       "    .dataframe tbody tr th:only-of-type {\n",
       "        vertical-align: middle;\n",
       "    }\n",
       "\n",
       "    .dataframe tbody tr th {\n",
       "        vertical-align: top;\n",
       "    }\n",
       "\n",
       "    .dataframe thead th {\n",
       "        text-align: right;\n",
       "    }\n",
       "</style>\n",
       "<table border=\"1\" class=\"dataframe\">\n",
       "  <thead>\n",
       "    <tr style=\"text-align: right;\">\n",
       "      <th></th>\n",
       "      <th>Pregnancies</th>\n",
       "      <th>Glucose</th>\n",
       "      <th>BloodPressure</th>\n",
       "      <th>SkinThickness</th>\n",
       "      <th>Insulin</th>\n",
       "      <th>BMI</th>\n",
       "      <th>DiabetesPedigreeFunction</th>\n",
       "      <th>Age</th>\n",
       "      <th>Outcome</th>\n",
       "    </tr>\n",
       "  </thead>\n",
       "  <tbody>\n",
       "    <tr>\n",
       "      <th>count</th>\n",
       "      <td>768.000000</td>\n",
       "      <td>768.000000</td>\n",
       "      <td>768.000000</td>\n",
       "      <td>768.000000</td>\n",
       "      <td>768.000000</td>\n",
       "      <td>768.000000</td>\n",
       "      <td>768.000000</td>\n",
       "      <td>768.000000</td>\n",
       "      <td>768.000000</td>\n",
       "    </tr>\n",
       "    <tr>\n",
       "      <th>mean</th>\n",
       "      <td>3.845052</td>\n",
       "      <td>120.894531</td>\n",
       "      <td>69.105469</td>\n",
       "      <td>20.536458</td>\n",
       "      <td>79.799479</td>\n",
       "      <td>31.992578</td>\n",
       "      <td>0.471876</td>\n",
       "      <td>33.240885</td>\n",
       "      <td>0.348958</td>\n",
       "    </tr>\n",
       "    <tr>\n",
       "      <th>std</th>\n",
       "      <td>3.369578</td>\n",
       "      <td>31.972618</td>\n",
       "      <td>19.355807</td>\n",
       "      <td>15.952218</td>\n",
       "      <td>115.244002</td>\n",
       "      <td>7.884160</td>\n",
       "      <td>0.331329</td>\n",
       "      <td>11.760232</td>\n",
       "      <td>0.476951</td>\n",
       "    </tr>\n",
       "    <tr>\n",
       "      <th>min</th>\n",
       "      <td>0.000000</td>\n",
       "      <td>0.000000</td>\n",
       "      <td>0.000000</td>\n",
       "      <td>0.000000</td>\n",
       "      <td>0.000000</td>\n",
       "      <td>0.000000</td>\n",
       "      <td>0.078000</td>\n",
       "      <td>21.000000</td>\n",
       "      <td>0.000000</td>\n",
       "    </tr>\n",
       "    <tr>\n",
       "      <th>25%</th>\n",
       "      <td>1.000000</td>\n",
       "      <td>99.000000</td>\n",
       "      <td>62.000000</td>\n",
       "      <td>0.000000</td>\n",
       "      <td>0.000000</td>\n",
       "      <td>27.300000</td>\n",
       "      <td>0.243750</td>\n",
       "      <td>24.000000</td>\n",
       "      <td>0.000000</td>\n",
       "    </tr>\n",
       "    <tr>\n",
       "      <th>50%</th>\n",
       "      <td>3.000000</td>\n",
       "      <td>117.000000</td>\n",
       "      <td>72.000000</td>\n",
       "      <td>23.000000</td>\n",
       "      <td>30.500000</td>\n",
       "      <td>32.000000</td>\n",
       "      <td>0.372500</td>\n",
       "      <td>29.000000</td>\n",
       "      <td>0.000000</td>\n",
       "    </tr>\n",
       "    <tr>\n",
       "      <th>75%</th>\n",
       "      <td>6.000000</td>\n",
       "      <td>140.250000</td>\n",
       "      <td>80.000000</td>\n",
       "      <td>32.000000</td>\n",
       "      <td>127.250000</td>\n",
       "      <td>36.600000</td>\n",
       "      <td>0.626250</td>\n",
       "      <td>41.000000</td>\n",
       "      <td>1.000000</td>\n",
       "    </tr>\n",
       "    <tr>\n",
       "      <th>max</th>\n",
       "      <td>17.000000</td>\n",
       "      <td>199.000000</td>\n",
       "      <td>122.000000</td>\n",
       "      <td>99.000000</td>\n",
       "      <td>846.000000</td>\n",
       "      <td>67.100000</td>\n",
       "      <td>2.420000</td>\n",
       "      <td>81.000000</td>\n",
       "      <td>1.000000</td>\n",
       "    </tr>\n",
       "  </tbody>\n",
       "</table>\n",
       "</div>"
      ],
      "text/plain": [
       "       Pregnancies     Glucose  BloodPressure  SkinThickness     Insulin  \\\n",
       "count   768.000000  768.000000     768.000000     768.000000  768.000000   \n",
       "mean      3.845052  120.894531      69.105469      20.536458   79.799479   \n",
       "std       3.369578   31.972618      19.355807      15.952218  115.244002   \n",
       "min       0.000000    0.000000       0.000000       0.000000    0.000000   \n",
       "25%       1.000000   99.000000      62.000000       0.000000    0.000000   \n",
       "50%       3.000000  117.000000      72.000000      23.000000   30.500000   \n",
       "75%       6.000000  140.250000      80.000000      32.000000  127.250000   \n",
       "max      17.000000  199.000000     122.000000      99.000000  846.000000   \n",
       "\n",
       "              BMI  DiabetesPedigreeFunction         Age     Outcome  \n",
       "count  768.000000                768.000000  768.000000  768.000000  \n",
       "mean    31.992578                  0.471876   33.240885    0.348958  \n",
       "std      7.884160                  0.331329   11.760232    0.476951  \n",
       "min      0.000000                  0.078000   21.000000    0.000000  \n",
       "25%     27.300000                  0.243750   24.000000    0.000000  \n",
       "50%     32.000000                  0.372500   29.000000    0.000000  \n",
       "75%     36.600000                  0.626250   41.000000    1.000000  \n",
       "max     67.100000                  2.420000   81.000000    1.000000  "
      ]
     },
     "execution_count": 3,
     "metadata": {},
     "output_type": "execute_result"
    }
   ],
   "source": [
    "df = pd.read_csv(os.path.join(ppath, 'data', 'uciml_pima-indians-diabetes-database', 'diabetes.csv'))\n",
    "df.describe()"
   ]
  },
  {
   "cell_type": "code",
   "execution_count": 8,
   "metadata": {},
   "outputs": [],
   "source": [
    "age = list(df['Age'])\n",
    "N = len(age)\n",
    "bins0 = [0, 19, 45, 65, 85, 100]\n",
    "bins1 = [0, 10, 20, 30, 40, 50, 60, 70, 80, 90, 100]\n",
    "bins2 = [0, 20, 40, 60, 80, 100]\n",
    "binning = [bins0, bins1, bins2]"
   ]
  },
  {
   "cell_type": "code",
   "execution_count": 25,
   "metadata": {},
   "outputs": [
    {
     "name": "stdout",
     "output_type": "stream",
     "text": [
      "[0.         0.82682292 0.15234375 0.02083333 0.        ]\n",
      "[0.         0.         0.515625   0.21484375 0.15364583 0.07421875\n",
      " 0.03776042 0.00260417 0.00130208 0.        ]\n",
      "[0.         0.73046875 0.22786458 0.04036458 0.00130208]\n"
     ]
    }
   ],
   "source": [
    "ls = []\n",
    "for bins in binning:\n",
    "    hist, bin_edges = np.histogram(age, bins=bins)\n",
    "    distribution = hist / N\n",
    "    print(distribution)\n",
    "\n",
    "    medians, _, _ = binned_statistic(age, age, bins=bins, statistic='median')\n",
    "    medians[np.isnan(medians)] = 0\n",
    "    ls.append((medians, distribution))"
   ]
  },
  {
   "cell_type": "code",
   "execution_count": 15,
   "metadata": {},
   "outputs": [
    {
     "name": "stdout",
     "output_type": "stream",
     "text": [
      "0.03854166666666666\n"
     ]
    }
   ],
   "source": [
    "d = wasserstein_distance(ls[0], ls[2])\n",
    "print(d)"
   ]
  },
  {
   "cell_type": "code",
   "execution_count": 27,
   "metadata": {},
   "outputs": [
    {
     "name": "stdout",
     "output_type": "stream",
     "text": [
      "5.545572916666666\n"
     ]
    }
   ],
   "source": [
    "i = 0\n",
    "j = 1\n",
    "d = wasserstein_distance(ls[i][0], ls[j][0], ls[i][1], ls[j][1])\n",
    "print(d)"
   ]
  },
  {
   "cell_type": "code",
   "execution_count": 32,
   "metadata": {},
   "outputs": [
    {
     "name": "stdout",
     "output_type": "stream",
     "text": [
      "{'bins': [0, 19, 45, 65, 85, 100], 'distribution': array([0.        , 0.82682292, 0.15234375, 0.02083333, 0.        ]), 'gpt': 1.0, 'impute_accuracy': 0.7473958333333334}\n"
     ]
    }
   ],
   "source": [
    "import json\n",
    "import ast\n",
    "f = open(os.path.join(ppath, 'scratch/age_partitions.json'), \"r\")\n",
    "data = json.load(f)\n",
    "f.close()\n",
    "binnings = list(eval(data))\n",
    "col = 'Age'\n",
    "outs = []\n",
    "age = list(df['Age'])\n",
    "N = len(age)\n",
    "\n",
    "data = df.copy()\n",
    "data['Age.gt'] = data['Age']\n",
    "df_nan = df.sample(frac=0.3, random_state=42)\n",
    "data.loc[df.index.isin(df_nan.index),'Age'] = np.nan\n",
    "\n",
    "for i in binnings:\n",
    "    bins = i['bins']\n",
    "    data_i = data.copy()\n",
    "    data_i[col + '.binned'] = pd.cut(data_i[col], bins=bins, labels=bins[1:])\n",
    "    #data_i[col + '.binned'] = data_i[col + '.binned'].astype('float64')\n",
    "\n",
    "    imputer = KNNImputer(n_neighbors=len(bins)-1)\n",
    "    data_imputed = imputer.fit_transform(data_i[col + '.binned'].values.reshape(-1, 1))\n",
    "    data_imputed = np.round(data_imputed)\n",
    "    data_i['Age.imputed'] = data_imputed\n",
    "    data_i[col + '.final'] = pd.cut(data_i[col+'.imputed'], bins=bins, labels=bins[1:])\n",
    "    data_i[col + '.final'] = data_i[col + '.final'].astype('float64')\n",
    "\n",
    "    if len(data_i[data_i[col + '.final'].isnull()]) > 200:\n",
    "        print(f\"Skipping {bins}\")\n",
    "        continue\n",
    "    #data_i['Age.final'] = data_i['Age.final'].fillna(-1)\n",
    "    value_final = np.array(data_i['Age.final'].values)\n",
    "    value_final[np.isnan(value_final)] = -1\n",
    "\n",
    "    # Evaluate data imputation\n",
    "    data_i['Age.gt'] = pd.cut(data_i['Age.gt'], bins=bins, labels=bins[1:])\n",
    "    data_i['Age.gt'] = data_i['Age.gt'].astype('float64')\n",
    "    value_gt = np.array(data_i['Age.gt'].values)\n",
    "    value_gt[np.isnan(value_gt)] = -1\n",
    "    #data_i['Age.gt'] = data_i['Age.gt'].fillna(-1)\n",
    "    #data_i = data_i.dropna(subset=['Age.final', 'Age.gt'])\n",
    "    impute_accuracy = accuracy_score(value_gt, value_final)\n",
    "\n",
    "    #print(f\"{bins}:\", 1-i['gpt'], impute_accuracy)\n",
    "\n",
    "    hist, bin_edges = np.histogram(age, bins=bins)\n",
    "    distribution = hist / N\n",
    "\n",
    "    outs.append({'bins': bins, 'distribution': distribution, 'gpt': 1-i['gpt'], 'impute_accuracy': impute_accuracy})\n",
    "\n",
    "print(outs[0])"
   ]
  },
  {
   "cell_type": "code",
   "execution_count": 68,
   "metadata": {},
   "outputs": [],
   "source": [
    "# dictionary to dataframe\n",
    "df_out = pd.DataFrame(outs)\n",
    "# order by impute accuracy\n",
    "df_out = df_out.sort_values(by='impute_accuracy', ascending=False)\n",
    "df_out.to_csv(os.path.join(ppath, 'scratch/age_partitions.csv'), index=False)\n",
    "# bin impute accuracy\n",
    "df_out['cluster'] = pd.cut(df_out['impute_accuracy'], bins=[0, 0.7, 0.75, 0.8, 0.85, 0.9], labels=['0-0.7', '0.7-0.75', '0.75-0.8', '0.8-0.85', '0.85-0.9'])\n",
    "df_out.to_csv(os.path.join(ppath, 'scratch/age_partitions.csv'), index=False)"
   ]
  },
  {
   "cell_type": "code",
   "execution_count": 47,
   "metadata": {},
   "outputs": [
    {
     "data": {
      "text/plain": [
       "cluster\n",
       "0-0.7        7\n",
       "0.7-0.75    12\n",
       "0.75-0.8     4\n",
       "0.8-0.85     3\n",
       "0.85-0.9     2\n",
       "dtype: int64"
      ]
     },
     "execution_count": 47,
     "metadata": {},
     "output_type": "execute_result"
    }
   ],
   "source": [
    "df_out.groupby('cluster').size()"
   ]
  },
  {
   "cell_type": "code",
   "execution_count": 79,
   "metadata": {},
   "outputs": [
    {
     "name": "stdout",
     "output_type": "stream",
     "text": [
      "0.047526042500000004 0.101302084 0.17252604333333335\n",
      "0.13333333533333333\n",
      "0.11386447954545764 0.18395996317599825 0.183959964375\n",
      "0.00010512046166308608\n"
     ]
    }
   ],
   "source": [
    "i = [0.,         0.28515625, 0.69401042, 0.02083333]\n",
    "j = [[0.28515625, 0.59895833, 0.11458333, 0.00130208],\n",
    "     [0.,         0.515625,   0.44270833, 0.04036458, 0.00130208],\n",
    "     [0.515625,   0.44270833, 0.04166667]]\n",
    "\n",
    "print(wasserstein_distance(i, j[0]), wasserstein_distance(i, j[1]), wasserstein_distance(i, j[2]))\n",
    "print(wasserstein_distance(j[2], j[1]))\n",
    "\n",
    "print(wasserstein_distance(i, j[0],i, j[0]), wasserstein_distance(i, j[1],i, j[1]), wasserstein_distance(i, j[2],i, j[2]))\n",
    "print(wasserstein_distance(j[2], j[1],j[2], j[1]))"
   ]
  },
  {
   "cell_type": "code",
   "execution_count": 67,
   "metadata": {},
   "outputs": [
    {
     "ename": "ValueError",
     "evalue": "Value and weight array-likes for the same empirical distribution must be of the same size.",
     "output_type": "error",
     "traceback": [
      "\u001b[0;31m---------------------------------------------------------------------------\u001b[0m",
      "\u001b[0;31mValueError\u001b[0m                                Traceback (most recent call last)",
      "Input \u001b[0;32mIn [67]\u001b[0m, in \u001b[0;36m<cell line: 3>\u001b[0;34m()\u001b[0m\n\u001b[1;32m      1\u001b[0m \u001b[38;5;28;01mfrom\u001b[39;00m \u001b[38;5;21;01mscipy\u001b[39;00m\u001b[38;5;21;01m.\u001b[39;00m\u001b[38;5;21;01moptimize\u001b[39;00m \u001b[38;5;28;01mimport\u001b[39;00m minimize\n\u001b[0;32m----> 3\u001b[0m \u001b[43mminimize\u001b[49m\u001b[43m(\u001b[49m\u001b[43mwasserstein_distance\u001b[49m\u001b[43m,\u001b[49m\u001b[43m \u001b[49m\u001b[43mj\u001b[49m\u001b[43m[\u001b[49m\u001b[38;5;241;43m0\u001b[39;49m\u001b[43m]\u001b[49m\u001b[43m,\u001b[49m\u001b[43m \u001b[49m\u001b[43margs\u001b[49m\u001b[38;5;241;43m=\u001b[39;49m\u001b[43m(\u001b[49m\u001b[43mi\u001b[49m\u001b[43m,\u001b[49m\u001b[43m \u001b[49m\u001b[43mj\u001b[49m\u001b[43m[\u001b[49m\u001b[38;5;241;43m1\u001b[39;49m\u001b[43m]\u001b[49m\u001b[43m)\u001b[49m\u001b[43m,\u001b[49m\u001b[43mmethod\u001b[49m\u001b[38;5;241;43m=\u001b[39;49m\u001b[38;5;124;43m'\u001b[39;49m\u001b[38;5;124;43mNelder-Mead\u001b[39;49m\u001b[38;5;124;43m'\u001b[39;49m\u001b[43m)\u001b[49m\n",
      "File \u001b[0;32m~/anaconda3/envs/lucid/lib/python3.9/site-packages/scipy/optimize/_minimize.py:611\u001b[0m, in \u001b[0;36mminimize\u001b[0;34m(fun, x0, args, method, jac, hess, hessp, bounds, constraints, tol, callback, options)\u001b[0m\n\u001b[1;32m    608\u001b[0m     constraints \u001b[38;5;241m=\u001b[39m standardize_constraints(constraints, x0, meth)\n\u001b[1;32m    610\u001b[0m \u001b[38;5;28;01mif\u001b[39;00m meth \u001b[38;5;241m==\u001b[39m \u001b[38;5;124m'\u001b[39m\u001b[38;5;124mnelder-mead\u001b[39m\u001b[38;5;124m'\u001b[39m:\n\u001b[0;32m--> 611\u001b[0m     \u001b[38;5;28;01mreturn\u001b[39;00m \u001b[43m_minimize_neldermead\u001b[49m\u001b[43m(\u001b[49m\u001b[43mfun\u001b[49m\u001b[43m,\u001b[49m\u001b[43m \u001b[49m\u001b[43mx0\u001b[49m\u001b[43m,\u001b[49m\u001b[43m \u001b[49m\u001b[43margs\u001b[49m\u001b[43m,\u001b[49m\u001b[43m \u001b[49m\u001b[43mcallback\u001b[49m\u001b[43m,\u001b[49m\u001b[43m \u001b[49m\u001b[43mbounds\u001b[49m\u001b[38;5;241;43m=\u001b[39;49m\u001b[43mbounds\u001b[49m\u001b[43m,\u001b[49m\n\u001b[1;32m    612\u001b[0m \u001b[43m                                \u001b[49m\u001b[38;5;241;43m*\u001b[39;49m\u001b[38;5;241;43m*\u001b[39;49m\u001b[43moptions\u001b[49m\u001b[43m)\u001b[49m\n\u001b[1;32m    613\u001b[0m \u001b[38;5;28;01melif\u001b[39;00m meth \u001b[38;5;241m==\u001b[39m \u001b[38;5;124m'\u001b[39m\u001b[38;5;124mpowell\u001b[39m\u001b[38;5;124m'\u001b[39m:\n\u001b[1;32m    614\u001b[0m     \u001b[38;5;28;01mreturn\u001b[39;00m _minimize_powell(fun, x0, args, callback, bounds, \u001b[38;5;241m*\u001b[39m\u001b[38;5;241m*\u001b[39moptions)\n",
      "File \u001b[0;32m~/anaconda3/envs/lucid/lib/python3.9/site-packages/scipy/optimize/optimize.py:750\u001b[0m, in \u001b[0;36m_minimize_neldermead\u001b[0;34m(func, x0, args, callback, maxiter, maxfev, disp, return_all, initial_simplex, xatol, fatol, adaptive, bounds, **unknown_options)\u001b[0m\n\u001b[1;32m    747\u001b[0m fsim \u001b[38;5;241m=\u001b[39m np\u001b[38;5;241m.\u001b[39mempty((N \u001b[38;5;241m+\u001b[39m \u001b[38;5;241m1\u001b[39m,), \u001b[38;5;28mfloat\u001b[39m)\n\u001b[1;32m    749\u001b[0m \u001b[38;5;28;01mfor\u001b[39;00m k \u001b[38;5;129;01min\u001b[39;00m \u001b[38;5;28mrange\u001b[39m(N \u001b[38;5;241m+\u001b[39m \u001b[38;5;241m1\u001b[39m):\n\u001b[0;32m--> 750\u001b[0m     fsim[k] \u001b[38;5;241m=\u001b[39m \u001b[43mfunc\u001b[49m\u001b[43m(\u001b[49m\u001b[43msim\u001b[49m\u001b[43m[\u001b[49m\u001b[43mk\u001b[49m\u001b[43m]\u001b[49m\u001b[43m)\u001b[49m\n\u001b[1;32m    752\u001b[0m ind \u001b[38;5;241m=\u001b[39m np\u001b[38;5;241m.\u001b[39margsort(fsim)\n\u001b[1;32m    753\u001b[0m fsim \u001b[38;5;241m=\u001b[39m np\u001b[38;5;241m.\u001b[39mtake(fsim, ind, \u001b[38;5;241m0\u001b[39m)\n",
      "File \u001b[0;32m~/anaconda3/envs/lucid/lib/python3.9/site-packages/scipy/optimize/optimize.py:464\u001b[0m, in \u001b[0;36m_wrap_function.<locals>.function_wrapper\u001b[0;34m(x, *wrapper_args)\u001b[0m\n\u001b[1;32m    462\u001b[0m \u001b[38;5;28;01mdef\u001b[39;00m \u001b[38;5;21mfunction_wrapper\u001b[39m(x, \u001b[38;5;241m*\u001b[39mwrapper_args):\n\u001b[1;32m    463\u001b[0m     ncalls[\u001b[38;5;241m0\u001b[39m] \u001b[38;5;241m+\u001b[39m\u001b[38;5;241m=\u001b[39m \u001b[38;5;241m1\u001b[39m\n\u001b[0;32m--> 464\u001b[0m     \u001b[38;5;28;01mreturn\u001b[39;00m \u001b[43mfunction\u001b[49m\u001b[43m(\u001b[49m\u001b[43mnp\u001b[49m\u001b[38;5;241;43m.\u001b[39;49m\u001b[43mcopy\u001b[49m\u001b[43m(\u001b[49m\u001b[43mx\u001b[49m\u001b[43m)\u001b[49m\u001b[43m,\u001b[49m\u001b[43m \u001b[49m\u001b[38;5;241;43m*\u001b[39;49m\u001b[43m(\u001b[49m\u001b[43mwrapper_args\u001b[49m\u001b[43m \u001b[49m\u001b[38;5;241;43m+\u001b[39;49m\u001b[43m \u001b[49m\u001b[43margs\u001b[49m\u001b[43m)\u001b[49m\u001b[43m)\u001b[49m\n",
      "File \u001b[0;32m~/anaconda3/envs/lucid/lib/python3.9/site-packages/scipy/stats/stats.py:8319\u001b[0m, in \u001b[0;36mwasserstein_distance\u001b[0;34m(u_values, v_values, u_weights, v_weights)\u001b[0m\n\u001b[1;32m   8245\u001b[0m \u001b[38;5;28;01mdef\u001b[39;00m \u001b[38;5;21mwasserstein_distance\u001b[39m(u_values, v_values, u_weights\u001b[38;5;241m=\u001b[39m\u001b[38;5;28;01mNone\u001b[39;00m, v_weights\u001b[38;5;241m=\u001b[39m\u001b[38;5;28;01mNone\u001b[39;00m):\n\u001b[1;32m   8246\u001b[0m \u001b[38;5;250m    \u001b[39m\u001b[38;5;124mr\u001b[39m\u001b[38;5;124;03m\"\"\"\u001b[39;00m\n\u001b[1;32m   8247\u001b[0m \u001b[38;5;124;03m    Compute the first Wasserstein distance between two 1D distributions.\u001b[39;00m\n\u001b[1;32m   8248\u001b[0m \n\u001b[0;32m   (...)\u001b[0m\n\u001b[1;32m   8317\u001b[0m \n\u001b[1;32m   8318\u001b[0m \u001b[38;5;124;03m    \"\"\"\u001b[39;00m\n\u001b[0;32m-> 8319\u001b[0m     \u001b[38;5;28;01mreturn\u001b[39;00m \u001b[43m_cdf_distance\u001b[49m\u001b[43m(\u001b[49m\u001b[38;5;241;43m1\u001b[39;49m\u001b[43m,\u001b[49m\u001b[43m \u001b[49m\u001b[43mu_values\u001b[49m\u001b[43m,\u001b[49m\u001b[43m \u001b[49m\u001b[43mv_values\u001b[49m\u001b[43m,\u001b[49m\u001b[43m \u001b[49m\u001b[43mu_weights\u001b[49m\u001b[43m,\u001b[49m\u001b[43m \u001b[49m\u001b[43mv_weights\u001b[49m\u001b[43m)\u001b[49m\n",
      "File \u001b[0;32m~/anaconda3/envs/lucid/lib/python3.9/site-packages/scipy/stats/stats.py:8448\u001b[0m, in \u001b[0;36m_cdf_distance\u001b[0;34m(p, u_values, v_values, u_weights, v_weights)\u001b[0m\n\u001b[1;32m   8404\u001b[0m \u001b[38;5;28;01mdef\u001b[39;00m \u001b[38;5;21m_cdf_distance\u001b[39m(p, u_values, v_values, u_weights\u001b[38;5;241m=\u001b[39m\u001b[38;5;28;01mNone\u001b[39;00m, v_weights\u001b[38;5;241m=\u001b[39m\u001b[38;5;28;01mNone\u001b[39;00m):\n\u001b[1;32m   8405\u001b[0m \u001b[38;5;250m    \u001b[39m\u001b[38;5;124mr\u001b[39m\u001b[38;5;124;03m\"\"\"\u001b[39;00m\n\u001b[1;32m   8406\u001b[0m \u001b[38;5;124;03m    Compute, between two one-dimensional distributions :math:`u` and\u001b[39;00m\n\u001b[1;32m   8407\u001b[0m \u001b[38;5;124;03m    :math:`v`, whose respective CDFs are :math:`U` and :math:`V`, the\u001b[39;00m\n\u001b[0;32m   (...)\u001b[0m\n\u001b[1;32m   8446\u001b[0m \n\u001b[1;32m   8447\u001b[0m \u001b[38;5;124;03m    \"\"\"\u001b[39;00m\n\u001b[0;32m-> 8448\u001b[0m     u_values, u_weights \u001b[38;5;241m=\u001b[39m \u001b[43m_validate_distribution\u001b[49m\u001b[43m(\u001b[49m\u001b[43mu_values\u001b[49m\u001b[43m,\u001b[49m\u001b[43m \u001b[49m\u001b[43mu_weights\u001b[49m\u001b[43m)\u001b[49m\n\u001b[1;32m   8449\u001b[0m     v_values, v_weights \u001b[38;5;241m=\u001b[39m _validate_distribution(v_values, v_weights)\n\u001b[1;32m   8451\u001b[0m     u_sorter \u001b[38;5;241m=\u001b[39m np\u001b[38;5;241m.\u001b[39margsort(u_values)\n",
      "File \u001b[0;32m~/anaconda3/envs/lucid/lib/python3.9/site-packages/scipy/stats/stats.py:8520\u001b[0m, in \u001b[0;36m_validate_distribution\u001b[0;34m(values, weights)\u001b[0m\n\u001b[1;32m   8518\u001b[0m weights \u001b[38;5;241m=\u001b[39m np\u001b[38;5;241m.\u001b[39masarray(weights, dtype\u001b[38;5;241m=\u001b[39m\u001b[38;5;28mfloat\u001b[39m)\n\u001b[1;32m   8519\u001b[0m \u001b[38;5;28;01mif\u001b[39;00m \u001b[38;5;28mlen\u001b[39m(weights) \u001b[38;5;241m!=\u001b[39m \u001b[38;5;28mlen\u001b[39m(values):\n\u001b[0;32m-> 8520\u001b[0m     \u001b[38;5;28;01mraise\u001b[39;00m \u001b[38;5;167;01mValueError\u001b[39;00m(\u001b[38;5;124m'\u001b[39m\u001b[38;5;124mValue and weight array-likes for the same \u001b[39m\u001b[38;5;124m'\u001b[39m\n\u001b[1;32m   8521\u001b[0m                      \u001b[38;5;124m'\u001b[39m\u001b[38;5;124mempirical distribution must be of the same size.\u001b[39m\u001b[38;5;124m'\u001b[39m)\n\u001b[1;32m   8522\u001b[0m \u001b[38;5;28;01mif\u001b[39;00m np\u001b[38;5;241m.\u001b[39many(weights \u001b[38;5;241m<\u001b[39m \u001b[38;5;241m0\u001b[39m):\n\u001b[1;32m   8523\u001b[0m     \u001b[38;5;28;01mraise\u001b[39;00m \u001b[38;5;167;01mValueError\u001b[39;00m(\u001b[38;5;124m'\u001b[39m\u001b[38;5;124mAll weights must be non-negative.\u001b[39m\u001b[38;5;124m'\u001b[39m)\n",
      "\u001b[0;31mValueError\u001b[0m: Value and weight array-likes for the same empirical distribution must be of the same size."
     ]
    }
   ],
   "source": [
    "from scipy.optimize import minimize\n",
    "\n",
    "minimize(wasserstein_distance, j[0], args=(i, j[1]),method='Nelder-Mead')"
   ]
  },
  {
   "cell_type": "code",
   "execution_count": 40,
   "metadata": {},
   "outputs": [],
   "source": [
    "d1 = []\n",
    "d2 = []\n",
    "d3 = []\n",
    "for i in range(len(outs)):\n",
    "    d1.append(wasserstein_distance(outs[0]['distribution'], outs[i]['distribution']))\n",
    "    d2.append(abs(outs[0]['impute_accuracy'] - outs[i]['impute_accuracy']))\n",
    "    d3.append(outs[0]['gpt'] - outs[i]['gpt'])\n",
    "    #print(outs[i]['bins'], d[-1])"
   ]
  },
  {
   "cell_type": "code",
   "execution_count": 41,
   "metadata": {},
   "outputs": [
    {
     "data": {
      "text/plain": [
       "[<matplotlib.lines.Line2D at 0x7fdf79cb5910>]"
      ]
     },
     "execution_count": 41,
     "metadata": {},
     "output_type": "execute_result"
    },
    {
     "data": {
      "image/png": "[encoded data removed]",
      "text/plain": [
       "<Figure size 432x288 with 1 Axes>"
      ]
     },
     "metadata": {
      "needs_background": "light"
     },
     "output_type": "display_data"
    }
   ],
   "source": [
    "plt.plot(d1, d2, 'o')"
   ]
  },
  {
   "cell_type": "code",
   "execution_count": 39,
   "metadata": {},
   "outputs": [
    {
     "data": {
      "text/plain": [
       "[<matplotlib.lines.Line2D at 0x7fdfe8bff2e0>]"
      ]
     },
     "execution_count": 39,
     "metadata": {},
     "output_type": "execute_result"
    },
    {
     "data": {
      "image/png": "[encoded data removed]",
      "text/plain": [
       "<Figure size 432x288 with 1 Axes>"
      ]
     },
     "metadata": {
      "needs_background": "light"
     },
     "output_type": "display_data"
    }
   ],
   "source": [
    "plt.plot(d1, d3, 'o')"
   ]
  },
  {
   "cell_type": "code",
   "execution_count": 59,
   "metadata": {},
   "outputs": [
    {
     "ename": "ValueError",
     "evalue": "Input samples 'x' and 'y' should have the same last dimension.",
     "output_type": "error",
     "traceback": [
      "\u001b[0;31m---------------------------------------------------------------------------\u001b[0m",
      "\u001b[0;31mValueError\u001b[0m                                Traceback (most recent call last)",
      "Input \u001b[0;32mIn [59]\u001b[0m, in \u001b[0;36m<cell line: 28>\u001b[0;34m()\u001b[0m\n\u001b[1;32m     28\u001b[0m \u001b[38;5;28;01mfor\u001b[39;00m i \u001b[38;5;129;01min\u001b[39;00m \u001b[38;5;28mrange\u001b[39m(\u001b[38;5;241m500\u001b[39m):\n\u001b[1;32m     29\u001b[0m     optimizer\u001b[38;5;241m.\u001b[39mzero_grad()\n\u001b[0;32m---> 30\u001b[0m     barycenter_loss \u001b[38;5;241m=\u001b[39m \u001b[43mloss\u001b[49m\u001b[43m(\u001b[49m\u001b[43mbarycenter_support\u001b[49m\u001b[43m,\u001b[49m\u001b[43m \u001b[49m\u001b[43mtorch\u001b[49m\u001b[38;5;241;43m.\u001b[39;49m\u001b[43mones\u001b[49m\u001b[43m(\u001b[49m\u001b[43mnum_barycenter_points\u001b[49m\u001b[43m)\u001b[49m\u001b[43m \u001b[49m\u001b[38;5;241;43m/\u001b[39;49m\u001b[43m \u001b[49m\u001b[43mnum_barycenter_points\u001b[49m\u001b[43m,\u001b[49m\u001b[43m \u001b[49m\u001b[43mall_x\u001b[49m\u001b[43m,\u001b[49m\u001b[43m \u001b[49m\u001b[43mall_p\u001b[49m\u001b[43m)\u001b[49m\n\u001b[1;32m     31\u001b[0m     barycenter_loss\u001b[38;5;241m.\u001b[39mbackward()\n\u001b[1;32m     32\u001b[0m     optimizer\u001b[38;5;241m.\u001b[39mstep()\n",
      "File \u001b[0;32m~/anaconda3/envs/lucid/lib/python3.9/site-packages/torch/nn/modules/module.py:1511\u001b[0m, in \u001b[0;36mModule._wrapped_call_impl\u001b[0;34m(self, *args, **kwargs)\u001b[0m\n\u001b[1;32m   1509\u001b[0m     \u001b[38;5;28;01mreturn\u001b[39;00m \u001b[38;5;28mself\u001b[39m\u001b[38;5;241m.\u001b[39m_compiled_call_impl(\u001b[38;5;241m*\u001b[39margs, \u001b[38;5;241m*\u001b[39m\u001b[38;5;241m*\u001b[39mkwargs)  \u001b[38;5;66;03m# type: ignore[misc]\u001b[39;00m\n\u001b[1;32m   1510\u001b[0m \u001b[38;5;28;01melse\u001b[39;00m:\n\u001b[0;32m-> 1511\u001b[0m     \u001b[38;5;28;01mreturn\u001b[39;00m \u001b[38;5;28;43mself\u001b[39;49m\u001b[38;5;241;43m.\u001b[39;49m\u001b[43m_call_impl\u001b[49m\u001b[43m(\u001b[49m\u001b[38;5;241;43m*\u001b[39;49m\u001b[43margs\u001b[49m\u001b[43m,\u001b[49m\u001b[43m \u001b[49m\u001b[38;5;241;43m*\u001b[39;49m\u001b[38;5;241;43m*\u001b[39;49m\u001b[43mkwargs\u001b[49m\u001b[43m)\u001b[49m\n",
      "File \u001b[0;32m~/anaconda3/envs/lucid/lib/python3.9/site-packages/torch/nn/modules/module.py:1520\u001b[0m, in \u001b[0;36mModule._call_impl\u001b[0;34m(self, *args, **kwargs)\u001b[0m\n\u001b[1;32m   1515\u001b[0m \u001b[38;5;66;03m# If we don't have any hooks, we want to skip the rest of the logic in\u001b[39;00m\n\u001b[1;32m   1516\u001b[0m \u001b[38;5;66;03m# this function, and just call forward.\u001b[39;00m\n\u001b[1;32m   1517\u001b[0m \u001b[38;5;28;01mif\u001b[39;00m \u001b[38;5;129;01mnot\u001b[39;00m (\u001b[38;5;28mself\u001b[39m\u001b[38;5;241m.\u001b[39m_backward_hooks \u001b[38;5;129;01mor\u001b[39;00m \u001b[38;5;28mself\u001b[39m\u001b[38;5;241m.\u001b[39m_backward_pre_hooks \u001b[38;5;129;01mor\u001b[39;00m \u001b[38;5;28mself\u001b[39m\u001b[38;5;241m.\u001b[39m_forward_hooks \u001b[38;5;129;01mor\u001b[39;00m \u001b[38;5;28mself\u001b[39m\u001b[38;5;241m.\u001b[39m_forward_pre_hooks\n\u001b[1;32m   1518\u001b[0m         \u001b[38;5;129;01mor\u001b[39;00m _global_backward_pre_hooks \u001b[38;5;129;01mor\u001b[39;00m _global_backward_hooks\n\u001b[1;32m   1519\u001b[0m         \u001b[38;5;129;01mor\u001b[39;00m _global_forward_hooks \u001b[38;5;129;01mor\u001b[39;00m _global_forward_pre_hooks):\n\u001b[0;32m-> 1520\u001b[0m     \u001b[38;5;28;01mreturn\u001b[39;00m \u001b[43mforward_call\u001b[49m\u001b[43m(\u001b[49m\u001b[38;5;241;43m*\u001b[39;49m\u001b[43margs\u001b[49m\u001b[43m,\u001b[49m\u001b[43m \u001b[49m\u001b[38;5;241;43m*\u001b[39;49m\u001b[38;5;241;43m*\u001b[39;49m\u001b[43mkwargs\u001b[49m\u001b[43m)\u001b[49m\n\u001b[1;32m   1522\u001b[0m \u001b[38;5;28;01mtry\u001b[39;00m:\n\u001b[1;32m   1523\u001b[0m     result \u001b[38;5;241m=\u001b[39m \u001b[38;5;28;01mNone\u001b[39;00m\n",
      "File \u001b[0;32m~/anaconda3/envs/lucid/lib/python3.9/site-packages/geomloss/samples_loss.py:217\u001b[0m, in \u001b[0;36mSamplesLoss.forward\u001b[0;34m(self, *args)\u001b[0m\n\u001b[1;32m    211\u001b[0m \u001b[38;5;250m\u001b[39m\u001b[38;5;124;03m\"\"\"Computes the loss between sampled measures.\u001b[39;00m\n\u001b[1;32m    212\u001b[0m \n\u001b[1;32m    213\u001b[0m \u001b[38;5;124;03mDocumentation and examples: Soon!\u001b[39;00m\n\u001b[1;32m    214\u001b[0m \u001b[38;5;124;03mUntil then, please check the tutorials :-)\"\"\"\u001b[39;00m\n\u001b[1;32m    216\u001b[0m l_x, α, x, l_y, β, y \u001b[38;5;241m=\u001b[39m \u001b[38;5;28mself\u001b[39m\u001b[38;5;241m.\u001b[39mprocess_args(\u001b[38;5;241m*\u001b[39margs)\n\u001b[0;32m--> 217\u001b[0m B, N, M, D, l_x, α, l_y, β \u001b[38;5;241m=\u001b[39m \u001b[38;5;28;43mself\u001b[39;49m\u001b[38;5;241;43m.\u001b[39;49m\u001b[43mcheck_shapes\u001b[49m\u001b[43m(\u001b[49m\u001b[43ml_x\u001b[49m\u001b[43m,\u001b[49m\u001b[43m \u001b[49m\u001b[43mα\u001b[49m\u001b[43m,\u001b[49m\u001b[43m \u001b[49m\u001b[43mx\u001b[49m\u001b[43m,\u001b[49m\u001b[43m \u001b[49m\u001b[43ml_y\u001b[49m\u001b[43m,\u001b[49m\u001b[43m \u001b[49m\u001b[43mβ\u001b[49m\u001b[43m,\u001b[49m\u001b[43m \u001b[49m\u001b[43my\u001b[49m\u001b[43m)\u001b[49m\n\u001b[1;32m    219\u001b[0m backend \u001b[38;5;241m=\u001b[39m (\n\u001b[1;32m    220\u001b[0m     \u001b[38;5;28mself\u001b[39m\u001b[38;5;241m.\u001b[39mbackend\n\u001b[1;32m    221\u001b[0m )  \u001b[38;5;66;03m# Choose the backend -----------------------------------------\u001b[39;00m\n\u001b[1;32m    222\u001b[0m \u001b[38;5;28;01mif\u001b[39;00m l_x \u001b[38;5;129;01mis\u001b[39;00m \u001b[38;5;129;01mnot\u001b[39;00m \u001b[38;5;28;01mNone\u001b[39;00m \u001b[38;5;129;01mor\u001b[39;00m l_y \u001b[38;5;129;01mis\u001b[39;00m \u001b[38;5;129;01mnot\u001b[39;00m \u001b[38;5;28;01mNone\u001b[39;00m:\n",
      "File \u001b[0;32m~/anaconda3/envs/lucid/lib/python3.9/site-packages/geomloss/samples_loss.py:347\u001b[0m, in \u001b[0;36mSamplesLoss.check_shapes\u001b[0;34m(self, l_x, α, x, l_y, β, y)\u001b[0m\n\u001b[1;32m    343\u001b[0m     \u001b[38;5;28;01mraise\u001b[39;00m \u001b[38;5;167;01mValueError\u001b[39;00m(\n\u001b[1;32m    344\u001b[0m         \u001b[38;5;124m\"\u001b[39m\u001b[38;5;124mInput samples \u001b[39m\u001b[38;5;124m'\u001b[39m\u001b[38;5;124mx\u001b[39m\u001b[38;5;124m'\u001b[39m\u001b[38;5;124m and \u001b[39m\u001b[38;5;124m'\u001b[39m\u001b[38;5;124my\u001b[39m\u001b[38;5;124m'\u001b[39m\u001b[38;5;124m should have the same number of dimensions.\u001b[39m\u001b[38;5;124m\"\u001b[39m\n\u001b[1;32m    345\u001b[0m     )\n\u001b[1;32m    346\u001b[0m \u001b[38;5;28;01mif\u001b[39;00m x\u001b[38;5;241m.\u001b[39mshape[\u001b[38;5;241m-\u001b[39m\u001b[38;5;241m1\u001b[39m] \u001b[38;5;241m!=\u001b[39m y\u001b[38;5;241m.\u001b[39mshape[\u001b[38;5;241m-\u001b[39m\u001b[38;5;241m1\u001b[39m]:\n\u001b[0;32m--> 347\u001b[0m     \u001b[38;5;28;01mraise\u001b[39;00m \u001b[38;5;167;01mValueError\u001b[39;00m(\n\u001b[1;32m    348\u001b[0m         \u001b[38;5;124m\"\u001b[39m\u001b[38;5;124mInput samples \u001b[39m\u001b[38;5;124m'\u001b[39m\u001b[38;5;124mx\u001b[39m\u001b[38;5;124m'\u001b[39m\u001b[38;5;124m and \u001b[39m\u001b[38;5;124m'\u001b[39m\u001b[38;5;124my\u001b[39m\u001b[38;5;124m'\u001b[39m\u001b[38;5;124m should have the same last dimension.\u001b[39m\u001b[38;5;124m\"\u001b[39m\n\u001b[1;32m    349\u001b[0m     )\n\u001b[1;32m    351\u001b[0m \u001b[38;5;28;01mif\u001b[39;00m (\n\u001b[1;32m    352\u001b[0m     x\u001b[38;5;241m.\u001b[39mdim() \u001b[38;5;241m==\u001b[39m \u001b[38;5;241m2\u001b[39m\n\u001b[1;32m    353\u001b[0m ):  \u001b[38;5;66;03m# No batch --------------------------------------------------------------------\u001b[39;00m\n\u001b[1;32m    354\u001b[0m     B \u001b[38;5;241m=\u001b[39m \u001b[38;5;241m0\u001b[39m  \u001b[38;5;66;03m# Batchsize\u001b[39;00m\n",
      "\u001b[0;31mValueError\u001b[0m: Input samples 'x' and 'y' should have the same last dimension."
     ]
    }
   ],
   "source": []
  },
  {
   "cell_type": "code",
   "execution_count": null,
   "metadata": {},
   "outputs": [],
   "source": []
  }
 ],
 "metadata": {
  "kernelspec": {
   "display_name": "lucid",
   "language": "python",
   "name": "python3"
  },
  "language_info": {
   "codemirror_mode": {
    "name": "ipython",
    "version": 3
   },
   "file_extension": ".py",
   "mimetype": "text/x-python",
   "name": "python",
   "nbconvert_exporter": "python",
   "pygments_lexer": "ipython3",
   "version": "3.9.12"
  }
 },
 "nbformat": 4,
 "nbformat_minor": 2
}
