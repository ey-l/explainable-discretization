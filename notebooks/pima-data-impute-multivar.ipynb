{
 "cells": [
  {
   "cell_type": "code",
   "execution_count": 1,
   "metadata": {},
   "outputs": [],
   "source": [
    "import pandas as pd\n",
    "import numpy as np\n",
    "import sys\n",
    "import os\n",
    "import matplotlib.pyplot as plt\n",
    "import graphviz\n",
    "import itertools\n",
    "#from sklearn.inspection import DecisionBoundaryDisplay\n",
    "from sklearn.tree import DecisionTreeClassifier, plot_tree\n",
    "from sklearn.model_selection import train_test_split\n",
    "from sklearn.impute import KNNImputer\n",
    "from sklearn import tree\n",
    "from sklearn.metrics import accuracy_score, confusion_matrix, classification_report, mean_absolute_error\n",
    "from typing import List, Union, Any, Tuple, Dict\n",
    "import time\n",
    "from permetrics.regression import RegressionMetric\n",
    "import oapackage\n",
    "\n",
    "import warnings\n",
    "warnings.filterwarnings('ignore')\n",
    "\n",
    "# Project path\n",
    "ppath = sys.path[0] + '/../'\n",
    "sys.path.append(os.path.join(ppath, 'code'))\n",
    "from discretizers import *"
   ]
  },
  {
   "cell_type": "markdown",
   "metadata": {},
   "source": [
    "This notebook explores the data imputation use case."
   ]
  },
  {
   "cell_type": "code",
   "execution_count": 2,
   "metadata": {},
   "outputs": [
    {
     "data": {
      "text/html": [
       "<div>\n",
       "<style scoped>\n",
       "    .dataframe tbody tr th:only-of-type {\n",
       "        vertical-align: middle;\n",
       "    }\n",
       "\n",
       "    .dataframe tbody tr th {\n",
       "        vertical-align: top;\n",
       "    }\n",
       "\n",
       "    .dataframe thead th {\n",
       "        text-align: right;\n",
       "    }\n",
       "</style>\n",
       "<table border=\"1\" class=\"dataframe\">\n",
       "  <thead>\n",
       "    <tr style=\"text-align: right;\">\n",
       "      <th></th>\n",
       "      <th>Pregnancies</th>\n",
       "      <th>Glucose</th>\n",
       "      <th>BloodPressure</th>\n",
       "      <th>SkinThickness</th>\n",
       "      <th>Insulin</th>\n",
       "      <th>BMI</th>\n",
       "      <th>DiabetesPedigreeFunction</th>\n",
       "      <th>Age</th>\n",
       "      <th>Outcome</th>\n",
       "    </tr>\n",
       "  </thead>\n",
       "  <tbody>\n",
       "    <tr>\n",
       "      <th>count</th>\n",
       "      <td>768.000000</td>\n",
       "      <td>768.000000</td>\n",
       "      <td>768.000000</td>\n",
       "      <td>768.000000</td>\n",
       "      <td>768.000000</td>\n",
       "      <td>768.000000</td>\n",
       "      <td>768.000000</td>\n",
       "      <td>768.000000</td>\n",
       "      <td>768.000000</td>\n",
       "    </tr>\n",
       "    <tr>\n",
       "      <th>mean</th>\n",
       "      <td>3.845052</td>\n",
       "      <td>120.894531</td>\n",
       "      <td>69.105469</td>\n",
       "      <td>20.536458</td>\n",
       "      <td>79.799479</td>\n",
       "      <td>31.992578</td>\n",
       "      <td>0.471876</td>\n",
       "      <td>33.240885</td>\n",
       "      <td>0.348958</td>\n",
       "    </tr>\n",
       "    <tr>\n",
       "      <th>std</th>\n",
       "      <td>3.369578</td>\n",
       "      <td>31.972618</td>\n",
       "      <td>19.355807</td>\n",
       "      <td>15.952218</td>\n",
       "      <td>115.244002</td>\n",
       "      <td>7.884160</td>\n",
       "      <td>0.331329</td>\n",
       "      <td>11.760232</td>\n",
       "      <td>0.476951</td>\n",
       "    </tr>\n",
       "    <tr>\n",
       "      <th>min</th>\n",
       "      <td>0.000000</td>\n",
       "      <td>0.000000</td>\n",
       "      <td>0.000000</td>\n",
       "      <td>0.000000</td>\n",
       "      <td>0.000000</td>\n",
       "      <td>0.000000</td>\n",
       "      <td>0.078000</td>\n",
       "      <td>21.000000</td>\n",
       "      <td>0.000000</td>\n",
       "    </tr>\n",
       "    <tr>\n",
       "      <th>25%</th>\n",
       "      <td>1.000000</td>\n",
       "      <td>99.000000</td>\n",
       "      <td>62.000000</td>\n",
       "      <td>0.000000</td>\n",
       "      <td>0.000000</td>\n",
       "      <td>27.300000</td>\n",
       "      <td>0.243750</td>\n",
       "      <td>24.000000</td>\n",
       "      <td>0.000000</td>\n",
       "    </tr>\n",
       "    <tr>\n",
       "      <th>50%</th>\n",
       "      <td>3.000000</td>\n",
       "      <td>117.000000</td>\n",
       "      <td>72.000000</td>\n",
       "      <td>23.000000</td>\n",
       "      <td>30.500000</td>\n",
       "      <td>32.000000</td>\n",
       "      <td>0.372500</td>\n",
       "      <td>29.000000</td>\n",
       "      <td>0.000000</td>\n",
       "    </tr>\n",
       "    <tr>\n",
       "      <th>75%</th>\n",
       "      <td>6.000000</td>\n",
       "      <td>140.250000</td>\n",
       "      <td>80.000000</td>\n",
       "      <td>32.000000</td>\n",
       "      <td>127.250000</td>\n",
       "      <td>36.600000</td>\n",
       "      <td>0.626250</td>\n",
       "      <td>41.000000</td>\n",
       "      <td>1.000000</td>\n",
       "    </tr>\n",
       "    <tr>\n",
       "      <th>max</th>\n",
       "      <td>17.000000</td>\n",
       "      <td>199.000000</td>\n",
       "      <td>122.000000</td>\n",
       "      <td>99.000000</td>\n",
       "      <td>846.000000</td>\n",
       "      <td>67.100000</td>\n",
       "      <td>2.420000</td>\n",
       "      <td>81.000000</td>\n",
       "      <td>1.000000</td>\n",
       "    </tr>\n",
       "  </tbody>\n",
       "</table>\n",
       "</div>"
      ],
      "text/plain": [
       "       Pregnancies     Glucose  BloodPressure  SkinThickness     Insulin  \\\n",
       "count   768.000000  768.000000     768.000000     768.000000  768.000000   \n",
       "mean      3.845052  120.894531      69.105469      20.536458   79.799479   \n",
       "std       3.369578   31.972618      19.355807      15.952218  115.244002   \n",
       "min       0.000000    0.000000       0.000000       0.000000    0.000000   \n",
       "25%       1.000000   99.000000      62.000000       0.000000    0.000000   \n",
       "50%       3.000000  117.000000      72.000000      23.000000   30.500000   \n",
       "75%       6.000000  140.250000      80.000000      32.000000  127.250000   \n",
       "max      17.000000  199.000000     122.000000      99.000000  846.000000   \n",
       "\n",
       "              BMI  DiabetesPedigreeFunction         Age     Outcome  \n",
       "count  768.000000                768.000000  768.000000  768.000000  \n",
       "mean    31.992578                  0.471876   33.240885    0.348958  \n",
       "std      7.884160                  0.331329   11.760232    0.476951  \n",
       "min      0.000000                  0.078000   21.000000    0.000000  \n",
       "25%     27.300000                  0.243750   24.000000    0.000000  \n",
       "50%     32.000000                  0.372500   29.000000    0.000000  \n",
       "75%     36.600000                  0.626250   41.000000    1.000000  \n",
       "max     67.100000                  2.420000   81.000000    1.000000  "
      ]
     },
     "execution_count": 2,
     "metadata": {},
     "output_type": "execute_result"
    }
   ],
   "source": [
    "df = pd.read_csv(os.path.join(ppath, 'data', 'uciml_pima-indians-diabetes-database', 'diabetes.csv'))\n",
    "df.describe()"
   ]
  },
  {
   "cell_type": "code",
   "execution_count": 21,
   "metadata": {},
   "outputs": [],
   "source": [
    "# Randomly replace 20% of the Age column with NaN values\n",
    "data = df.copy()\n",
    "df_nan = df.sample(frac=0.3, random_state=42)\n",
    "data.loc[df.index.isin(df_nan.index),'Age'] = np.nan\n",
    "\n",
    "df_nan = df.sample(frac=0.3, random_state=1)\n",
    "data.loc[df.index.isin(df_nan.index),'Glucose'] = np.nan\n",
    "\n",
    "df_nan = df.sample(frac=0.3, random_state=2)\n",
    "data.loc[df.index.isin(df_nan.index),'BMI'] = np.nan"
   ]
  },
  {
   "cell_type": "code",
   "execution_count": 4,
   "metadata": {},
   "outputs": [
    {
     "data": {
      "text/html": [
       "<div>\n",
       "<style scoped>\n",
       "    .dataframe tbody tr th:only-of-type {\n",
       "        vertical-align: middle;\n",
       "    }\n",
       "\n",
       "    .dataframe tbody tr th {\n",
       "        vertical-align: top;\n",
       "    }\n",
       "\n",
       "    .dataframe thead th {\n",
       "        text-align: right;\n",
       "    }\n",
       "</style>\n",
       "<table border=\"1\" class=\"dataframe\">\n",
       "  <thead>\n",
       "    <tr style=\"text-align: right;\">\n",
       "      <th></th>\n",
       "      <th>Pregnancies</th>\n",
       "      <th>Glucose</th>\n",
       "      <th>BloodPressure</th>\n",
       "      <th>SkinThickness</th>\n",
       "      <th>Insulin</th>\n",
       "      <th>BMI</th>\n",
       "      <th>DiabetesPedigreeFunction</th>\n",
       "      <th>Age</th>\n",
       "      <th>Outcome</th>\n",
       "    </tr>\n",
       "  </thead>\n",
       "  <tbody>\n",
       "    <tr>\n",
       "      <th>0</th>\n",
       "      <td>6</td>\n",
       "      <td>NaN</td>\n",
       "      <td>72</td>\n",
       "      <td>35</td>\n",
       "      <td>0</td>\n",
       "      <td>33.6</td>\n",
       "      <td>0.627</td>\n",
       "      <td>50.0</td>\n",
       "      <td>1</td>\n",
       "    </tr>\n",
       "    <tr>\n",
       "      <th>1</th>\n",
       "      <td>1</td>\n",
       "      <td>85.0</td>\n",
       "      <td>66</td>\n",
       "      <td>29</td>\n",
       "      <td>0</td>\n",
       "      <td>NaN</td>\n",
       "      <td>0.351</td>\n",
       "      <td>31.0</td>\n",
       "      <td>0</td>\n",
       "    </tr>\n",
       "    <tr>\n",
       "      <th>2</th>\n",
       "      <td>8</td>\n",
       "      <td>183.0</td>\n",
       "      <td>64</td>\n",
       "      <td>0</td>\n",
       "      <td>0</td>\n",
       "      <td>23.3</td>\n",
       "      <td>0.672</td>\n",
       "      <td>NaN</td>\n",
       "      <td>1</td>\n",
       "    </tr>\n",
       "    <tr>\n",
       "      <th>3</th>\n",
       "      <td>1</td>\n",
       "      <td>NaN</td>\n",
       "      <td>66</td>\n",
       "      <td>23</td>\n",
       "      <td>94</td>\n",
       "      <td>NaN</td>\n",
       "      <td>0.167</td>\n",
       "      <td>21.0</td>\n",
       "      <td>0</td>\n",
       "    </tr>\n",
       "    <tr>\n",
       "      <th>4</th>\n",
       "      <td>0</td>\n",
       "      <td>137.0</td>\n",
       "      <td>40</td>\n",
       "      <td>35</td>\n",
       "      <td>168</td>\n",
       "      <td>43.1</td>\n",
       "      <td>2.288</td>\n",
       "      <td>33.0</td>\n",
       "      <td>1</td>\n",
       "    </tr>\n",
       "  </tbody>\n",
       "</table>\n",
       "</div>"
      ],
      "text/plain": [
       "   Pregnancies  Glucose  BloodPressure  SkinThickness  Insulin   BMI  \\\n",
       "0            6      NaN             72             35        0  33.6   \n",
       "1            1     85.0             66             29        0   NaN   \n",
       "2            8    183.0             64              0        0  23.3   \n",
       "3            1      NaN             66             23       94   NaN   \n",
       "4            0    137.0             40             35      168  43.1   \n",
       "\n",
       "   DiabetesPedigreeFunction   Age  Outcome  \n",
       "0                     0.627  50.0        1  \n",
       "1                     0.351  31.0        0  \n",
       "2                     0.672   NaN        1  \n",
       "3                     0.167  21.0        0  \n",
       "4                     2.288  33.0        1  "
      ]
     },
     "execution_count": 4,
     "metadata": {},
     "output_type": "execute_result"
    }
   ],
   "source": [
    "data.head()"
   ]
  },
  {
   "cell_type": "code",
   "execution_count": 6,
   "metadata": {},
   "outputs": [
    {
     "data": {
      "image/png": "[encoded data removed]",
      "text/plain": [
       "<Figure size 720x360 with 2 Axes>"
      ]
     },
     "metadata": {
      "needs_background": "light"
     },
     "output_type": "display_data"
    },
    {
     "name": "stdout",
     "output_type": "stream",
     "text": [
      "MAE imputation: 2.89453125\n",
      "8.73668896216081\n"
     ]
    }
   ],
   "source": [
    "# Impute missing values using SimpleImputer in sklearn\n",
    "from sklearn.impute import SimpleImputer\n",
    "imp_mean = SimpleImputer(missing_values=np.nan, strategy='mean')\n",
    "data_imputed = imp_mean.fit_transform(data['Age'].values.reshape(-1, 1))\n",
    "data_imputed = np.round(data_imputed)\n",
    "\n",
    "# Compare the distribution of Age before and after imputation\n",
    "fig = plt.figure(figsize=(10, 5))\n",
    "ax1 = fig.add_subplot(121)\n",
    "df['Age'].plot(kind='hist', ax=ax1, title='Age before imputation')\n",
    "ax2 = fig.add_subplot(122)\n",
    "pd.DataFrame(data_imputed).plot(kind='hist', ax=ax2, title='Age after imputation')\n",
    "plt.show()\n",
    "\n",
    "y_true = df['Age'].values\n",
    "y_pred = data_imputed.flatten()\n",
    "print('MAE imputation:', mean_absolute_error(y_true, y_pred))\n",
    "evaluator = RegressionMetric(y_true, y_pred)\n",
    "print(evaluator.mean_relative_error()*100)"
   ]
  },
  {
   "cell_type": "code",
   "execution_count": 23,
   "metadata": {},
   "outputs": [
    {
     "data": {
      "image/png": "[encoded data removed]",
      "text/plain": [
       "<Figure size 720x360 with 2 Axes>"
      ]
     },
     "metadata": {
      "needs_background": "light"
     },
     "output_type": "display_data"
    },
    {
     "name": "stdout",
     "output_type": "stream",
     "text": [
      "MAE imputation: 3.5247395833333335\n",
      "8.381305780774468\n"
     ]
    }
   ],
   "source": [
    "imp_mean = SimpleImputer(missing_values=np.nan, strategy='most_frequent')\n",
    "data_imputed = imp_mean.fit_transform(data['Age'].values.reshape(-1, 1))\n",
    "data_imputed = np.round(data_imputed)\n",
    "\n",
    "# Compare the distribution of Age before and after imputation\n",
    "fig = plt.figure(figsize=(10, 5))\n",
    "ax1 = fig.add_subplot(121)\n",
    "df['Age'].plot(kind='hist', ax=ax1, title='Age before imputation')\n",
    "ax2 = fig.add_subplot(122)\n",
    "pd.DataFrame(data_imputed).plot(kind='hist', ax=ax2, title='Age after imputation')\n",
    "plt.show()\n",
    "\n",
    "y_true = df['Age'].values\n",
    "y_pred = data_imputed.flatten()\n",
    "print('MAE imputation:', mean_absolute_error(y_true, y_pred))\n",
    "evaluator = RegressionMetric(y_true, y_pred)\n",
    "print(evaluator.mean_relative_error()*100)"
   ]
  },
  {
   "cell_type": "code",
   "execution_count": 19,
   "metadata": {},
   "outputs": [
    {
     "data": {
      "text/html": [
       "<div>\n",
       "<style scoped>\n",
       "    .dataframe tbody tr th:only-of-type {\n",
       "        vertical-align: middle;\n",
       "    }\n",
       "\n",
       "    .dataframe tbody tr th {\n",
       "        vertical-align: top;\n",
       "    }\n",
       "\n",
       "    .dataframe thead th {\n",
       "        text-align: right;\n",
       "    }\n",
       "</style>\n",
       "<table border=\"1\" class=\"dataframe\">\n",
       "  <thead>\n",
       "    <tr style=\"text-align: right;\">\n",
       "      <th></th>\n",
       "      <th>Pregnancies</th>\n",
       "      <th>Glucose</th>\n",
       "      <th>BloodPressure</th>\n",
       "      <th>SkinThickness</th>\n",
       "      <th>Insulin</th>\n",
       "      <th>BMI</th>\n",
       "      <th>DiabetesPedigreeFunction</th>\n",
       "      <th>Age</th>\n",
       "      <th>Outcome</th>\n",
       "    </tr>\n",
       "  </thead>\n",
       "  <tbody>\n",
       "    <tr>\n",
       "      <th>0</th>\n",
       "      <td>6</td>\n",
       "      <td>148</td>\n",
       "      <td>72</td>\n",
       "      <td>35</td>\n",
       "      <td>0</td>\n",
       "      <td>33.6</td>\n",
       "      <td>0.627</td>\n",
       "      <td>50.0</td>\n",
       "      <td>1</td>\n",
       "    </tr>\n",
       "    <tr>\n",
       "      <th>1</th>\n",
       "      <td>1</td>\n",
       "      <td>85</td>\n",
       "      <td>66</td>\n",
       "      <td>29</td>\n",
       "      <td>0</td>\n",
       "      <td>26.6</td>\n",
       "      <td>0.351</td>\n",
       "      <td>31.0</td>\n",
       "      <td>0</td>\n",
       "    </tr>\n",
       "    <tr>\n",
       "      <th>2</th>\n",
       "      <td>8</td>\n",
       "      <td>183</td>\n",
       "      <td>64</td>\n",
       "      <td>0</td>\n",
       "      <td>0</td>\n",
       "      <td>23.3</td>\n",
       "      <td>0.672</td>\n",
       "      <td>33.0</td>\n",
       "      <td>1</td>\n",
       "    </tr>\n",
       "    <tr>\n",
       "      <th>3</th>\n",
       "      <td>1</td>\n",
       "      <td>89</td>\n",
       "      <td>66</td>\n",
       "      <td>23</td>\n",
       "      <td>94</td>\n",
       "      <td>28.1</td>\n",
       "      <td>0.167</td>\n",
       "      <td>21.0</td>\n",
       "      <td>0</td>\n",
       "    </tr>\n",
       "    <tr>\n",
       "      <th>4</th>\n",
       "      <td>0</td>\n",
       "      <td>137</td>\n",
       "      <td>40</td>\n",
       "      <td>35</td>\n",
       "      <td>168</td>\n",
       "      <td>43.1</td>\n",
       "      <td>2.288</td>\n",
       "      <td>33.0</td>\n",
       "      <td>1</td>\n",
       "    </tr>\n",
       "  </tbody>\n",
       "</table>\n",
       "</div>"
      ],
      "text/plain": [
       "   Pregnancies  Glucose  BloodPressure  SkinThickness  Insulin   BMI  \\\n",
       "0            6      148             72             35        0  33.6   \n",
       "1            1       85             66             29        0  26.6   \n",
       "2            8      183             64              0        0  23.3   \n",
       "3            1       89             66             23       94  28.1   \n",
       "4            0      137             40             35      168  43.1   \n",
       "\n",
       "   DiabetesPedigreeFunction   Age  Outcome  \n",
       "0                     0.627  50.0        1  \n",
       "1                     0.351  31.0        0  \n",
       "2                     0.672  33.0        1  \n",
       "3                     0.167  21.0        0  \n",
       "4                     2.288  33.0        1  "
      ]
     },
     "execution_count": 19,
     "metadata": {},
     "output_type": "execute_result"
    }
   ],
   "source": [
    "data1 = data.copy()\n",
    "data1['Age'] = data_imputed\n",
    "data1.head()"
   ]
  },
  {
   "cell_type": "markdown",
   "metadata": {},
   "source": [
    "### Test it out"
   ]
  },
  {
   "cell_type": "code",
   "execution_count": 3,
   "metadata": {},
   "outputs": [],
   "source": [
    "# load json data from a file\n",
    "import json\n",
    "import ast\n",
    "COLUMNS = ['Glucose', 'BMI', 'Age']\n",
    "y_columns = [col+'.gt' for col in COLUMNS]\n",
    "binnings = []\n",
    "for s in COLUMNS:\n",
    "    f = open(os.path.join(ppath, f'scratch/{s.lower()}_partitions.json'), \"r\")\n",
    "    data = json.load(f)\n",
    "    f.close()\n",
    "    binnings.append(list(eval(data)))"
   ]
  },
  {
   "cell_type": "code",
   "execution_count": 17,
   "metadata": {},
   "outputs": [
    {
     "data": {
      "text/plain": [
       "5"
      ]
     },
     "execution_count": 17,
     "metadata": {},
     "output_type": "execute_result"
    }
   ],
   "source": [
    "bins = binnings[0][0]['bins']\n",
    "data1=pd.cut(df['Glucose'], bins=bins, labels=bins[1:])\n",
    "data1.isnull().sum()"
   ]
  },
  {
   "cell_type": "code",
   "execution_count": 20,
   "metadata": {},
   "outputs": [
    {
     "data": {
      "text/plain": [
       "75     0\n",
       "182    0\n",
       "342    0\n",
       "349    0\n",
       "502    0\n",
       "Name: Glucose, dtype: int64"
      ]
     },
     "execution_count": 20,
     "metadata": {},
     "output_type": "execute_result"
    }
   ],
   "source": [
    "bins = binnings[0][5]['bins']\n",
    "data1 = pd.cut(df['Glucose'], bins=bins, labels=bins[1:])\n",
    "# count the number of nan values\n",
    "data1.isnull().sum()\n",
    "# print the index of the null values\n",
    "data1[data1.isnull()].index\n",
    "# print the values of the null values\n",
    "df.loc[data1[data1.isnull()].index, 'Glucose']"
   ]
  },
  {
   "cell_type": "code",
   "execution_count": 5,
   "metadata": {},
   "outputs": [
    {
     "name": "stdout",
     "output_type": "stream",
     "text": [
      "number of strategy combinations: 21952\n"
     ]
    }
   ],
   "source": [
    "strategy_combos = list(itertools.product(*binnings))\n",
    "print(\"number of strategy combinations:\", len(strategy_combos))"
   ]
  },
  {
   "cell_type": "code",
   "execution_count": 6,
   "metadata": {},
   "outputs": [
    {
     "data": {
      "text/plain": [
       "({'bins': [0, 140, 200],\n",
       "  'labels': ['0-140', '140-200'],\n",
       "  'method': 'gold-standard',\n",
       "  'gpt': 0.0},\n",
       " {'bins': [0, 18.5, 25, 30, 68],\n",
       "  'labels': ['0-18.5', '18.5-25', '25-30', '30-68'],\n",
       "  'method': 'gold-standard',\n",
       "  'gpt': 0.0},\n",
       " {'bins': [0, 19, 45, 65, 85, 100],\n",
       "  'labels': ['0-18', '19-44', '45-64', '65-84', '85-100'],\n",
       "  'method': 'gold-standard',\n",
       "  'gpt': 0.0,\n",
       "  'l2_norm': 0.0,\n",
       "  'spearman': 0.9999999999999999,\n",
       "  'anova': 20.78361285152752})"
      ]
     },
     "execution_count": 6,
     "metadata": {},
     "output_type": "execute_result"
    }
   ],
   "source": [
    "strategy_combos[0]"
   ]
  },
  {
   "cell_type": "code",
   "execution_count": 7,
   "metadata": {},
   "outputs": [],
   "source": [
    "# Randomly replace 20% of the Age column with NaN values\n",
    "data = df.copy()\n",
    "seeds = [1, 2, 42]\n",
    "for i, col in enumerate(COLUMNS):\n",
    "    data[f'{col}.gt'] = data[col]\n",
    "    df_nan = df.sample(frac=0.3, random_state=seeds[i])\n",
    "    data.loc[df.index.isin(df_nan.index),col] = np.nan"
   ]
  },
  {
   "cell_type": "code",
   "execution_count": 8,
   "metadata": {},
   "outputs": [
    {
     "data": {
      "text/html": [
       "<div>\n",
       "<style scoped>\n",
       "    .dataframe tbody tr th:only-of-type {\n",
       "        vertical-align: middle;\n",
       "    }\n",
       "\n",
       "    .dataframe tbody tr th {\n",
       "        vertical-align: top;\n",
       "    }\n",
       "\n",
       "    .dataframe thead th {\n",
       "        text-align: right;\n",
       "    }\n",
       "</style>\n",
       "<table border=\"1\" class=\"dataframe\">\n",
       "  <thead>\n",
       "    <tr style=\"text-align: right;\">\n",
       "      <th></th>\n",
       "      <th>Pregnancies</th>\n",
       "      <th>Glucose</th>\n",
       "      <th>BloodPressure</th>\n",
       "      <th>SkinThickness</th>\n",
       "      <th>Insulin</th>\n",
       "      <th>BMI</th>\n",
       "      <th>DiabetesPedigreeFunction</th>\n",
       "      <th>Age</th>\n",
       "      <th>Outcome</th>\n",
       "      <th>Glucose.gt</th>\n",
       "      <th>BMI.gt</th>\n",
       "      <th>Age.gt</th>\n",
       "    </tr>\n",
       "  </thead>\n",
       "  <tbody>\n",
       "    <tr>\n",
       "      <th>0</th>\n",
       "      <td>6</td>\n",
       "      <td>NaN</td>\n",
       "      <td>72</td>\n",
       "      <td>35</td>\n",
       "      <td>0</td>\n",
       "      <td>33.6</td>\n",
       "      <td>0.627</td>\n",
       "      <td>50.0</td>\n",
       "      <td>1</td>\n",
       "      <td>148</td>\n",
       "      <td>33.6</td>\n",
       "      <td>50</td>\n",
       "    </tr>\n",
       "    <tr>\n",
       "      <th>1</th>\n",
       "      <td>1</td>\n",
       "      <td>85.0</td>\n",
       "      <td>66</td>\n",
       "      <td>29</td>\n",
       "      <td>0</td>\n",
       "      <td>NaN</td>\n",
       "      <td>0.351</td>\n",
       "      <td>31.0</td>\n",
       "      <td>0</td>\n",
       "      <td>85</td>\n",
       "      <td>26.6</td>\n",
       "      <td>31</td>\n",
       "    </tr>\n",
       "    <tr>\n",
       "      <th>2</th>\n",
       "      <td>8</td>\n",
       "      <td>183.0</td>\n",
       "      <td>64</td>\n",
       "      <td>0</td>\n",
       "      <td>0</td>\n",
       "      <td>23.3</td>\n",
       "      <td>0.672</td>\n",
       "      <td>NaN</td>\n",
       "      <td>1</td>\n",
       "      <td>183</td>\n",
       "      <td>23.3</td>\n",
       "      <td>32</td>\n",
       "    </tr>\n",
       "    <tr>\n",
       "      <th>3</th>\n",
       "      <td>1</td>\n",
       "      <td>NaN</td>\n",
       "      <td>66</td>\n",
       "      <td>23</td>\n",
       "      <td>94</td>\n",
       "      <td>NaN</td>\n",
       "      <td>0.167</td>\n",
       "      <td>21.0</td>\n",
       "      <td>0</td>\n",
       "      <td>89</td>\n",
       "      <td>28.1</td>\n",
       "      <td>21</td>\n",
       "    </tr>\n",
       "    <tr>\n",
       "      <th>4</th>\n",
       "      <td>0</td>\n",
       "      <td>137.0</td>\n",
       "      <td>40</td>\n",
       "      <td>35</td>\n",
       "      <td>168</td>\n",
       "      <td>43.1</td>\n",
       "      <td>2.288</td>\n",
       "      <td>33.0</td>\n",
       "      <td>1</td>\n",
       "      <td>137</td>\n",
       "      <td>43.1</td>\n",
       "      <td>33</td>\n",
       "    </tr>\n",
       "    <tr>\n",
       "      <th>...</th>\n",
       "      <td>...</td>\n",
       "      <td>...</td>\n",
       "      <td>...</td>\n",
       "      <td>...</td>\n",
       "      <td>...</td>\n",
       "      <td>...</td>\n",
       "      <td>...</td>\n",
       "      <td>...</td>\n",
       "      <td>...</td>\n",
       "      <td>...</td>\n",
       "      <td>...</td>\n",
       "      <td>...</td>\n",
       "    </tr>\n",
       "    <tr>\n",
       "      <th>763</th>\n",
       "      <td>10</td>\n",
       "      <td>101.0</td>\n",
       "      <td>76</td>\n",
       "      <td>48</td>\n",
       "      <td>180</td>\n",
       "      <td>32.9</td>\n",
       "      <td>0.171</td>\n",
       "      <td>NaN</td>\n",
       "      <td>0</td>\n",
       "      <td>101</td>\n",
       "      <td>32.9</td>\n",
       "      <td>63</td>\n",
       "    </tr>\n",
       "    <tr>\n",
       "      <th>764</th>\n",
       "      <td>2</td>\n",
       "      <td>122.0</td>\n",
       "      <td>70</td>\n",
       "      <td>27</td>\n",
       "      <td>0</td>\n",
       "      <td>NaN</td>\n",
       "      <td>0.340</td>\n",
       "      <td>NaN</td>\n",
       "      <td>0</td>\n",
       "      <td>122</td>\n",
       "      <td>36.8</td>\n",
       "      <td>27</td>\n",
       "    </tr>\n",
       "    <tr>\n",
       "      <th>765</th>\n",
       "      <td>5</td>\n",
       "      <td>NaN</td>\n",
       "      <td>72</td>\n",
       "      <td>23</td>\n",
       "      <td>112</td>\n",
       "      <td>26.2</td>\n",
       "      <td>0.245</td>\n",
       "      <td>30.0</td>\n",
       "      <td>0</td>\n",
       "      <td>121</td>\n",
       "      <td>26.2</td>\n",
       "      <td>30</td>\n",
       "    </tr>\n",
       "    <tr>\n",
       "      <th>766</th>\n",
       "      <td>1</td>\n",
       "      <td>126.0</td>\n",
       "      <td>60</td>\n",
       "      <td>0</td>\n",
       "      <td>0</td>\n",
       "      <td>NaN</td>\n",
       "      <td>0.349</td>\n",
       "      <td>47.0</td>\n",
       "      <td>1</td>\n",
       "      <td>126</td>\n",
       "      <td>30.1</td>\n",
       "      <td>47</td>\n",
       "    </tr>\n",
       "    <tr>\n",
       "      <th>767</th>\n",
       "      <td>1</td>\n",
       "      <td>93.0</td>\n",
       "      <td>70</td>\n",
       "      <td>31</td>\n",
       "      <td>0</td>\n",
       "      <td>30.4</td>\n",
       "      <td>0.315</td>\n",
       "      <td>23.0</td>\n",
       "      <td>0</td>\n",
       "      <td>93</td>\n",
       "      <td>30.4</td>\n",
       "      <td>23</td>\n",
       "    </tr>\n",
       "  </tbody>\n",
       "</table>\n",
       "<p>768 rows × 12 columns</p>\n",
       "</div>"
      ],
      "text/plain": [
       "     Pregnancies  Glucose  BloodPressure  SkinThickness  Insulin   BMI  \\\n",
       "0              6      NaN             72             35        0  33.6   \n",
       "1              1     85.0             66             29        0   NaN   \n",
       "2              8    183.0             64              0        0  23.3   \n",
       "3              1      NaN             66             23       94   NaN   \n",
       "4              0    137.0             40             35      168  43.1   \n",
       "..           ...      ...            ...            ...      ...   ...   \n",
       "763           10    101.0             76             48      180  32.9   \n",
       "764            2    122.0             70             27        0   NaN   \n",
       "765            5      NaN             72             23      112  26.2   \n",
       "766            1    126.0             60              0        0   NaN   \n",
       "767            1     93.0             70             31        0  30.4   \n",
       "\n",
       "     DiabetesPedigreeFunction   Age  Outcome  Glucose.gt  BMI.gt  Age.gt  \n",
       "0                       0.627  50.0        1         148    33.6      50  \n",
       "1                       0.351  31.0        0          85    26.6      31  \n",
       "2                       0.672   NaN        1         183    23.3      32  \n",
       "3                       0.167  21.0        0          89    28.1      21  \n",
       "4                       2.288  33.0        1         137    43.1      33  \n",
       "..                        ...   ...      ...         ...     ...     ...  \n",
       "763                     0.171   NaN        0         101    32.9      63  \n",
       "764                     0.340   NaN        0         122    36.8      27  \n",
       "765                     0.245  30.0        0         121    26.2      30  \n",
       "766                     0.349  47.0        1         126    30.1      47  \n",
       "767                     0.315  23.0        0          93    30.4      23  \n",
       "\n",
       "[768 rows x 12 columns]"
      ]
     },
     "execution_count": 8,
     "metadata": {},
     "output_type": "execute_result"
    }
   ],
   "source": [
    "data"
   ]
  },
  {
   "cell_type": "code",
   "execution_count": 9,
   "metadata": {},
   "outputs": [],
   "source": [
    "#data = data.drop(columns=['Glucose', 'BMI'])\n",
    "data['DiabetesPedigreeFunction.binned'] = pd.cut(data['DiabetesPedigreeFunction'], bins=[-1, 0.5, 1, 100], labels=[0.5, 1, 100])\n",
    "data['DiabetesPedigreeFunction.binned'] = data['DiabetesPedigreeFunction.binned'].astype('float64')\n",
    "data['Pregnancies.binned'] = pd.cut(data['Pregnancies'], bins=[-1, 2, 100], labels=[0, 1])\n",
    "data['Pregnancies.binned'] = data['Pregnancies.binned'].astype('int64')\n",
    "data['Insulin.binned'] = pd.cut(data['Insulin'], bins=[-1, 30, 120, 1000], labels=[30, 120, 1000])\n",
    "data['Insulin.binned'] = data['Insulin.binned'].astype('int64')\n",
    "data['BloodPressure.binned'] = pd.cut(data['BloodPressure'], bins=[-1, 60, 90, 100, 1000], labels=[60, 90, 100, 1000])\n",
    "data['BloodPressure.binned'] = data['BloodPressure.binned'].astype('int64')\n",
    "data['SkinThickness.binned'] = pd.cut(data['SkinThickness'], bins=[-1, 20, 40, 60, 80, 100], labels=[20, 40, 60, 80, 100])\n",
    "data['SkinThickness.binned'] = data['SkinThickness.binned'].astype('int64')\n",
    "\n",
    "data_X = data.drop(y_columns, axis=1)\n",
    "data_y = data[y_columns]"
   ]
  },
  {
   "cell_type": "code",
   "execution_count": 10,
   "metadata": {},
   "outputs": [],
   "source": [
    "imputer = KNNImputer(n_neighbors=5)\n",
    "data_i = data_X.copy()\n",
    "data_imputed = imputer.fit_transform(data_i)"
   ]
  },
  {
   "cell_type": "code",
   "execution_count": 11,
   "metadata": {},
   "outputs": [
    {
     "data": {
      "text/plain": [
       "(768, 14)"
      ]
     },
     "execution_count": 11,
     "metadata": {},
     "output_type": "execute_result"
    }
   ],
   "source": [
    "data_imputed.shape"
   ]
  },
  {
   "cell_type": "markdown",
   "metadata": {},
   "source": [
    "### missing -> binning -> imputation"
   ]
  },
  {
   "cell_type": "code",
   "execution_count": 13,
   "metadata": {},
   "outputs": [],
   "source": [
    "tree_depth = 5\n",
    "col = 'Age'\n",
    "outs = []\n",
    "X_columns = ['Glucose.final', 'Pregnancies.binned', 'Insulin.binned', 'BMI.final', 'Age.final',\n",
    "            'BloodPressure.binned', 'DiabetesPedigreeFunction.binned', 'SkinThickness.binned']\n",
    "\n",
    "for strategy in strategy_combos:\n",
    "\n",
    "    data_X = data.drop(y_columns, axis=1)\n",
    "    data_y = data[y_columns]\n",
    "\n",
    "    impute_accs = []\n",
    "    semantics = []\n",
    "\n",
    "    for i, col in enumerate(COLUMNS):\n",
    "        data_i = data_X.copy()\n",
    "        data_i_y = data_y.copy()\n",
    "        bins = strategy[i]['bins']\n",
    "        data_i[col + '.binned'] = pd.cut(data_i[col], bins=bins, labels=bins[1:])\n",
    "        imputer = KNNImputer(n_neighbors=len(bins)-1)\n",
    "        data_imputed = imputer.fit_transform(data_i)\n",
    "\n",
    "        data_X[col+'.imputed'] = data_imputed[:, data_X.columns.get_loc(col)]\n",
    "        data_X[col + '.final'] = pd.cut(data_X[col+'.imputed'], bins=bins, labels=bins[1:])\n",
    "        data_X[col + '.final'] = data_X[col + '.final'].astype('float64')\n",
    "\n",
    "        # Evaluate data imputation\n",
    "        value_final = np.array(data_X[col+'.final'].values)\n",
    "        value_final[np.isnan(value_final)] = -1\n",
    "        value_final = np.round(value_final)\n",
    "        data_i_y[col + '.gt'] = pd.cut(data_i_y[col + '.gt'], bins=bins, labels=bins[1:])\n",
    "        data_i_y[col + '.gt'] = data_i_y[col + '.gt'].astype('float64')\n",
    "        value_gt = np.array(data_i_y[col + '.gt'].values)\n",
    "        value_gt[np.isnan(value_gt)] = -1\n",
    "        value_gt = np.round(value_gt)\n",
    "        #print(value_final)\n",
    "        #print(value_gt)\n",
    "        impute_accuracy = accuracy_score(value_gt, value_final)\n",
    "        impute_accs.append(impute_accuracy)\n",
    "\n",
    "        semantics.append(strategy[i]['gpt'])\n",
    "\n",
    "    impute_accuracy = np.mean(impute_accs)\n",
    "    semantic_score = np.mean(semantics)\n",
    "    \n",
    "    #data_X = data_X.dropna(subset=['Glucose.final','BMI.final','Age.final'])\n",
    "    data_X = data_X.fillna(0)\n",
    "    X = data_X[X_columns]\n",
    "    y = data_X['Outcome']\n",
    "    X_train, X_test, y_train, y_test = train_test_split(X, y, test_size=0.2, random_state=123)\n",
    "    #print(X_train[X_train.isna().any(axis=1)])\n",
    "    #print(y_train[y_train.isna().any()])\n",
    "    try: \n",
    "        clf = DecisionTreeClassifier(random_state=0,max_depth=tree_depth).fit(X_train, y_train)\n",
    "        y_pred = clf.predict(X_test)\n",
    "    except Exception as e: \n",
    "        print(\"Error:\", e)\n",
    "        #print(X_train[X_train.isna().any(axis=1)])\n",
    "        print(\"Strategy:\", i)\n",
    "        #break\n",
    "    \n",
    "    binnings = [strategy[i]['bins'] for i in range(len(COLUMNS))]\n",
    "\n",
    "    model_accuracy = accuracy_score(y_test, y_pred)\n",
    "    #print(binnings, model_accuracy, 1-semantic_score, impute_accuracy)\n",
    "    outs.append({'bins': binnings, 'model_accuracy': model_accuracy, 'Glucose.partitioned': np.array(data_X['Glucose.final']), 'BMI.partitioned': np.array(data_X['BMI.final']), 'Age.partitioned': np.array(data_X['Age.final']), 'gpt': 1-semantic_score, 'impute_accuracy': impute_accuracy})\n",
    "    #print(f\"{i['bins']}:\", model_accuracy, i['gpt'])"
   ]
  },
  {
   "cell_type": "code",
   "execution_count": 47,
   "metadata": {},
   "outputs": [
    {
     "data": {
      "text/plain": [
       "{'bins': [[0, 140, 200], [0, 18.5, 25, 30, 68], [0, 19, 45, 65, 85, 100]],\n",
       " 'model_accuracy': 0.6973684210526315,\n",
       " 'gpt': 1.0,\n",
       " 'impute_accuracy': 0.9088541666666666}"
      ]
     },
     "execution_count": 47,
     "metadata": {},
     "output_type": "execute_result"
    }
   ],
   "source": [
    "outs[0]"
   ]
  },
  {
   "cell_type": "code",
   "execution_count": null,
   "metadata": {},
   "outputs": [],
   "source": [
    "# sample 300 random outcomes\n",
    "sampled = np.random.choice(range(len(outs)), 300, replace=False)"
   ]
  },
  {
   "cell_type": "code",
   "execution_count": 48,
   "metadata": {},
   "outputs": [
    {
     "ename": "KeyboardInterrupt",
     "evalue": "",
     "output_type": "error",
     "traceback": [
      "\u001b[0;31m---------------------------------------------------------------------------\u001b[0m",
      "\u001b[0;31mKeyboardInterrupt\u001b[0m                         Traceback (most recent call last)",
      "Input \u001b[0;32mIn [48]\u001b[0m, in \u001b[0;36m<cell line: 5>\u001b[0;34m()\u001b[0m\n\u001b[1;32m      3\u001b[0m model_acc \u001b[38;5;241m=\u001b[39m [i[\u001b[38;5;124m'\u001b[39m\u001b[38;5;124mmodel_accuracy\u001b[39m\u001b[38;5;124m'\u001b[39m] \u001b[38;5;28;01mfor\u001b[39;00m i \u001b[38;5;129;01min\u001b[39;00m outs]\n\u001b[1;32m      4\u001b[0m impute_acc \u001b[38;5;241m=\u001b[39m [i[\u001b[38;5;124m'\u001b[39m\u001b[38;5;124mimpute_accuracy\u001b[39m\u001b[38;5;124m'\u001b[39m] \u001b[38;5;28;01mfor\u001b[39;00m i \u001b[38;5;129;01min\u001b[39;00m outs]\n\u001b[0;32m----> 5\u001b[0m x \u001b[38;5;241m=\u001b[39m [alpha \u001b[38;5;241m*\u001b[39m i[\u001b[38;5;124m'\u001b[39m\u001b[38;5;124mgpt\u001b[39m\u001b[38;5;124m'\u001b[39m] \u001b[38;5;241m+\u001b[39m (\u001b[38;5;241m1\u001b[39m\u001b[38;5;241m-\u001b[39malpha) \u001b[38;5;241m*\u001b[39m ((i[\u001b[38;5;124m'\u001b[39m\u001b[38;5;124mmodel_accuracy\u001b[39m\u001b[38;5;124m'\u001b[39m]\u001b[38;5;241m-\u001b[39m\u001b[38;5;28mmin\u001b[39m(model_acc))\u001b[38;5;241m/\u001b[39m(\u001b[38;5;28mmax\u001b[39m(model_acc) \u001b[38;5;241m-\u001b[39m \u001b[38;5;28mmin\u001b[39m(model_acc))) \u001b[38;5;28;01mfor\u001b[39;00m i \u001b[38;5;129;01min\u001b[39;00m outs]\n\u001b[1;32m      6\u001b[0m \u001b[38;5;66;03m#y = [(i['impute_accuracy']-min(impute_acc))/(max(impute_acc) - min(impute_acc)) for i in outs]\u001b[39;00m\n\u001b[1;32m      7\u001b[0m y \u001b[38;5;241m=\u001b[39m [i[\u001b[38;5;124m'\u001b[39m\u001b[38;5;124mimpute_accuracy\u001b[39m\u001b[38;5;124m'\u001b[39m] \u001b[38;5;28;01mfor\u001b[39;00m i \u001b[38;5;129;01min\u001b[39;00m outs]\n",
      "Input \u001b[0;32mIn [48]\u001b[0m, in \u001b[0;36m<listcomp>\u001b[0;34m(.0)\u001b[0m\n\u001b[1;32m      3\u001b[0m model_acc \u001b[38;5;241m=\u001b[39m [i[\u001b[38;5;124m'\u001b[39m\u001b[38;5;124mmodel_accuracy\u001b[39m\u001b[38;5;124m'\u001b[39m] \u001b[38;5;28;01mfor\u001b[39;00m i \u001b[38;5;129;01min\u001b[39;00m outs]\n\u001b[1;32m      4\u001b[0m impute_acc \u001b[38;5;241m=\u001b[39m [i[\u001b[38;5;124m'\u001b[39m\u001b[38;5;124mimpute_accuracy\u001b[39m\u001b[38;5;124m'\u001b[39m] \u001b[38;5;28;01mfor\u001b[39;00m i \u001b[38;5;129;01min\u001b[39;00m outs]\n\u001b[0;32m----> 5\u001b[0m x \u001b[38;5;241m=\u001b[39m [alpha \u001b[38;5;241m*\u001b[39m i[\u001b[38;5;124m'\u001b[39m\u001b[38;5;124mgpt\u001b[39m\u001b[38;5;124m'\u001b[39m] \u001b[38;5;241m+\u001b[39m (\u001b[38;5;241m1\u001b[39m\u001b[38;5;241m-\u001b[39malpha) \u001b[38;5;241m*\u001b[39m ((i[\u001b[38;5;124m'\u001b[39m\u001b[38;5;124mmodel_accuracy\u001b[39m\u001b[38;5;124m'\u001b[39m]\u001b[38;5;241m-\u001b[39m\u001b[38;5;28mmin\u001b[39m(model_acc))\u001b[38;5;241m/\u001b[39m(\u001b[38;5;28mmax\u001b[39m(model_acc) \u001b[38;5;241m-\u001b[39m \u001b[38;5;28;43mmin\u001b[39;49m\u001b[43m(\u001b[49m\u001b[43mmodel_acc\u001b[49m\u001b[43m)\u001b[49m)) \u001b[38;5;28;01mfor\u001b[39;00m i \u001b[38;5;129;01min\u001b[39;00m outs]\n\u001b[1;32m      6\u001b[0m \u001b[38;5;66;03m#y = [(i['impute_accuracy']-min(impute_acc))/(max(impute_acc) - min(impute_acc)) for i in outs]\u001b[39;00m\n\u001b[1;32m      7\u001b[0m y \u001b[38;5;241m=\u001b[39m [i[\u001b[38;5;124m'\u001b[39m\u001b[38;5;124mimpute_accuracy\u001b[39m\u001b[38;5;124m'\u001b[39m] \u001b[38;5;28;01mfor\u001b[39;00m i \u001b[38;5;129;01min\u001b[39;00m outs]\n",
      "\u001b[0;31mKeyboardInterrupt\u001b[0m: "
     ]
    }
   ],
   "source": [
    "alpha = 0.7\n",
    "# normalize model accuracy and impute accuracy\n",
    "model_acc = [i['model_accuracy'] for i in outs]\n",
    "impute_acc = [i['impute_accuracy'] for i in outs]\n",
    "x = [alpha * i['gpt'] + (1-alpha) * ((i['model_accuracy']-min(model_acc))/(max(model_acc) - min(model_acc))) for i in outs]\n",
    "#y = [(i['impute_accuracy']-min(impute_acc))/(max(impute_acc) - min(impute_acc)) for i in outs]\n",
    "y = [i['impute_accuracy'] for i in outs]\n",
    "plt.scatter(x, y)\n",
    "plt.show()"
   ]
  },
  {
   "cell_type": "code",
   "execution_count": 54,
   "metadata": {},
   "outputs": [
    {
     "name": "stdout",
     "output_type": "stream",
     "text": [
      "alpha: 0.0 mean_y: 0.8538773148148148\n",
      "alpha: 0.1 mean_y: 0.8668981481481483\n",
      "alpha: 0.2 mean_y: 0.8706597222222222\n",
      "alpha: 0.30000000000000004 mean_y: 0.8755787037037037\n",
      "alpha: 0.4 mean_y: 0.8755787037037037\n",
      "alpha: 0.5 mean_y: 0.8755787037037037\n",
      "alpha: 0.6000000000000001 mean_y: 0.8708043981481483\n",
      "alpha: 0.7000000000000001 mean_y: 0.8680555555555557\n",
      "alpha: 0.8 mean_y: 0.8841145833333334\n",
      "alpha: 0.9 mean_y: 0.8841145833333334\n",
      "alpha: 1.0 mean_y: 0.9029224537037037\n"
     ]
    }
   ],
   "source": [
    "top_k = 3\n",
    "y2 = []\n",
    "for alpha in np.arange(0, 1.1, 0.1):\n",
    "    # normalize model accuracy and impute accuracy\n",
    "    model_acc = [i['model_accuracy'] for i in outs]\n",
    "    impute_acc = [i['impute_accuracy'] for i in outs]\n",
    "    x = [alpha * i['gpt'] + (1-alpha) * ((i['model_accuracy']-min(model_acc))/(max(model_acc) - min(model_acc))) for i in outs]\n",
    "    #y = [(i['impute_accuracy']-min(impute_acc))/(max(impute_acc) - min(impute_acc)) for i in outs]\n",
    "    y = [i['impute_accuracy'] for i in outs]\n",
    "    z = []\n",
    "    for i in range(len(outs)):\n",
    "        #plt.text(x[i], y[i], str(outs[i]['bins']))\n",
    "        z.append((outs[i]['bins'], x[i], y[i]))\n",
    "        #print(outs[i]['bins'], x[i], y[i])\n",
    "    sorted(z, key=lambda x: x[1], reverse=True)\n",
    "    # get mean y[i] for top k\n",
    "    mean_y = np.mean([i[2] for i in sorted(z, key=lambda x: x[1], reverse=True)[:top_k]])\n",
    "    y2.append(mean_y)\n",
    "    print(\"alpha:\", alpha, \"mean_y:\", mean_y)"
   ]
  },
  {
   "cell_type": "code",
   "execution_count": 56,
   "metadata": {},
   "outputs": [
    {
     "data": {
      "image/png": "[encoded data removed]",
      "text/plain": [
       "<Figure size 432x288 with 1 Axes>"
      ]
     },
     "metadata": {
      "needs_background": "light"
     },
     "output_type": "display_data"
    }
   ],
   "source": [
    "plt.plot(np.arange(0, 1.1, 0.1), y2)\n",
    "plt.xlabel('alpha', fontsize=14)\n",
    "plt.ylabel('mean impute accuracy', fontsize=14)\n",
    "plt.title(f'top k = {top_k}', fontsize=18)\n",
    "plt.show()"
   ]
  },
  {
   "cell_type": "code",
   "execution_count": 67,
   "metadata": {},
   "outputs": [
    {
     "name": "stdout",
     "output_type": "stream",
     "text": [
      "alpha: 0.0 mean_y: 0.7203947368421053\n",
      "alpha: 0.1 mean_y: 0.7203947368421053\n",
      "alpha: 0.2 mean_y: 0.7203947368421053\n",
      "alpha: 0.30000000000000004 mean_y: 0.7203947368421053\n",
      "alpha: 0.4 mean_y: 0.7203947368421053\n",
      "alpha: 0.5 mean_y: 0.7105263157894737\n",
      "alpha: 0.6000000000000001 mean_y: 0.7105263157894737\n",
      "alpha: 0.7000000000000001 mean_y: 0.7105263157894737\n",
      "alpha: 0.8 mean_y: 0.7105263157894737\n",
      "alpha: 0.9 mean_y: 0.7105263157894737\n",
      "alpha: 1.0 mean_y: 0.700657894736842\n"
     ]
    }
   ],
   "source": [
    "top_k = 2\n",
    "y2 = []\n",
    "for alpha in np.arange(0, 1.1, 0.1):\n",
    "    # normalize model accuracy and impute accuracy\n",
    "    model_acc = [i['model_accuracy'] for i in outs]\n",
    "    impute_acc = [i['impute_accuracy'] for i in outs]\n",
    "    x = [alpha * i['gpt'] + (1-alpha) * ((i['impute_accuracy']-min(impute_acc))/(max(impute_acc) - min(impute_acc))) for i in outs]\n",
    "    #y = [(i['impute_accuracy']-min(impute_acc))/(max(impute_acc) - min(impute_acc)) for i in outs]\n",
    "    y = [i['model_accuracy'] for i in outs]\n",
    "    z = []\n",
    "    for i in range(len(outs)):\n",
    "        #plt.text(x[i], y[i], str(outs[i]['bins']))\n",
    "        z.append((outs[i]['bins'], x[i], y[i]))\n",
    "        #print(outs[i]['bins'], x[i], y[i])\n",
    "    sorted(z, key=lambda x: x[1], reverse=True)\n",
    "    # get mean y[i] for top k\n",
    "    mean_y = np.mean([i[2] for i in sorted(z, key=lambda x: x[1], reverse=True)[:top_k]])\n",
    "    y2.append(mean_y)\n",
    "    print(\"alpha:\", alpha, \"mean_y:\", mean_y)"
   ]
  },
  {
   "cell_type": "code",
   "execution_count": 68,
   "metadata": {},
   "outputs": [
    {
     "data": {
      "image/png": "[encoded data removed]",
      "text/plain": [
       "<Figure size 432x288 with 1 Axes>"
      ]
     },
     "metadata": {
      "needs_background": "light"
     },
     "output_type": "display_data"
    }
   ],
   "source": [
    "plt.plot(np.arange(0, 1.1, 0.1), y2)\n",
    "plt.xlabel('alpha', fontsize=14)\n",
    "plt.ylabel('mean model accuracy', fontsize=14)\n",
    "plt.title(f'top k = {top_k}', fontsize=18)\n",
    "plt.show()"
   ]
  },
  {
   "cell_type": "markdown",
   "metadata": {},
   "source": [
    "### pareto curve"
   ]
  },
  {
   "cell_type": "code",
   "execution_count": 110,
   "metadata": {},
   "outputs": [
    {
     "data": {
      "text/plain": [
       "array([[0.71691644, 0.59124215, 0.42349582, 0.5939245 , 0.46487134,\n",
       "        0.62940706, 0.97822296, 0.25388094, 0.15099489, 0.25696939,\n",
       "        0.62759761, 0.95835526, 0.87314923, 0.48423491, 0.74931096,\n",
       "        0.54714618, 0.49264806, 0.15866351, 0.74022519, 0.11562332,\n",
       "        0.37357008, 0.09661767, 0.87647029, 0.28011315, 0.86945105,\n",
       "        0.04253538, 0.32107033, 0.77506231, 0.11534431, 0.80461076,\n",
       "        0.86028884, 0.43529135, 0.07122995, 0.57248749, 0.72864558,\n",
       "        0.24989706, 0.09370352, 0.93149974, 0.66215723, 0.4870712 ,\n",
       "        0.16350835, 0.54363033, 0.21574577, 0.04054469, 0.5443845 ,\n",
       "        0.90745565, 0.90212045, 0.21386356, 0.84574628, 0.31890832],\n",
       "       [0.15699532, 0.99267228, 0.95677354, 0.36654559, 0.03476378,\n",
       "        0.62153622, 0.80306497, 0.48474144, 0.94582107, 0.12161229,\n",
       "        0.95510631, 0.71502654, 0.49514553, 0.98142254, 0.24356971,\n",
       "        0.1677284 , 0.63067456, 0.62808609, 0.59862001, 0.47396508,\n",
       "        0.07476063, 0.7345975 , 0.19084403, 0.08248024, 0.93717343,\n",
       "        0.49913567, 0.34462725, 0.60845388, 0.83247655, 0.12371182,\n",
       "        0.92264063, 0.32305368, 0.78258957, 0.90280652, 0.46855257,\n",
       "        0.10993336, 0.26212757, 0.39706531, 0.49557211, 0.79035312,\n",
       "        0.05266046, 0.97218554, 0.5482096 , 0.84538229, 0.08288457,\n",
       "        0.8784484 , 0.23250797, 0.38365455, 0.44394193, 0.73388615]])"
      ]
     },
     "execution_count": 110,
     "metadata": {},
     "output_type": "execute_result"
    }
   ],
   "source": [
    "datapoints=np.random.rand(2, 50)\n",
    "datapoints"
   ]
  },
  {
   "cell_type": "code",
   "execution_count": 14,
   "metadata": {},
   "outputs": [
    {
     "data": {
      "text/plain": [
       "array([[1.        , 0.66666667, 0.93333333, ..., 0.26666667, 0.26666667,\n",
       "        0.33333333],\n",
       "       [0.69736842, 0.73684211, 0.70394737, ..., 0.74820144, 0.74324324,\n",
       "        0.70503597]])"
      ]
     },
     "execution_count": 14,
     "metadata": {},
     "output_type": "execute_result"
    }
   ],
   "source": [
    "datapoints0 = [x['gpt'] for x in outs]\n",
    "datapoints1 = [x['model_accuracy'] for x in outs]\n",
    "datapoints2 = [x['impute_accuracy'] for x in outs]\n",
    "datapoints = np.array([datapoints0[0:], datapoints1[0:]])\n",
    "datapoints"
   ]
  },
  {
   "cell_type": "code",
   "execution_count": 15,
   "metadata": {},
   "outputs": [
    {
     "name": "stdout",
     "output_type": "stream",
     "text": [
      "Pareto: 6 optimal values, 6 objects\n"
     ]
    }
   ],
   "source": [
    "pareto=oapackage.ParetoDoubleLong()\n",
    "\n",
    "for ii in range(0, datapoints.shape[1]):\n",
    "    w=oapackage.doubleVector( (datapoints[0,ii], datapoints[1,ii]))\n",
    "    pareto.addvalue(w, ii)\n",
    "\n",
    "pareto.show(verbose=1)"
   ]
  },
  {
   "cell_type": "code",
   "execution_count": 17,
   "metadata": {},
   "outputs": [
    {
     "data": {
      "image/png": "[encoded data removed]",
      "text/plain": [
       "<Figure size 432x288 with 1 Axes>"
      ]
     },
     "metadata": {
      "needs_background": "light"
     },
     "output_type": "display_data"
    }
   ],
   "source": [
    "lst=pareto.allindices() # the indices of the Pareto optimal designs\n",
    "\n",
    "optimal_datapoints=datapoints[:,lst]\n",
    "# random sample data point index\n",
    "idx = np.random.choice(range(datapoints.shape[1]), 100)\n",
    "\n",
    "h=plt.plot(datapoints[0,idx], datapoints[1,idx], '.b', markersize=16, label='Non Pareto-optimal')\n",
    "hp=plt.plot(optimal_datapoints[0,:], optimal_datapoints[1,:], '.r', markersize=16, label='Pareto optimal')\n",
    "plt.xlabel('Semantics', fontsize=16)\n",
    "plt.ylabel('Accuracy', fontsize=16)\n",
    "#plt.xticks([])\n",
    "#plt.yticks([])\n",
    "_=plt.legend(loc=0, numpoints=1)"
   ]
  },
  {
   "cell_type": "code",
   "execution_count": 18,
   "metadata": {},
   "outputs": [],
   "source": [
    "# dictionary to dataframe\n",
    "df_out = pd.DataFrame(outs)\n",
    "# label the Pareto optimal points in the dataframe as 1; otherwise 0\n",
    "df_out['pareto'] = 0\n",
    "df_out.loc[lst, 'pareto'] = 1\n",
    "# dataframe to json file\n",
    "df_out.to_json(os.path.join(ppath, 'scratch', 'glu_bmi_age.pareto.20240725.json'), orient='records')"
   ]
  },
  {
   "cell_type": "code",
   "execution_count": 19,
   "metadata": {},
   "outputs": [],
   "source": [
    "from sklearn.decomposition import PCA"
   ]
  },
  {
   "cell_type": "code",
   "execution_count": 65,
   "metadata": {},
   "outputs": [
    {
     "ename": "ValueError",
     "evalue": "all the input array dimensions for the concatenation axis must match exactly, but along dimension 1, the array at index 0 has size 2274 and the array at index 10 has size 2193",
     "output_type": "error",
     "traceback": [
      "\u001b[0;31m---------------------------------------------------------------------------\u001b[0m",
      "\u001b[0;31mValueError\u001b[0m                                Traceback (most recent call last)",
      "Input \u001b[0;32mIn [65]\u001b[0m, in \u001b[0;36m<cell line: 4>\u001b[0;34m()\u001b[0m\n\u001b[1;32m      2\u001b[0m keys \u001b[38;5;241m=\u001b[39m [\u001b[38;5;124m'\u001b[39m\u001b[38;5;124mGlucose.partitioned\u001b[39m\u001b[38;5;124m'\u001b[39m, \u001b[38;5;124m'\u001b[39m\u001b[38;5;124mBMI.partitioned\u001b[39m\u001b[38;5;124m'\u001b[39m, \u001b[38;5;124m'\u001b[39m\u001b[38;5;124mAge.partitioned\u001b[39m\u001b[38;5;124m'\u001b[39m]\n\u001b[1;32m      3\u001b[0m X \u001b[38;5;241m=\u001b[39m np\u001b[38;5;241m.\u001b[39marray([np\u001b[38;5;241m.\u001b[39marray(i)\u001b[38;5;241m.\u001b[39mflatten() \u001b[38;5;28;01mfor\u001b[39;00m i \u001b[38;5;129;01min\u001b[39;00m df_out[keys]\u001b[38;5;241m.\u001b[39mvalues\u001b[38;5;241m.\u001b[39mtolist()])\n\u001b[0;32m----> 4\u001b[0m X \u001b[38;5;241m=\u001b[39m \u001b[43mnp\u001b[49m\u001b[38;5;241;43m.\u001b[39;49m\u001b[43mvstack\u001b[49m\u001b[43m(\u001b[49m\u001b[43mX\u001b[49m\u001b[43m)\u001b[49m\n",
      "File \u001b[0;32m<__array_function__ internals>:180\u001b[0m, in \u001b[0;36mvstack\u001b[0;34m(*args, **kwargs)\u001b[0m\n",
      "File \u001b[0;32m~/anaconda3/envs/lucid/lib/python3.9/site-packages/numpy/core/shape_base.py:282\u001b[0m, in \u001b[0;36mvstack\u001b[0;34m(tup)\u001b[0m\n\u001b[1;32m    280\u001b[0m \u001b[38;5;28;01mif\u001b[39;00m \u001b[38;5;129;01mnot\u001b[39;00m \u001b[38;5;28misinstance\u001b[39m(arrs, \u001b[38;5;28mlist\u001b[39m):\n\u001b[1;32m    281\u001b[0m     arrs \u001b[38;5;241m=\u001b[39m [arrs]\n\u001b[0;32m--> 282\u001b[0m \u001b[38;5;28;01mreturn\u001b[39;00m \u001b[43m_nx\u001b[49m\u001b[38;5;241;43m.\u001b[39;49m\u001b[43mconcatenate\u001b[49m\u001b[43m(\u001b[49m\u001b[43marrs\u001b[49m\u001b[43m,\u001b[49m\u001b[43m \u001b[49m\u001b[38;5;241;43m0\u001b[39;49m\u001b[43m)\u001b[49m\n",
      "File \u001b[0;32m<__array_function__ internals>:180\u001b[0m, in \u001b[0;36mconcatenate\u001b[0;34m(*args, **kwargs)\u001b[0m\n",
      "\u001b[0;31mValueError\u001b[0m: all the input array dimensions for the concatenation axis must match exactly, but along dimension 1, the array at index 0 has size 2274 and the array at index 10 has size 2193"
     ]
    }
   ],
   "source": [
    "pca = PCA(n_components=2)\n",
    "keys = ['Glucose.partitioned', 'BMI.partitioned', 'Age.partitioned']\n",
    "X = np.array([np.array(i).flatten() for i in df_out[keys].values.tolist()])\n",
    "X = np.vstack(X)"
   ]
  },
  {
   "cell_type": "code",
   "execution_count": 62,
   "metadata": {},
   "outputs": [
    {
     "data": {
      "text/plain": [
       "array([array([140., 140., 200., ...,  45.,  65.,  45.]),\n",
       "       array([140., 140., 200., ...,  30.,  48.,  24.]),\n",
       "       array([140., 140., 200., ...,  30.,  50.,  25.]), ...,\n",
       "       array([114.,  99., 199., ...,  30.,  47.,  24.]),\n",
       "       array([114.,  99., 199., ...,  32.,  59.,  23.]),\n",
       "       array([114.,  99., 199., ...,  30.,  47.,  24.])], dtype=object)"
      ]
     },
     "execution_count": 62,
     "metadata": {},
     "output_type": "execute_result"
    }
   ],
   "source": [
    "X"
   ]
  },
  {
   "cell_type": "code",
   "execution_count": 32,
   "metadata": {},
   "outputs": [
    {
     "ename": "ValueError",
     "evalue": "setting an array element with a sequence.",
     "output_type": "error",
     "traceback": [
      "\u001b[0;31m---------------------------------------------------------------------------\u001b[0m",
      "\u001b[0;31mTypeError\u001b[0m                                 Traceback (most recent call last)",
      "\u001b[0;31mTypeError\u001b[0m: only size-1 arrays can be converted to Python scalars",
      "\nThe above exception was the direct cause of the following exception:\n",
      "\u001b[0;31mValueError\u001b[0m                                Traceback (most recent call last)",
      "Input \u001b[0;32mIn [32]\u001b[0m, in \u001b[0;36m<cell line: 1>\u001b[0;34m()\u001b[0m\n\u001b[0;32m----> 1\u001b[0m processed \u001b[38;5;241m=\u001b[39m \u001b[43mpca\u001b[49m\u001b[38;5;241;43m.\u001b[39;49m\u001b[43mfit_transform\u001b[49m\u001b[43m(\u001b[49m\u001b[43mX\u001b[49m\u001b[43m)\u001b[49m\n",
      "File \u001b[0;32m~/anaconda3/envs/lucid/lib/python3.9/site-packages/sklearn/decomposition/_pca.py:407\u001b[0m, in \u001b[0;36mPCA.fit_transform\u001b[0;34m(self, X, y)\u001b[0m\n\u001b[1;32m    385\u001b[0m \u001b[38;5;28;01mdef\u001b[39;00m \u001b[38;5;21mfit_transform\u001b[39m(\u001b[38;5;28mself\u001b[39m, X, y\u001b[38;5;241m=\u001b[39m\u001b[38;5;28;01mNone\u001b[39;00m):\n\u001b[1;32m    386\u001b[0m \u001b[38;5;250m    \u001b[39m\u001b[38;5;124;03m\"\"\"Fit the model with X and apply the dimensionality reduction on X.\u001b[39;00m\n\u001b[1;32m    387\u001b[0m \n\u001b[1;32m    388\u001b[0m \u001b[38;5;124;03m    Parameters\u001b[39;00m\n\u001b[0;32m   (...)\u001b[0m\n\u001b[1;32m    405\u001b[0m \u001b[38;5;124;03m    C-ordered array, use 'np.ascontiguousarray'.\u001b[39;00m\n\u001b[1;32m    406\u001b[0m \u001b[38;5;124;03m    \"\"\"\u001b[39;00m\n\u001b[0;32m--> 407\u001b[0m     U, S, Vt \u001b[38;5;241m=\u001b[39m \u001b[38;5;28;43mself\u001b[39;49m\u001b[38;5;241;43m.\u001b[39;49m\u001b[43m_fit\u001b[49m\u001b[43m(\u001b[49m\u001b[43mX\u001b[49m\u001b[43m)\u001b[49m\n\u001b[1;32m    408\u001b[0m     U \u001b[38;5;241m=\u001b[39m U[:, : \u001b[38;5;28mself\u001b[39m\u001b[38;5;241m.\u001b[39mn_components_]\n\u001b[1;32m    410\u001b[0m     \u001b[38;5;28;01mif\u001b[39;00m \u001b[38;5;28mself\u001b[39m\u001b[38;5;241m.\u001b[39mwhiten:\n\u001b[1;32m    411\u001b[0m         \u001b[38;5;66;03m# X_new = X * V / S * sqrt(n_samples) = U * sqrt(n_samples)\u001b[39;00m\n",
      "File \u001b[0;32m~/anaconda3/envs/lucid/lib/python3.9/site-packages/sklearn/decomposition/_pca.py:430\u001b[0m, in \u001b[0;36mPCA._fit\u001b[0;34m(self, X)\u001b[0m\n\u001b[1;32m    424\u001b[0m \u001b[38;5;28;01mif\u001b[39;00m issparse(X):\n\u001b[1;32m    425\u001b[0m     \u001b[38;5;28;01mraise\u001b[39;00m \u001b[38;5;167;01mTypeError\u001b[39;00m(\n\u001b[1;32m    426\u001b[0m         \u001b[38;5;124m\"\u001b[39m\u001b[38;5;124mPCA does not support sparse input. See \u001b[39m\u001b[38;5;124m\"\u001b[39m\n\u001b[1;32m    427\u001b[0m         \u001b[38;5;124m\"\u001b[39m\u001b[38;5;124mTruncatedSVD for a possible alternative.\u001b[39m\u001b[38;5;124m\"\u001b[39m\n\u001b[1;32m    428\u001b[0m     )\n\u001b[0;32m--> 430\u001b[0m X \u001b[38;5;241m=\u001b[39m \u001b[38;5;28;43mself\u001b[39;49m\u001b[38;5;241;43m.\u001b[39;49m\u001b[43m_validate_data\u001b[49m\u001b[43m(\u001b[49m\n\u001b[1;32m    431\u001b[0m \u001b[43m    \u001b[49m\u001b[43mX\u001b[49m\u001b[43m,\u001b[49m\u001b[43m \u001b[49m\u001b[43mdtype\u001b[49m\u001b[38;5;241;43m=\u001b[39;49m\u001b[43m[\u001b[49m\u001b[43mnp\u001b[49m\u001b[38;5;241;43m.\u001b[39;49m\u001b[43mfloat64\u001b[49m\u001b[43m,\u001b[49m\u001b[43m \u001b[49m\u001b[43mnp\u001b[49m\u001b[38;5;241;43m.\u001b[39;49m\u001b[43mfloat32\u001b[49m\u001b[43m]\u001b[49m\u001b[43m,\u001b[49m\u001b[43m \u001b[49m\u001b[43mensure_2d\u001b[49m\u001b[38;5;241;43m=\u001b[39;49m\u001b[38;5;28;43;01mTrue\u001b[39;49;00m\u001b[43m,\u001b[49m\u001b[43m \u001b[49m\u001b[43mcopy\u001b[49m\u001b[38;5;241;43m=\u001b[39;49m\u001b[38;5;28;43mself\u001b[39;49m\u001b[38;5;241;43m.\u001b[39;49m\u001b[43mcopy\u001b[49m\n\u001b[1;32m    432\u001b[0m \u001b[43m\u001b[49m\u001b[43m)\u001b[49m\n\u001b[1;32m    434\u001b[0m \u001b[38;5;66;03m# Handle n_components==None\u001b[39;00m\n\u001b[1;32m    435\u001b[0m \u001b[38;5;28;01mif\u001b[39;00m \u001b[38;5;28mself\u001b[39m\u001b[38;5;241m.\u001b[39mn_components \u001b[38;5;129;01mis\u001b[39;00m \u001b[38;5;28;01mNone\u001b[39;00m:\n",
      "File \u001b[0;32m~/anaconda3/envs/lucid/lib/python3.9/site-packages/sklearn/base.py:566\u001b[0m, in \u001b[0;36mBaseEstimator._validate_data\u001b[0;34m(self, X, y, reset, validate_separately, **check_params)\u001b[0m\n\u001b[1;32m    564\u001b[0m     \u001b[38;5;28;01mraise\u001b[39;00m \u001b[38;5;167;01mValueError\u001b[39;00m(\u001b[38;5;124m\"\u001b[39m\u001b[38;5;124mValidation should be done on X, y or both.\u001b[39m\u001b[38;5;124m\"\u001b[39m)\n\u001b[1;32m    565\u001b[0m \u001b[38;5;28;01melif\u001b[39;00m \u001b[38;5;129;01mnot\u001b[39;00m no_val_X \u001b[38;5;129;01mand\u001b[39;00m no_val_y:\n\u001b[0;32m--> 566\u001b[0m     X \u001b[38;5;241m=\u001b[39m \u001b[43mcheck_array\u001b[49m\u001b[43m(\u001b[49m\u001b[43mX\u001b[49m\u001b[43m,\u001b[49m\u001b[43m \u001b[49m\u001b[38;5;241;43m*\u001b[39;49m\u001b[38;5;241;43m*\u001b[39;49m\u001b[43mcheck_params\u001b[49m\u001b[43m)\u001b[49m\n\u001b[1;32m    567\u001b[0m     out \u001b[38;5;241m=\u001b[39m X\n\u001b[1;32m    568\u001b[0m \u001b[38;5;28;01melif\u001b[39;00m no_val_X \u001b[38;5;129;01mand\u001b[39;00m \u001b[38;5;129;01mnot\u001b[39;00m no_val_y:\n",
      "File \u001b[0;32m~/anaconda3/envs/lucid/lib/python3.9/site-packages/sklearn/utils/validation.py:746\u001b[0m, in \u001b[0;36mcheck_array\u001b[0;34m(array, accept_sparse, accept_large_sparse, dtype, order, copy, force_all_finite, ensure_2d, allow_nd, ensure_min_samples, ensure_min_features, estimator)\u001b[0m\n\u001b[1;32m    744\u001b[0m         array \u001b[38;5;241m=\u001b[39m array\u001b[38;5;241m.\u001b[39mastype(dtype, casting\u001b[38;5;241m=\u001b[39m\u001b[38;5;124m\"\u001b[39m\u001b[38;5;124munsafe\u001b[39m\u001b[38;5;124m\"\u001b[39m, copy\u001b[38;5;241m=\u001b[39m\u001b[38;5;28;01mFalse\u001b[39;00m)\n\u001b[1;32m    745\u001b[0m     \u001b[38;5;28;01melse\u001b[39;00m:\n\u001b[0;32m--> 746\u001b[0m         array \u001b[38;5;241m=\u001b[39m \u001b[43mnp\u001b[49m\u001b[38;5;241;43m.\u001b[39;49m\u001b[43masarray\u001b[49m\u001b[43m(\u001b[49m\u001b[43marray\u001b[49m\u001b[43m,\u001b[49m\u001b[43m \u001b[49m\u001b[43morder\u001b[49m\u001b[38;5;241;43m=\u001b[39;49m\u001b[43morder\u001b[49m\u001b[43m,\u001b[49m\u001b[43m \u001b[49m\u001b[43mdtype\u001b[49m\u001b[38;5;241;43m=\u001b[39;49m\u001b[43mdtype\u001b[49m\u001b[43m)\u001b[49m\n\u001b[1;32m    747\u001b[0m \u001b[38;5;28;01mexcept\u001b[39;00m ComplexWarning \u001b[38;5;28;01mas\u001b[39;00m complex_warning:\n\u001b[1;32m    748\u001b[0m     \u001b[38;5;28;01mraise\u001b[39;00m \u001b[38;5;167;01mValueError\u001b[39;00m(\n\u001b[1;32m    749\u001b[0m         \u001b[38;5;124m\"\u001b[39m\u001b[38;5;124mComplex data not supported\u001b[39m\u001b[38;5;130;01m\\n\u001b[39;00m\u001b[38;5;132;01m{}\u001b[39;00m\u001b[38;5;130;01m\\n\u001b[39;00m\u001b[38;5;124m\"\u001b[39m\u001b[38;5;241m.\u001b[39mformat(array)\n\u001b[1;32m    750\u001b[0m     ) \u001b[38;5;28;01mfrom\u001b[39;00m \u001b[38;5;21;01mcomplex_warning\u001b[39;00m\n",
      "\u001b[0;31mValueError\u001b[0m: setting an array element with a sequence."
     ]
    }
   ],
   "source": [
    "processed = pca.fit_transform(X)"
   ]
  }
 ],
 "metadata": {
  "kernelspec": {
   "display_name": "lucid",
   "language": "python",
   "name": "python3"
  },
  "language_info": {
   "codemirror_mode": {
    "name": "ipython",
    "version": 3
   },
   "file_extension": ".py",
   "mimetype": "text/x-python",
   "name": "python",
   "nbconvert_exporter": "python",
   "pygments_lexer": "ipython3",
   "version": "3.9.12"
  }
 },
 "nbformat": 4,
 "nbformat_minor": 2
}
