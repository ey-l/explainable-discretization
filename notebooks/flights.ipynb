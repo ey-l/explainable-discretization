{
 "cells": [
  {
   "cell_type": "code",
   "execution_count": 1,
   "metadata": {},
   "outputs": [],
   "source": [
    "import pandas as pd\n",
    "import numpy as np\n",
    "import sys\n",
    "import os\n",
    "import matplotlib.pyplot as plt"
   ]
  },
  {
   "cell_type": "code",
   "execution_count": 2,
   "metadata": {},
   "outputs": [],
   "source": [
    "import warnings\n",
    "warnings.filterwarnings('ignore')\n",
    "\n",
    "# Project path\n",
    "ppath = sys.path[0] + '/../'\n",
    "sys.path.append(os.path.join(ppath, 'code'))\n",
    "from discretizers import *\n",
    "from Bucket import *"
   ]
  },
  {
   "cell_type": "code",
   "execution_count": 8,
   "metadata": {},
   "outputs": [
    {
     "data": {
      "text/html": [
       "<div>\n",
       "<style scoped>\n",
       "    .dataframe tbody tr th:only-of-type {\n",
       "        vertical-align: middle;\n",
       "    }\n",
       "\n",
       "    .dataframe tbody tr th {\n",
       "        vertical-align: top;\n",
       "    }\n",
       "\n",
       "    .dataframe thead th {\n",
       "        text-align: right;\n",
       "    }\n",
       "</style>\n",
       "<table border=\"1\" class=\"dataframe\">\n",
       "  <thead>\n",
       "    <tr style=\"text-align: right;\">\n",
       "      <th></th>\n",
       "      <th>id</th>\n",
       "      <th>year</th>\n",
       "      <th>month</th>\n",
       "      <th>day</th>\n",
       "      <th>dep_time</th>\n",
       "      <th>sched_dep_time</th>\n",
       "      <th>dep_delay</th>\n",
       "      <th>arr_time</th>\n",
       "      <th>sched_arr_time</th>\n",
       "      <th>arr_delay</th>\n",
       "      <th>flight</th>\n",
       "      <th>air_time</th>\n",
       "      <th>distance</th>\n",
       "      <th>hour</th>\n",
       "      <th>minute</th>\n",
       "    </tr>\n",
       "  </thead>\n",
       "  <tbody>\n",
       "    <tr>\n",
       "      <th>count</th>\n",
       "      <td>336776.000000</td>\n",
       "      <td>336776.0</td>\n",
       "      <td>336776.000000</td>\n",
       "      <td>336776.000000</td>\n",
       "      <td>328521.000000</td>\n",
       "      <td>336776.000000</td>\n",
       "      <td>328521.000000</td>\n",
       "      <td>328063.000000</td>\n",
       "      <td>336776.000000</td>\n",
       "      <td>327346.000000</td>\n",
       "      <td>336776.000000</td>\n",
       "      <td>327346.000000</td>\n",
       "      <td>336776.000000</td>\n",
       "      <td>336776.000000</td>\n",
       "      <td>336776.000000</td>\n",
       "    </tr>\n",
       "    <tr>\n",
       "      <th>mean</th>\n",
       "      <td>168387.500000</td>\n",
       "      <td>2013.0</td>\n",
       "      <td>6.548510</td>\n",
       "      <td>15.710787</td>\n",
       "      <td>1349.109947</td>\n",
       "      <td>1344.254840</td>\n",
       "      <td>12.639070</td>\n",
       "      <td>1502.054999</td>\n",
       "      <td>1536.380220</td>\n",
       "      <td>6.895377</td>\n",
       "      <td>1971.923620</td>\n",
       "      <td>150.686460</td>\n",
       "      <td>1039.912604</td>\n",
       "      <td>13.180247</td>\n",
       "      <td>26.230100</td>\n",
       "    </tr>\n",
       "    <tr>\n",
       "      <th>std</th>\n",
       "      <td>97219.001466</td>\n",
       "      <td>0.0</td>\n",
       "      <td>3.414457</td>\n",
       "      <td>8.768607</td>\n",
       "      <td>488.281791</td>\n",
       "      <td>467.335756</td>\n",
       "      <td>40.210061</td>\n",
       "      <td>533.264132</td>\n",
       "      <td>497.457142</td>\n",
       "      <td>44.633292</td>\n",
       "      <td>1632.471938</td>\n",
       "      <td>93.688305</td>\n",
       "      <td>733.233033</td>\n",
       "      <td>4.661316</td>\n",
       "      <td>19.300846</td>\n",
       "    </tr>\n",
       "    <tr>\n",
       "      <th>min</th>\n",
       "      <td>0.000000</td>\n",
       "      <td>2013.0</td>\n",
       "      <td>1.000000</td>\n",
       "      <td>1.000000</td>\n",
       "      <td>1.000000</td>\n",
       "      <td>106.000000</td>\n",
       "      <td>-43.000000</td>\n",
       "      <td>1.000000</td>\n",
       "      <td>1.000000</td>\n",
       "      <td>-86.000000</td>\n",
       "      <td>1.000000</td>\n",
       "      <td>20.000000</td>\n",
       "      <td>17.000000</td>\n",
       "      <td>1.000000</td>\n",
       "      <td>0.000000</td>\n",
       "    </tr>\n",
       "    <tr>\n",
       "      <th>25%</th>\n",
       "      <td>84193.750000</td>\n",
       "      <td>2013.0</td>\n",
       "      <td>4.000000</td>\n",
       "      <td>8.000000</td>\n",
       "      <td>907.000000</td>\n",
       "      <td>906.000000</td>\n",
       "      <td>-5.000000</td>\n",
       "      <td>1104.000000</td>\n",
       "      <td>1124.000000</td>\n",
       "      <td>-17.000000</td>\n",
       "      <td>553.000000</td>\n",
       "      <td>82.000000</td>\n",
       "      <td>502.000000</td>\n",
       "      <td>9.000000</td>\n",
       "      <td>8.000000</td>\n",
       "    </tr>\n",
       "    <tr>\n",
       "      <th>50%</th>\n",
       "      <td>168387.500000</td>\n",
       "      <td>2013.0</td>\n",
       "      <td>7.000000</td>\n",
       "      <td>16.000000</td>\n",
       "      <td>1401.000000</td>\n",
       "      <td>1359.000000</td>\n",
       "      <td>-2.000000</td>\n",
       "      <td>1535.000000</td>\n",
       "      <td>1556.000000</td>\n",
       "      <td>-5.000000</td>\n",
       "      <td>1496.000000</td>\n",
       "      <td>129.000000</td>\n",
       "      <td>872.000000</td>\n",
       "      <td>13.000000</td>\n",
       "      <td>29.000000</td>\n",
       "    </tr>\n",
       "    <tr>\n",
       "      <th>75%</th>\n",
       "      <td>252581.250000</td>\n",
       "      <td>2013.0</td>\n",
       "      <td>10.000000</td>\n",
       "      <td>23.000000</td>\n",
       "      <td>1744.000000</td>\n",
       "      <td>1729.000000</td>\n",
       "      <td>11.000000</td>\n",
       "      <td>1940.000000</td>\n",
       "      <td>1945.000000</td>\n",
       "      <td>14.000000</td>\n",
       "      <td>3465.000000</td>\n",
       "      <td>192.000000</td>\n",
       "      <td>1389.000000</td>\n",
       "      <td>17.000000</td>\n",
       "      <td>44.000000</td>\n",
       "    </tr>\n",
       "    <tr>\n",
       "      <th>max</th>\n",
       "      <td>336775.000000</td>\n",
       "      <td>2013.0</td>\n",
       "      <td>12.000000</td>\n",
       "      <td>31.000000</td>\n",
       "      <td>2400.000000</td>\n",
       "      <td>2359.000000</td>\n",
       "      <td>1301.000000</td>\n",
       "      <td>2400.000000</td>\n",
       "      <td>2359.000000</td>\n",
       "      <td>1272.000000</td>\n",
       "      <td>8500.000000</td>\n",
       "      <td>695.000000</td>\n",
       "      <td>4983.000000</td>\n",
       "      <td>23.000000</td>\n",
       "      <td>59.000000</td>\n",
       "    </tr>\n",
       "  </tbody>\n",
       "</table>\n",
       "</div>"
      ],
      "text/plain": [
       "                  id      year          month            day       dep_time  \\\n",
       "count  336776.000000  336776.0  336776.000000  336776.000000  328521.000000   \n",
       "mean   168387.500000    2013.0       6.548510      15.710787    1349.109947   \n",
       "std     97219.001466       0.0       3.414457       8.768607     488.281791   \n",
       "min         0.000000    2013.0       1.000000       1.000000       1.000000   \n",
       "25%     84193.750000    2013.0       4.000000       8.000000     907.000000   \n",
       "50%    168387.500000    2013.0       7.000000      16.000000    1401.000000   \n",
       "75%    252581.250000    2013.0      10.000000      23.000000    1744.000000   \n",
       "max    336775.000000    2013.0      12.000000      31.000000    2400.000000   \n",
       "\n",
       "       sched_dep_time      dep_delay       arr_time  sched_arr_time  \\\n",
       "count   336776.000000  328521.000000  328063.000000   336776.000000   \n",
       "mean      1344.254840      12.639070    1502.054999     1536.380220   \n",
       "std        467.335756      40.210061     533.264132      497.457142   \n",
       "min        106.000000     -43.000000       1.000000        1.000000   \n",
       "25%        906.000000      -5.000000    1104.000000     1124.000000   \n",
       "50%       1359.000000      -2.000000    1535.000000     1556.000000   \n",
       "75%       1729.000000      11.000000    1940.000000     1945.000000   \n",
       "max       2359.000000    1301.000000    2400.000000     2359.000000   \n",
       "\n",
       "           arr_delay         flight       air_time       distance  \\\n",
       "count  327346.000000  336776.000000  327346.000000  336776.000000   \n",
       "mean        6.895377    1971.923620     150.686460    1039.912604   \n",
       "std        44.633292    1632.471938      93.688305     733.233033   \n",
       "min       -86.000000       1.000000      20.000000      17.000000   \n",
       "25%       -17.000000     553.000000      82.000000     502.000000   \n",
       "50%        -5.000000    1496.000000     129.000000     872.000000   \n",
       "75%        14.000000    3465.000000     192.000000    1389.000000   \n",
       "max      1272.000000    8500.000000     695.000000    4983.000000   \n",
       "\n",
       "                hour         minute  \n",
       "count  336776.000000  336776.000000  \n",
       "mean       13.180247      26.230100  \n",
       "std         4.661316      19.300846  \n",
       "min         1.000000       0.000000  \n",
       "25%         9.000000       8.000000  \n",
       "50%        13.000000      29.000000  \n",
       "75%        17.000000      44.000000  \n",
       "max        23.000000      59.000000  "
      ]
     },
     "execution_count": 8,
     "metadata": {},
     "output_type": "execute_result"
    }
   ],
   "source": [
    "df = pd.read_csv(os.path.join(ppath, 'data', 'flights', 'flights.csv'))\n",
    "df.describe()"
   ]
  },
  {
   "cell_type": "code",
   "execution_count": 117,
   "metadata": {},
   "outputs": [
    {
     "data": {
      "text/html": [
       "<div>\n",
       "<style scoped>\n",
       "    .dataframe tbody tr th:only-of-type {\n",
       "        vertical-align: middle;\n",
       "    }\n",
       "\n",
       "    .dataframe tbody tr th {\n",
       "        vertical-align: top;\n",
       "    }\n",
       "\n",
       "    .dataframe thead th {\n",
       "        text-align: right;\n",
       "    }\n",
       "</style>\n",
       "<table border=\"1\" class=\"dataframe\">\n",
       "  <thead>\n",
       "    <tr style=\"text-align: right;\">\n",
       "      <th></th>\n",
       "      <th>id</th>\n",
       "      <th>year</th>\n",
       "      <th>month</th>\n",
       "      <th>day</th>\n",
       "      <th>dep_time</th>\n",
       "      <th>sched_dep_time</th>\n",
       "      <th>dep_delay</th>\n",
       "      <th>arr_time</th>\n",
       "      <th>sched_arr_time</th>\n",
       "      <th>arr_delay</th>\n",
       "      <th>...</th>\n",
       "      <th>flight</th>\n",
       "      <th>tailnum</th>\n",
       "      <th>origin</th>\n",
       "      <th>dest</th>\n",
       "      <th>air_time</th>\n",
       "      <th>distance</th>\n",
       "      <th>hour</th>\n",
       "      <th>minute</th>\n",
       "      <th>time_hour</th>\n",
       "      <th>name</th>\n",
       "    </tr>\n",
       "  </thead>\n",
       "  <tbody>\n",
       "    <tr>\n",
       "      <th>177365</th>\n",
       "      <td>177365</td>\n",
       "      <td>2013</td>\n",
       "      <td>4</td>\n",
       "      <td>13</td>\n",
       "      <td>2355.0</td>\n",
       "      <td>2359</td>\n",
       "      <td>-4.0</td>\n",
       "      <td>340.0</td>\n",
       "      <td>339</td>\n",
       "      <td>1.0</td>\n",
       "      <td>...</td>\n",
       "      <td>727</td>\n",
       "      <td>N535JB</td>\n",
       "      <td>JFK</td>\n",
       "      <td>BQN</td>\n",
       "      <td>201.0</td>\n",
       "      <td>1576</td>\n",
       "      <td>23</td>\n",
       "      <td>59</td>\n",
       "      <td>2013-04-13 23:00:00</td>\n",
       "      <td>JetBlue Airways</td>\n",
       "    </tr>\n",
       "    <tr>\n",
       "      <th>148339</th>\n",
       "      <td>148339</td>\n",
       "      <td>2013</td>\n",
       "      <td>3</td>\n",
       "      <td>13</td>\n",
       "      <td>2350.0</td>\n",
       "      <td>2359</td>\n",
       "      <td>-9.0</td>\n",
       "      <td>342.0</td>\n",
       "      <td>338</td>\n",
       "      <td>4.0</td>\n",
       "      <td>...</td>\n",
       "      <td>727</td>\n",
       "      <td>N643JB</td>\n",
       "      <td>JFK</td>\n",
       "      <td>BQN</td>\n",
       "      <td>202.0</td>\n",
       "      <td>1576</td>\n",
       "      <td>23</td>\n",
       "      <td>59</td>\n",
       "      <td>2013-03-13 23:00:00</td>\n",
       "      <td>JetBlue Airways</td>\n",
       "    </tr>\n",
       "    <tr>\n",
       "      <th>88958</th>\n",
       "      <td>88958</td>\n",
       "      <td>2013</td>\n",
       "      <td>12</td>\n",
       "      <td>6</td>\n",
       "      <td>2357.0</td>\n",
       "      <td>2359</td>\n",
       "      <td>-2.0</td>\n",
       "      <td>454.0</td>\n",
       "      <td>445</td>\n",
       "      <td>9.0</td>\n",
       "      <td>...</td>\n",
       "      <td>745</td>\n",
       "      <td>N584JB</td>\n",
       "      <td>JFK</td>\n",
       "      <td>PSE</td>\n",
       "      <td>204.0</td>\n",
       "      <td>1617</td>\n",
       "      <td>23</td>\n",
       "      <td>59</td>\n",
       "      <td>2013-12-06 23:00:00</td>\n",
       "      <td>JetBlue Airways</td>\n",
       "    </tr>\n",
       "    <tr>\n",
       "      <th>255716</th>\n",
       "      <td>255716</td>\n",
       "      <td>2013</td>\n",
       "      <td>7</td>\n",
       "      <td>7</td>\n",
       "      <td>20.0</td>\n",
       "      <td>2359</td>\n",
       "      <td>21.0</td>\n",
       "      <td>415.0</td>\n",
       "      <td>344</td>\n",
       "      <td>31.0</td>\n",
       "      <td>...</td>\n",
       "      <td>1503</td>\n",
       "      <td>N589JB</td>\n",
       "      <td>JFK</td>\n",
       "      <td>SJU</td>\n",
       "      <td>205.0</td>\n",
       "      <td>1598</td>\n",
       "      <td>23</td>\n",
       "      <td>59</td>\n",
       "      <td>2013-07-07 23:00:00</td>\n",
       "      <td>JetBlue Airways</td>\n",
       "    </tr>\n",
       "    <tr>\n",
       "      <th>308514</th>\n",
       "      <td>308514</td>\n",
       "      <td>2013</td>\n",
       "      <td>8</td>\n",
       "      <td>30</td>\n",
       "      <td>2358.0</td>\n",
       "      <td>2359</td>\n",
       "      <td>-1.0</td>\n",
       "      <td>334.0</td>\n",
       "      <td>344</td>\n",
       "      <td>-10.0</td>\n",
       "      <td>...</td>\n",
       "      <td>1503</td>\n",
       "      <td>N564JB</td>\n",
       "      <td>JFK</td>\n",
       "      <td>SJU</td>\n",
       "      <td>197.0</td>\n",
       "      <td>1598</td>\n",
       "      <td>23</td>\n",
       "      <td>59</td>\n",
       "      <td>2013-08-30 23:00:00</td>\n",
       "      <td>JetBlue Airways</td>\n",
       "    </tr>\n",
       "  </tbody>\n",
       "</table>\n",
       "<p>5 rows × 21 columns</p>\n",
       "</div>"
      ],
      "text/plain": [
       "            id  year  month  day  dep_time  sched_dep_time  dep_delay  \\\n",
       "177365  177365  2013      4   13    2355.0            2359       -4.0   \n",
       "148339  148339  2013      3   13    2350.0            2359       -9.0   \n",
       "88958    88958  2013     12    6    2357.0            2359       -2.0   \n",
       "255716  255716  2013      7    7      20.0            2359       21.0   \n",
       "308514  308514  2013      8   30    2358.0            2359       -1.0   \n",
       "\n",
       "        arr_time  sched_arr_time  arr_delay  ... flight  tailnum origin dest  \\\n",
       "177365     340.0             339        1.0  ...    727   N535JB    JFK  BQN   \n",
       "148339     342.0             338        4.0  ...    727   N643JB    JFK  BQN   \n",
       "88958      454.0             445        9.0  ...    745   N584JB    JFK  PSE   \n",
       "255716     415.0             344       31.0  ...   1503   N589JB    JFK  SJU   \n",
       "308514     334.0             344      -10.0  ...   1503   N564JB    JFK  SJU   \n",
       "\n",
       "       air_time  distance  hour  minute            time_hour             name  \n",
       "177365    201.0      1576    23      59  2013-04-13 23:00:00  JetBlue Airways  \n",
       "148339    202.0      1576    23      59  2013-03-13 23:00:00  JetBlue Airways  \n",
       "88958     204.0      1617    23      59  2013-12-06 23:00:00  JetBlue Airways  \n",
       "255716    205.0      1598    23      59  2013-07-07 23:00:00  JetBlue Airways  \n",
       "308514    197.0      1598    23      59  2013-08-30 23:00:00  JetBlue Airways  \n",
       "\n",
       "[5 rows x 21 columns]"
      ]
     },
     "execution_count": 117,
     "metadata": {},
     "output_type": "execute_result"
    }
   ],
   "source": [
    "# order by scheduled departure time\n",
    "df = df.sort_values(by='sched_dep_time', ascending=False)\n",
    "df.head()"
   ]
  },
  {
   "cell_type": "code",
   "execution_count": 125,
   "metadata": {},
   "outputs": [],
   "source": [
    "def zero_pad_vectors(v1, v2):\n",
    "    # Identify the length of the longer vector\n",
    "    max_len = max(len(v1), len(v2))\n",
    "\n",
    "    # Pad each vector with zeros at the end to match the length of the longer vector\n",
    "    v1_padded = np.pad(v1, (0, max_len - len(v1)), 'constant')\n",
    "    v2_padded = np.pad(v2, (0, max_len - len(v2)), 'constant')\n",
    "\n",
    "    return v1_padded, v2_padded"
   ]
  },
  {
   "cell_type": "code",
   "execution_count": 179,
   "metadata": {},
   "outputs": [],
   "source": [
    "gpt_bins = {'bins':list(range(0, 25, 4)),\n",
    "     'gpt': 0.0}\n",
    "binnings = [\n",
    "    {'bins':list(range(0, 25, 1)),\n",
    "     'gpt': 0.2,\n",
    "     'labels': ['0-1', '1-2', '2-3', '3-4', '4-5', '5-6', '6-7', '7-8', '8-9', '9-10', '10-11', '11-12', '12-13', '13-14', '14-15', '15-16', '16-17', '17-18', '18-19', '19-20', '20-21', '21-22', '22-23', '23-24']},\n",
    "    {'bins':list(range(0, 25, 2)),\n",
    "     'gpt': 0.1,\n",
    "     'labels': ['0-2', '2-4', '4-6', '6-8', '8-10', '10-12', '12-14', '14-16', '16-18', '18-20', '20-22', '22-24']},\n",
    "    {'bins':list(range(0, 25, 3)),\n",
    "     'gpt': 0.4,\n",
    "     'labels': ['0-3', '3-6', '6-9', '9-12', '12-15', '15-18', '18-21', '21-24']},\n",
    "    {'bins':list(range(0, 25, 4)),\n",
    "     'gpt': 0.0,\n",
    "     'labels': ['0-4', '4-8', '8-12', '12-16', '16-20', '20-24']},\n",
    "    {'bins':list(range(0, 25, 6)),\n",
    "     'gpt': 0.4,\n",
    "     'labels': ['0-6', '6-12', '12-18', '18-24']},\n",
    "    {'bins':list(range(0, 25, 8)),\n",
    "     'gpt': 0.7,\n",
    "     'labels': ['0-8', '8-16', '16-24']},\n",
    "    {'bins':list(range(0, 25, 12)),\n",
    "    'gpt': 0.8,\n",
    "    'labels': ['0-12', '12-24']},\n",
    "    {'bins':[0, 4, 8, 24],\n",
    "    'gpt': 0.6,\n",
    "    'labels': ['0-4', '4-8', '8-24']},\n",
    "    {'bins':[0, 6, 8, 12, 16, 20, 24],\n",
    "    'gpt': 0.8,\n",
    "    'labels': ['0-6', '6-8', '8-12', '12-16', '16-20', '20-24']},\n",
    "]"
   ]
  },
  {
   "cell_type": "code",
   "execution_count": 202,
   "metadata": {},
   "outputs": [
    {
     "name": "stdout",
     "output_type": "stream",
     "text": [
      "L2 norm between binning 0 and gpt binning: 75.0199973340442\n",
      "Spearman correlation: 0.9157894736842105\n",
      "ANOVA F-statistic: 717.8450295084494\n",
      "L2 norm between binning 1 and gpt binning: 50.99019513592785\n",
      "Spearman correlation: 0.9\n",
      "ANOVA F-statistic: 1346.8537602888237\n",
      "L2 norm between binning 2 and gpt binning: 33.28663395418648\n",
      "Spearman correlation: 0.9285714285714287\n",
      "ANOVA F-statistic: 1895.8122155993824\n",
      "L2 norm between binning 3 and gpt binning: 0.0\n",
      "Spearman correlation: 0.942857142857143\n",
      "ANOVA F-statistic: 2565.6995433389066\n",
      "L2 norm between binning 4 and gpt binning: 33.1058907144937\n",
      "Spearman correlation: 1.0\n",
      "ANOVA F-statistic: 4028.8589333616083\n",
      "L2 norm between binning 5 and gpt binning: 38.157568056677825\n",
      "Spearman correlation: 1.0\n",
      "ANOVA F-statistic: 5465.256650277373\n",
      "L2 norm between binning 6 and gpt binning: 41.182520563948\n",
      "Spearman correlation: 0.9999999999999999\n",
      "ANOVA F-statistic: 10899.425944728839\n",
      "L2 norm between binning 7 and gpt binning: 37.094473981982816\n",
      "Spearman correlation: 1.0\n",
      "ANOVA F-statistic: 3140.3638134770576\n",
      "L2 norm between binning 8 and gpt binning: 2.0\n",
      "Spearman correlation: 0.942857142857143\n",
      "ANOVA F-statistic: 2571.34688148759\n"
     ]
    }
   ],
   "source": [
    "from scipy.stats import spearmanr, f_oneway\n",
    "\n",
    "# Populate the dictionary with stats\n",
    "for i in range(len(binnings)):\n",
    "    data = df.copy()\n",
    "    data['dep_delay'] = data['dep_delay'].replace(np.nan, 0)\n",
    "    # Calculate L2 norm between each binning and gpt binning\n",
    "    x = np.array(binnings[i]['bins'])\n",
    "    y = np.array(gpt_bins['bins'])\n",
    "    x, y = zero_pad_vectors(x, y)\n",
    "    l2_norm = np.linalg.norm(x - y)\n",
    "    binnings[i]['l2_norm'] = l2_norm\n",
    "    print(f'L2 norm between binning {i} and gpt binning: {l2_norm}')\n",
    "    # Calculate Spearman correlation\n",
    "    data['hour'] = pd.cut(data['hour'], binnings[i]['bins'], labels=False)\n",
    "    data['hour'] = data['hour'].fillna(0).astype(int)\n",
    "    dep_delay = data.groupby('hour')['dep_delay'].mean()\n",
    "    rho, p = spearmanr(dep_delay.index, dep_delay)\n",
    "    binnings[i]['spearman'] = rho\n",
    "    print(f'Spearman correlation: {rho}')\n",
    "    # Calculate ANOVA\n",
    "    dep_delay = data.groupby('hour')['dep_delay']\n",
    "    # Convert to list of lists\n",
    "    dep_delay = [group[1] for group in dep_delay]\n",
    "    f, p = f_oneway(*dep_delay)\n",
    "    binnings[i]['anova'] = f\n",
    "    print(f'ANOVA F-statistic: {f}')\n"
   ]
  },
  {
   "cell_type": "code",
   "execution_count": 189,
   "metadata": {},
   "outputs": [
    {
     "data": {
      "image/png": "[encoded data removed]",
      "text/plain": [
       "<Figure size 360x288 with 1 Axes>"
      ]
     },
     "metadata": {
      "needs_background": "light"
     },
     "output_type": "display_data"
    }
   ],
   "source": [
    "# plot GPT against spearman\n",
    "x = [b['gpt'] for b in binnings]\n",
    "y = [b['spearman'] for b in binnings]\n",
    "fig, ax = plt.subplots(1, 1, figsize=(5, 4))\n",
    "ax.plot(x, y, 'o')\n",
    "ax.set_xlim([-0.1, 1])\n",
    "#ax.set_ylim([0, 1])\n",
    "ax.set_xlabel('GPT semantic perplexity score', fontsize=14)\n",
    "ax.set_ylabel('Spearman correlation', fontsize=14)\n",
    "# Set dash style for grid \n",
    "ax.grid(True, linestyle='--')\n",
    "# Save the plot\n",
    "plt.tight_layout()\n",
    "plt.savefig(os.path.join(ppath, 'figs', 'gpt_vs_spearman.png'))"
   ]
  },
  {
   "cell_type": "code",
   "execution_count": 199,
   "metadata": {},
   "outputs": [
    {
     "data": {
      "image/png": "[encoded data removed]",
      "text/plain": [
       "<Figure size 360x288 with 1 Axes>"
      ]
     },
     "metadata": {
      "needs_background": "light"
     },
     "output_type": "display_data"
    }
   ],
   "source": [
    "x = [b['gpt'] for b in binnings]\n",
    "# Normalize ANOVA F-statistic\n",
    "y = [b['anova'] for b in binnings]\n",
    "y = [b / (max(y)) for b in y]\n",
    "fig, ax = plt.subplots(1, 1, figsize=(5, 4))\n",
    "ax.plot(x, y, 'o')\n",
    "ax.set_xlim([-0.1, 1])\n",
    "ax.set_xlabel('GPT semantic perplexity score', fontsize=14)\n",
    "ax.set_ylabel('ANOVA (normalized)', fontsize=14)\n",
    "# Set dash style for grid \n",
    "ax.grid(True, linestyle='--')\n",
    "# Save the plot\n",
    "plt.tight_layout()\n",
    "plt.savefig(os.path.join(ppath, 'figs', 'gpt_vs_anova.png'))"
   ]
  },
  {
   "cell_type": "code",
   "execution_count": 205,
   "metadata": {},
   "outputs": [
    {
     "data": {
      "image/png": "[encoded data removed]",
      "text/plain": [
       "<Figure size 360x288 with 1 Axes>"
      ]
     },
     "metadata": {
      "needs_background": "light"
     },
     "output_type": "display_data"
    }
   ],
   "source": [
    "# plot L2 norm against spearman\n",
    "x = [b['l2_norm'] for b in binnings]\n",
    "x = [ (b / (max(x))) for b in x]\n",
    "y = [b['spearman'] for b in binnings]\n",
    "fig, ax = plt.subplots(1, 1, figsize=(5, 4))\n",
    "ax.plot(x, y, 'o')\n",
    "ax.set_xlabel('L2 Norm (normalized)', fontsize=14)\n",
    "ax.set_ylabel('Spearman correlation', fontsize=14)\n",
    "# Set dash style for grid \n",
    "ax.grid(True, linestyle='--')\n",
    "# Save the plot\n",
    "plt.tight_layout()\n",
    "plt.savefig(os.path.join(ppath, 'figs', 'l2_vs_anova.png'))"
   ]
  },
  {
   "cell_type": "code",
   "execution_count": 204,
   "metadata": {},
   "outputs": [
    {
     "data": {
      "image/png": "[encoded data removed]",
      "text/plain": [
       "<Figure size 360x288 with 1 Axes>"
      ]
     },
     "metadata": {
      "needs_background": "light"
     },
     "output_type": "display_data"
    }
   ],
   "source": [
    "# plot L2 norm against ANOVA\n",
    "x = [b['l2_norm'] for b in binnings]\n",
    "x = [ (b / (max(x))) for b in x]\n",
    "y = [b['anova'] for b in binnings]\n",
    "y = [b / (max(y)) for b in y]\n",
    "fig, ax = plt.subplots(1, 1, figsize=(5, 4))\n",
    "ax.plot(x, y, 'o')\n",
    "ax.set_xlabel('L2 Norm (normalized)', fontsize=14)\n",
    "ax.set_ylabel('ANOVA (normalized)', fontsize=14)\n",
    "# Set dash style for grid\n",
    "ax.grid(True, linestyle='--')"
   ]
  },
  {
   "cell_type": "code",
   "execution_count": 210,
   "metadata": {},
   "outputs": [
    {
     "data": {
      "image/png": "[encoded data removed]",
      "text/plain": [
       "<Figure size 432x288 with 1 Axes>"
      ]
     },
     "metadata": {
      "needs_background": "light"
     },
     "output_type": "display_data"
    }
   ],
   "source": [
    "# Plot average departure delay by time of day\n",
    "data = df.copy()\n",
    "#data['hour'] = data['sched_dep_time'] // 400\n",
    "i = 3\n",
    "data['hour'] = pd.cut(data['hour'], bins=binnings[i]['bins'], labels=binnings[i]['labels'])\n",
    "data['dep_delay'] = data['dep_delay'].replace(np.nan, 0)\n",
    "data['dep_delay'] = data['dep_delay'].replace('NA', 0)\n",
    "data['dep_delay'] = data['dep_delay'].astype(int)\n",
    "# Average departure delay by time of day\n",
    "avg_dep_delay = data.groupby('hour')['dep_delay'].mean()\n",
    "plt.plot(avg_dep_delay, marker='o')\n",
    "plt.title(f\"{binnings[i]['bins']}\", fontsize=20)\n",
    "plt.xlabel('Time of day', fontsize=14)\n",
    "plt.ylabel('Average departure delay (min)', fontsize=14)\n",
    "plt.show()"
   ]
  },
  {
   "cell_type": "code",
   "execution_count": 123,
   "metadata": {},
   "outputs": [
    {
     "data": {
      "text/plain": [
       "hour\n",
       "0        1\n",
       "1    77967\n",
       "2    71234\n",
       "3    88552\n",
       "4    84389\n",
       "5    14633\n",
       "Name: dep_delay, dtype: int64"
      ]
     },
     "execution_count": 123,
     "metadata": {},
     "output_type": "execute_result"
    }
   ],
   "source": [
    "data.groupby('hour')['dep_delay'].count()"
   ]
  },
  {
   "cell_type": "code",
   "execution_count": 44,
   "metadata": {},
   "outputs": [
    {
     "data": {
      "text/plain": [
       "F_onewayResult(statistic=717.8450295084496, pvalue=0.0)"
      ]
     },
     "execution_count": 44,
     "metadata": {},
     "output_type": "execute_result"
    }
   ],
   "source": [
    "from scipy.stats import f_oneway\n",
    "# Test for difference in average departure delay by time of day\n",
    "data['hour'] = df['sched_dep_time'] // 100\n",
    "dep_delay = data.groupby('hour')['dep_delay']\n",
    "# Convert to list of lists\n",
    "dep_delay = [group[1] for group in dep_delay]\n",
    "f_oneway(*dep_delay)"
   ]
  },
  {
   "cell_type": "code",
   "execution_count": 142,
   "metadata": {},
   "outputs": [
    {
     "data": {
      "text/plain": [
       "F_onewayResult(statistic=1346.8537602888237, pvalue=0.0)"
      ]
     },
     "execution_count": 142,
     "metadata": {},
     "output_type": "execute_result"
    }
   ],
   "source": [
    "data['hour'] = pd.cut(df['hour'], binnings[1]['bins'], labels=False)\n",
    "data['dep_delay'] = data['dep_delay'].replace(np.nan, 0)\n",
    "dep_delay = data.groupby('hour')['dep_delay']\n",
    "dep_delay = [group[1] for group in dep_delay]\n",
    "f_oneway(*dep_delay)"
   ]
  },
  {
   "cell_type": "code",
   "execution_count": 93,
   "metadata": {},
   "outputs": [
    {
     "data": {
      "text/plain": [
       "[0           2\n",
       " 1           4\n",
       " 2           2\n",
       " 3          -1\n",
       " 4          -6\n",
       "          ... \n",
       " 336668    182\n",
       " 336771      0\n",
       " 336773      0\n",
       " 336774      0\n",
       " 336775      0\n",
       " Name: dep_delay, Length: 262180, dtype: int64,\n",
       " 151       853\n",
       " 630        -2\n",
       " 631        -2\n",
       " 634         0\n",
       " 635         0\n",
       "          ... \n",
       " 336767     -5\n",
       " 336768     12\n",
       " 336769    -10\n",
       " 336770      0\n",
       " 336772      0\n",
       " Name: dep_delay, Length: 74596, dtype: int64]"
      ]
     },
     "execution_count": 93,
     "metadata": {},
     "output_type": "execute_result"
    }
   ],
   "source": [
    "data['hour'] = df['sched_dep_time'] // 1800\n",
    "dep_delay = data.groupby('hour')['dep_delay']\n",
    "# Convert to list of lists\n",
    "dep_delay = [group[1] for group in dep_delay]\n",
    "dep_delay"
   ]
  },
  {
   "cell_type": "code",
   "execution_count": 92,
   "metadata": {},
   "outputs": [
    {
     "data": {
      "image/png": "[encoded data removed]",
      "text/plain": [
       "<Figure size 432x288 with 1 Axes>"
      ]
     },
     "metadata": {
      "needs_background": "light"
     },
     "output_type": "display_data"
    }
   ],
   "source": [
    "x = []\n",
    "for i in [1, 10, 30, 100, 200, 300, 400, 600, 1200, 1800]:\n",
    "    data['hour'] = df['sched_dep_time'] // i\n",
    "    dep_delay = data.groupby('hour')['dep_delay']\n",
    "    # Convert to list of lists\n",
    "    dep_delay = [group[1] for group in dep_delay]\n",
    "    f, p = f_oneway(*dep_delay)\n",
    "    x.append((i, f, p))\n",
    "# plot\n",
    "plt.plot([i[0] for i in x], [i[1] for i in x], marker='o')\n",
    "plt.show()"
   ]
  },
  {
   "cell_type": "code",
   "execution_count": 72,
   "metadata": {},
   "outputs": [
    {
     "data": {
      "text/plain": [
       "SpearmanrResult(correlation=0.9157894736842105, pvalue=1.4853059816575538e-08)"
      ]
     },
     "execution_count": 72,
     "metadata": {},
     "output_type": "execute_result"
    }
   ],
   "source": [
    "from scipy.stats import spearmanr\n",
    "# Test for difference in average departure delay by time of day\n",
    "data['hour'] = df['sched_dep_time'] // 100\n",
    "dep_delay = data.groupby('hour')['dep_delay'].mean()\n",
    "spearmanr(dep_delay.index, dep_delay)"
   ]
  },
  {
   "cell_type": "code",
   "execution_count": 89,
   "metadata": {},
   "outputs": [
    {
     "data": {
      "image/png": "[encoded data removed]",
      "text/plain": [
       "<Figure size 432x288 with 1 Axes>"
      ]
     },
     "metadata": {
      "needs_background": "light"
     },
     "output_type": "display_data"
    }
   ],
   "source": [
    "x = []\n",
    "for i in [1, 10, 30, 100, 200, 300, 400, 600]:\n",
    "    data['hour'] = df['sched_dep_time'] // i\n",
    "    dep_delay = data.groupby('hour')['dep_delay'].mean()\n",
    "    rho, p = spearmanr(dep_delay.index, dep_delay)\n",
    "    x.append((i, rho, p))\n",
    "# plot the results\n",
    "x = np.array(x)\n",
    "plt.plot(x[:, 0], x[:, 1], marker='o')\n",
    "plt.grid()\n",
    "plt.show()"
   ]
  },
  {
   "cell_type": "code",
   "execution_count": null,
   "metadata": {},
   "outputs": [],
   "source": []
  }
 ],
 "metadata": {
  "kernelspec": {
   "display_name": "lucid",
   "language": "python",
   "name": "python3"
  },
  "language_info": {
   "codemirror_mode": {
    "name": "ipython",
    "version": 3
   },
   "file_extension": ".py",
   "mimetype": "text/x-python",
   "name": "python",
   "nbconvert_exporter": "python",
   "pygments_lexer": "ipython3",
   "version": "3.9.0"
  }
 },
 "nbformat": 4,
 "nbformat_minor": 2
}
