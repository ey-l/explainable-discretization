{
 "cells": [
  {
   "cell_type": "code",
   "execution_count": 62,
   "metadata": {},
   "outputs": [],
   "source": [
    "import hdbscan\n",
    "import numpy as np\n",
    "from scipy.spatial.distance import pdist, squareform\n",
    "from scipy.cluster.hierarchy import linkage, dendrogram, fcluster\n",
    "from scipy.stats import wasserstein_distance, binned_statistic\n",
    "from sklearn.cluster import DBSCAN\n"
   ]
  },
  {
   "cell_type": "code",
   "execution_count": 34,
   "metadata": {},
   "outputs": [
    {
     "name": "stdout",
     "output_type": "stream",
     "text": [
      "Distance matrix [[0.   1.5  4.   7.25]\n",
      " [1.5  0.   2.5  5.75]\n",
      " [4.   2.5  0.   3.25]\n",
      " [7.25 5.75 3.25 0.  ]]\n",
      "Labels: [-1 -1 -1 -1]\n",
      "Labels: [-1 -1 -1 -1]\n"
     ]
    }
   ],
   "source": [
    "X = np.array([np.array([1, 2]), np.array([2, 3, 4]), np.array([6, 5]), np.array([8, 8, 9, 10])], dtype=object)\n",
    "\n",
    "def pairwise_distance(X, metric):\n",
    "    distances = np.zeros((X.shape[0], X.shape[0]))\n",
    "    for i in range(X.shape[0]):\n",
    "        for j in range(X.shape[0]):\n",
    "            distances[i, j] = metric(X[i], X[j])\n",
    "    return distances\n",
    "\n",
    "# Compute custom distance matrix\n",
    "distances = pairwise_distance(X, wasserstein_distance)\n",
    "\n",
    "print(\"Distance matrix\", distances)\n",
    "# Perform HDBSCAN clustering using the custom distance matrix\n",
    "clusterer = hdbscan.HDBSCAN(metric='precomputed')\n",
    "labels = clusterer.fit_predict(distances)\n",
    "print(\"HDBSCAN labels:\", labels)\n",
    "\n",
    "# Perform HDBSCAN clustering using the custom distance matrix\n",
    "dbscan = DBSCAN(metric='precomputed')\n",
    "labels = dbscan.fit_predict(distances)\n",
    "print(\"DBSCAN labels:\", labels)"
   ]
  },
  {
   "cell_type": "code",
   "execution_count": 36,
   "metadata": {},
   "outputs": [
    {
     "name": "stderr",
     "output_type": "stream",
     "text": [
      "/var/folders/zw/rd0tg2h150zbg_ps7wgtzpgh0000gp/T/ipykernel_53057/255596829.py:2: ClusterWarning: scipy.cluster: The symmetric non-negative hollow observation matrix looks suspiciously like an uncondensed distance matrix\n",
      "  Z = linkage(distances, method='ward')\n"
     ]
    },
    {
     "data": {
      "text/plain": [
       "{'icoord': [[5.0, 5.0, 15.0, 15.0],\n",
       "  [25.0, 25.0, 35.0, 35.0],\n",
       "  [10.0, 10.0, 30.0, 30.0]],\n",
       " 'dcoord': [[0.0, 3.0, 3.0, 0.0],\n",
       "  [0.0, 6.5, 6.5, 0.0],\n",
       "  [3.0, 11.096170510586074, 11.096170510586074, 6.5]],\n",
       " 'ivl': ['0', '1', '2', '3'],\n",
       " 'leaves': [0, 1, 2, 3],\n",
       " 'color_list': ['C1', 'C2', 'C0'],\n",
       " 'leaves_color_list': ['C1', 'C1', 'C2', 'C2']}"
      ]
     },
     "execution_count": 36,
     "metadata": {},
     "output_type": "execute_result"
    },
    {
     "data": {
      "image/png": "[encoded data removed]",
      "text/plain": [
       "<Figure size 432x288 with 1 Axes>"
      ]
     },
     "metadata": {
      "needs_background": "light"
     },
     "output_type": "display_data"
    }
   ],
   "source": [
    "# Perform hierarchical clustering\n",
    "Z = linkage(distances, method='ward')\n",
    "\n",
    "# Plot dendrogram\n",
    "dendrogram(Z)"
   ]
  },
  {
   "cell_type": "markdown",
   "metadata": {},
   "source": [
    "## Use on data"
   ]
  },
  {
   "cell_type": "code",
   "execution_count": 44,
   "metadata": {},
   "outputs": [
    {
     "name": "stderr",
     "output_type": "stream",
     "text": [
      "/Users/eylai/anaconda3/envs/lucid/lib/python3.9/site-packages/pandas/core/computation/expressions.py:21: UserWarning: Pandas requires version '2.8.4' or newer of 'numexpr' (version '2.8.1' currently installed).\n",
      "  from pandas.core.computation.check import NUMEXPR_INSTALLED\n",
      "/Users/eylai/anaconda3/envs/lucid/lib/python3.9/site-packages/pandas/core/arrays/masked.py:60: UserWarning: Pandas requires version '1.3.6' or newer of 'bottleneck' (version '1.3.4' currently installed).\n",
      "  from pandas.core import (\n"
     ]
    },
    {
     "name": "stdout",
     "output_type": "stream",
     "text": [
      "(CVXPY) Oct 07 05:55:28 PM: Encountered unexpected exception importing solver GLOP:\n",
      "RuntimeError('Unrecognized new version of ortools (9.10.4067). Expected < 9.10.0. Please open a feature request on cvxpy to enable support for this version.')\n",
      "(CVXPY) Oct 07 05:55:28 PM: Encountered unexpected exception importing solver PDLP:\n",
      "RuntimeError('Unrecognized new version of ortools (9.10.4067). Expected < 9.10.0. Please open a feature request on cvxpy to enable support for this version.')\n"
     ]
    }
   ],
   "source": [
    "# Project path\n",
    "import sys\n",
    "import os\n",
    "ppath = sys.path[0] + '/../'\n",
    "sys.path.append(os.path.join(ppath, 'code'))\n",
    "from discretizers import *"
   ]
  },
  {
   "cell_type": "code",
   "execution_count": 45,
   "metadata": {},
   "outputs": [
    {
     "data": {
      "text/html": [
       "<div>\n",
       "<style scoped>\n",
       "    .dataframe tbody tr th:only-of-type {\n",
       "        vertical-align: middle;\n",
       "    }\n",
       "\n",
       "    .dataframe tbody tr th {\n",
       "        vertical-align: top;\n",
       "    }\n",
       "\n",
       "    .dataframe thead th {\n",
       "        text-align: right;\n",
       "    }\n",
       "</style>\n",
       "<table border=\"1\" class=\"dataframe\">\n",
       "  <thead>\n",
       "    <tr style=\"text-align: right;\">\n",
       "      <th></th>\n",
       "      <th>Pregnancies</th>\n",
       "      <th>Glucose</th>\n",
       "      <th>BloodPressure</th>\n",
       "      <th>SkinThickness</th>\n",
       "      <th>Insulin</th>\n",
       "      <th>BMI</th>\n",
       "      <th>DiabetesPedigreeFunction</th>\n",
       "      <th>Age</th>\n",
       "      <th>Outcome</th>\n",
       "    </tr>\n",
       "  </thead>\n",
       "  <tbody>\n",
       "    <tr>\n",
       "      <th>count</th>\n",
       "      <td>768.000000</td>\n",
       "      <td>768.000000</td>\n",
       "      <td>768.000000</td>\n",
       "      <td>768.000000</td>\n",
       "      <td>768.000000</td>\n",
       "      <td>768.000000</td>\n",
       "      <td>768.000000</td>\n",
       "      <td>768.000000</td>\n",
       "      <td>768.000000</td>\n",
       "    </tr>\n",
       "    <tr>\n",
       "      <th>mean</th>\n",
       "      <td>3.845052</td>\n",
       "      <td>120.894531</td>\n",
       "      <td>69.105469</td>\n",
       "      <td>20.536458</td>\n",
       "      <td>79.799479</td>\n",
       "      <td>31.992578</td>\n",
       "      <td>0.471876</td>\n",
       "      <td>33.240885</td>\n",
       "      <td>0.348958</td>\n",
       "    </tr>\n",
       "    <tr>\n",
       "      <th>std</th>\n",
       "      <td>3.369578</td>\n",
       "      <td>31.972618</td>\n",
       "      <td>19.355807</td>\n",
       "      <td>15.952218</td>\n",
       "      <td>115.244002</td>\n",
       "      <td>7.884160</td>\n",
       "      <td>0.331329</td>\n",
       "      <td>11.760232</td>\n",
       "      <td>0.476951</td>\n",
       "    </tr>\n",
       "    <tr>\n",
       "      <th>min</th>\n",
       "      <td>0.000000</td>\n",
       "      <td>0.000000</td>\n",
       "      <td>0.000000</td>\n",
       "      <td>0.000000</td>\n",
       "      <td>0.000000</td>\n",
       "      <td>0.000000</td>\n",
       "      <td>0.078000</td>\n",
       "      <td>21.000000</td>\n",
       "      <td>0.000000</td>\n",
       "    </tr>\n",
       "    <tr>\n",
       "      <th>25%</th>\n",
       "      <td>1.000000</td>\n",
       "      <td>99.000000</td>\n",
       "      <td>62.000000</td>\n",
       "      <td>0.000000</td>\n",
       "      <td>0.000000</td>\n",
       "      <td>27.300000</td>\n",
       "      <td>0.243750</td>\n",
       "      <td>24.000000</td>\n",
       "      <td>0.000000</td>\n",
       "    </tr>\n",
       "    <tr>\n",
       "      <th>50%</th>\n",
       "      <td>3.000000</td>\n",
       "      <td>117.000000</td>\n",
       "      <td>72.000000</td>\n",
       "      <td>23.000000</td>\n",
       "      <td>30.500000</td>\n",
       "      <td>32.000000</td>\n",
       "      <td>0.372500</td>\n",
       "      <td>29.000000</td>\n",
       "      <td>0.000000</td>\n",
       "    </tr>\n",
       "    <tr>\n",
       "      <th>75%</th>\n",
       "      <td>6.000000</td>\n",
       "      <td>140.250000</td>\n",
       "      <td>80.000000</td>\n",
       "      <td>32.000000</td>\n",
       "      <td>127.250000</td>\n",
       "      <td>36.600000</td>\n",
       "      <td>0.626250</td>\n",
       "      <td>41.000000</td>\n",
       "      <td>1.000000</td>\n",
       "    </tr>\n",
       "    <tr>\n",
       "      <th>max</th>\n",
       "      <td>17.000000</td>\n",
       "      <td>199.000000</td>\n",
       "      <td>122.000000</td>\n",
       "      <td>99.000000</td>\n",
       "      <td>846.000000</td>\n",
       "      <td>67.100000</td>\n",
       "      <td>2.420000</td>\n",
       "      <td>81.000000</td>\n",
       "      <td>1.000000</td>\n",
       "    </tr>\n",
       "  </tbody>\n",
       "</table>\n",
       "</div>"
      ],
      "text/plain": [
       "       Pregnancies     Glucose  BloodPressure  SkinThickness     Insulin  \\\n",
       "count   768.000000  768.000000     768.000000     768.000000  768.000000   \n",
       "mean      3.845052  120.894531      69.105469      20.536458   79.799479   \n",
       "std       3.369578   31.972618      19.355807      15.952218  115.244002   \n",
       "min       0.000000    0.000000       0.000000       0.000000    0.000000   \n",
       "25%       1.000000   99.000000      62.000000       0.000000    0.000000   \n",
       "50%       3.000000  117.000000      72.000000      23.000000   30.500000   \n",
       "75%       6.000000  140.250000      80.000000      32.000000  127.250000   \n",
       "max      17.000000  199.000000     122.000000      99.000000  846.000000   \n",
       "\n",
       "              BMI  DiabetesPedigreeFunction         Age     Outcome  \n",
       "count  768.000000                768.000000  768.000000  768.000000  \n",
       "mean    31.992578                  0.471876   33.240885    0.348958  \n",
       "std      7.884160                  0.331329   11.760232    0.476951  \n",
       "min      0.000000                  0.078000   21.000000    0.000000  \n",
       "25%     27.300000                  0.243750   24.000000    0.000000  \n",
       "50%     32.000000                  0.372500   29.000000    0.000000  \n",
       "75%     36.600000                  0.626250   41.000000    1.000000  \n",
       "max     67.100000                  2.420000   81.000000    1.000000  "
      ]
     },
     "execution_count": 45,
     "metadata": {},
     "output_type": "execute_result"
    }
   ],
   "source": [
    "df = pd.read_csv(os.path.join(ppath, 'data', 'uciml_pima-indians-diabetes-database', 'diabetes.csv'))\n",
    "df.describe()"
   ]
  },
  {
   "cell_type": "code",
   "execution_count": 53,
   "metadata": {},
   "outputs": [],
   "source": [
    "age = list(df['Age'])\n",
    "#age = age + [np.nan]\n",
    "N = len(age)\n",
    "bins0 = [0, 19, 45, 65, 85, 100]\n",
    "bins1 = [0, 10, 20, 35, 40, 50, 60, 70, 80, 90, 100]\n",
    "#bins1 = [0, 50, 60, 70, 80, 90]\n",
    "bins2 = [0, 20, 40, 60, 80, 100]\n",
    "bins3 = [0, 18, 45, 60, 80, 100]\n",
    "binning = [bins0, bins1, bins2, bins3]"
   ]
  },
  {
   "cell_type": "code",
   "execution_count": 54,
   "metadata": {},
   "outputs": [
    {
     "name": "stdout",
     "output_type": "stream",
     "text": [
      "[0.         0.82574772 0.15214564 0.02080624 0.        ]\n",
      "[0.         0.         0.63459038 0.09492848 0.15344603 0.07412224\n",
      " 0.03771131 0.00260078 0.00130039 0.        ]\n",
      "[0.         0.72951886 0.22756827 0.04031209 0.00130039]\n",
      "[0.         0.82574772 0.1313394  0.04031209 0.00130039]\n",
      "====================================\n"
     ]
    },
    {
     "data": {
      "text/plain": [
       "array([array([0.        , 0.82574772, 0.15214564, 0.02080624, 0.        ]),\n",
       "       array([0.        , 0.        , 0.63459038, 0.09492848, 0.15344603,\n",
       "              0.07412224, 0.03771131, 0.00260078, 0.00130039, 0.        ]),\n",
       "       array([0.        , 0.72951886, 0.22756827, 0.04031209, 0.00130039]),\n",
       "       array([0.        , 0.82574772, 0.1313394 , 0.04031209, 0.00130039])],\n",
       "      dtype=object)"
      ]
     },
     "execution_count": 54,
     "metadata": {},
     "output_type": "execute_result"
    }
   ],
   "source": [
    "ls = []\n",
    "for bins in binning:\n",
    "    hist, bin_edges = np.histogram(age, bins=bins)\n",
    "    distribution = hist / N\n",
    "    print(distribution)\n",
    "\n",
    "    medians, _, _ = binned_statistic(age, age, bins=bins, statistic='median')\n",
    "    medians[np.isnan(medians)] = 0\n",
    "    ls.append((medians, distribution))\n",
    "\n",
    "print(\"====================================\")\n",
    "X = np.array([ls[i][1] for i in range(len(ls))], dtype=object)\n",
    "X"
   ]
  },
  {
   "cell_type": "code",
   "execution_count": 55,
   "metadata": {},
   "outputs": [
    {
     "name": "stdout",
     "output_type": "stream",
     "text": [
      "Distance matrix [[0.         0.10351105 0.03849155 0.0083225 ]\n",
      " [0.10351105 0.         0.09986996 0.09986996]\n",
      " [0.03849155 0.09986996 0.         0.03849155]\n",
      " [0.0083225  0.09986996 0.03849155 0.        ]]\n",
      "HDBSCAN labels: [-1 -1 -1 -1]\n",
      "DBSCAN labels: [-1 -1 -1 -1]\n"
     ]
    }
   ],
   "source": [
    "# Compute custom distance matrix\n",
    "distances = pairwise_distance(X, wasserstein_distance)\n",
    "\n",
    "print(\"Distance matrix\", distances)\n",
    "# Perform HDBSCAN clustering using the custom distance matrix\n",
    "clusterer = hdbscan.HDBSCAN(metric='precomputed', min_cluster_size=2)\n",
    "labels = clusterer.fit_predict(distances)\n",
    "print(\"HDBSCAN labels:\", labels)\n",
    "\n",
    "# Perform HDBSCAN clustering using the custom distance matrix\n",
    "dbscan = DBSCAN(metric='precomputed')\n",
    "labels = dbscan.fit_predict(distances)\n",
    "print(\"DBSCAN labels:\", labels)"
   ]
  },
  {
   "cell_type": "code",
   "execution_count": 57,
   "metadata": {},
   "outputs": [
    {
     "data": {
      "text/plain": [
       "{'icoord': [[25.0, 25.0, 35.0, 35.0],\n",
       "  [15.0, 15.0, 30.0, 30.0],\n",
       "  [5.0, 5.0, 22.5, 22.5]],\n",
       " 'dcoord': [[0.0, 0.012320124090847349, 0.012320124090847349, 0.0],\n",
       "  [0.0, 0.07157329563188304, 0.07157329563188304, 0.012320124090847349],\n",
       "  [0.0, 0.21407839251909383, 0.21407839251909383, 0.07157329563188304]],\n",
       " 'ivl': ['1', '2', '0', '3'],\n",
       " 'leaves': [1, 2, 0, 3],\n",
       " 'color_list': ['C1', 'C1', 'C0'],\n",
       " 'leaves_color_list': ['C0', 'C1', 'C1', 'C1']}"
      ]
     },
     "execution_count": 57,
     "metadata": {},
     "output_type": "execute_result"
    },
    {
     "data": {
      "image/png": "[encoded data removed]",
      "text/plain": [
       "<Figure size 432x288 with 1 Axes>"
      ]
     },
     "metadata": {
      "needs_background": "light"
     },
     "output_type": "display_data"
    }
   ],
   "source": [
    "# Perform hierarchical clustering\n",
    "Z = linkage(distances, method='ward')\n",
    "\n",
    "# Plot dendrogram\n",
    "dendrogram(Z)"
   ]
  },
  {
   "cell_type": "markdown",
   "metadata": {},
   "source": [
    "'leaves': index in X  \n",
    "'leaves_color_list': labels"
   ]
  },
  {
   "cell_type": "code",
   "execution_count": 69,
   "metadata": {},
   "outputs": [
    {
     "data": {
      "text/plain": [
       "array([1, 2, 1, 1], dtype=int32)"
      ]
     },
     "execution_count": 69,
     "metadata": {},
     "output_type": "execute_result"
    }
   ],
   "source": [
    "fcluster(Z, 2, criterion='maxclust')"
   ]
  },
  {
   "cell_type": "code",
   "execution_count": 61,
   "metadata": {},
   "outputs": [
    {
     "data": {
      "text/plain": [
       "{'icoord': [[25.0, 25.0, 35.0, 35.0],\n",
       "  [15.0, 15.0, 30.0, 30.0],\n",
       "  [5.0, 5.0, 22.5, 22.5]],\n",
       " 'dcoord': [[0.0, 0.012320124090847349, 0.012320124090847349, 0.0],\n",
       "  [0.0, 0.07157329563188304, 0.07157329563188304, 0.012320124090847349],\n",
       "  [0.0, 0.21407839251909383, 0.21407839251909383, 0.07157329563188304]],\n",
       " 'ivl': ['1', '2', '0', '3'],\n",
       " 'leaves': [1, 2, 0, 3],\n",
       " 'color_list': ['C1', 'C1', 'C0'],\n",
       " 'leaves_color_list': ['C0', 'C1', 'C1', 'C1']}"
      ]
     },
     "execution_count": 61,
     "metadata": {},
     "output_type": "execute_result"
    },
    {
     "data": {
      "image/png": "[encoded data removed]",
      "text/plain": [
       "<Figure size 432x288 with 1 Axes>"
      ]
     },
     "metadata": {
      "needs_background": "light"
     },
     "output_type": "display_data"
    }
   ],
   "source": [
    "dendrogram(Z)"
   ]
  },
  {
   "cell_type": "code",
   "execution_count": null,
   "metadata": {},
   "outputs": [],
   "source": []
  }
 ],
 "metadata": {
  "kernelspec": {
   "display_name": "lucid",
   "language": "python",
   "name": "python3"
  },
  "language_info": {
   "codemirror_mode": {
    "name": "ipython",
    "version": 3
   },
   "file_extension": ".py",
   "mimetype": "text/x-python",
   "name": "python",
   "nbconvert_exporter": "python",
   "pygments_lexer": "ipython3",
   "version": "3.9.12"
  }
 },
 "nbformat": 4,
 "nbformat_minor": 2
}
