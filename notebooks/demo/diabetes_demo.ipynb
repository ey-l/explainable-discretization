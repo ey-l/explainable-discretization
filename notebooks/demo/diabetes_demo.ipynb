{
 "cells": [
  {
   "cell_type": "code",
   "execution_count": 3,
   "metadata": {},
   "outputs": [],
   "source": [
    "import pandas as pd\n",
    "import numpy as np\n",
    "import sys\n",
    "import os\n",
    "import matplotlib.pyplot as plt\n",
    "import os\n",
    "import warnings\n",
    "warnings.filterwarnings('ignore')\n",
    "\n",
    "# Project path\n",
    "ppath = sys.path[0] + '/../../'"
   ]
  },
  {
   "cell_type": "code",
   "execution_count": null,
   "metadata": {},
   "outputs": [],
   "source": [
    "df = pd.read_csv(os.path.join(ppath, 'data', 'pima', 'diabetes.csv'))\n",
    "df.head()"
   ]
  },
  {
   "cell_type": "code",
   "execution_count": null,
   "metadata": {},
   "outputs": [],
   "source": [
    "df = pd.read_csv(os.path.join(ppath, 'data', 'pima', 'diabetes.csv'))\n",
    "age_max = 60\n",
    "df = df[df['Age'] != 0]\n",
    "df = df[df['Age'] < age_max] \n",
    "col = \"Age\"\n",
    "\n",
    "gap = 5\n",
    "bins = [i for i in range(0, age_max+1, gap)]\n",
    "labels = [f\"{i}-{i+gap}\" for i in range(0, age_max, gap)]\n",
    "\n",
    "df[col + '.binned'] = pd.cut(df[col], bins=bins, labels=labels)\n",
    "df['diabetes'] = df['Outcome']\n",
    "df = df[[col + '.binned', 'diabetes']]\n",
    "df = df.groupby(col + '.binned').mean()\n",
    "df = df.reset_index()\n",
    "\n",
    "# plot bar chart\n",
    "plt.bar(df[col + '.binned'], df['diabetes'])\n",
    "plt.ylabel('Percentage of diabetes', fontsize=18)\n",
    "plt.xticks(fontsize=16, rotation=30)\n",
    "plt.yticks(fontsize=16)\n",
    "plt.show()"
   ]
  },
  {
   "cell_type": "code",
   "execution_count": 5,
   "metadata": {},
   "outputs": [
    {
     "data": {
      "image/png": "[encoded data removed]",
      "text/plain": [
       "<Figure size 432x288 with 1 Axes>"
      ]
     },
     "metadata": {
      "needs_background": "light"
     },
     "output_type": "display_data"
    }
   ],
   "source": [
    "df = pd.read_csv(os.path.join(ppath, 'data', 'pima', 'diabetes.csv'))\n",
    "age_max = 60\n",
    "df = df[df['Age'] != 0]\n",
    "df = df[df['Age'] < age_max] \n",
    "col = \"Age\"\n",
    "\n",
    "bins = [0, 19, 35, 45, 65]\n",
    "labels = ['0-18', '19-35\\nYoung adult', '35-45\\nAdult', '45-65\\nMiddle-aged']\n",
    "#labels[-1] = f\"{age_max-gap}-{age_max}\"\n",
    "\n",
    "df[col + '.binned'] = pd.cut(df[col], bins=bins, labels=labels)\n",
    "# calculate the percentage of diabetes for each bin\n",
    "df['diabetes'] = df['Outcome']\n",
    "df = df[[col + '.binned', 'diabetes']]\n",
    "df = df.groupby(col + '.binned').mean()\n",
    "df = df.reset_index()\n",
    "# plot bar chart\n",
    "plt.bar(df[col + '.binned'], df['diabetes'])\n",
    "plt.ylabel('Percentage of diabetes', fontsize=18)\n",
    "# rotate x-axis labels\n",
    "plt.xticks(fontsize=16)\n",
    "plt.yticks(fontsize=16)\n",
    "# save figure\n",
    "plt.show()"
   ]
  },
  {
   "cell_type": "code",
   "execution_count": null,
   "metadata": {},
   "outputs": [],
   "source": []
  }
 ],
 "metadata": {
  "kernelspec": {
   "display_name": "lucid",
   "language": "python",
   "name": "python3"
  },
  "language_info": {
   "codemirror_mode": {
    "name": "ipython",
    "version": 3
   },
   "file_extension": ".py",
   "mimetype": "text/x-python",
   "name": "python",
   "nbconvert_exporter": "python",
   "pygments_lexer": "ipython3",
   "version": "3.9.12"
  }
 },
 "nbformat": 4,
 "nbformat_minor": 2
}
